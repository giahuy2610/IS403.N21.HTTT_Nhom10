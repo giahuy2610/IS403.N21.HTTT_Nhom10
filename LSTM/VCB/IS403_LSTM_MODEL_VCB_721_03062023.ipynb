{
 "cells": [
  {
   "cell_type": "code",
   "execution_count": 1,
   "metadata": {},
   "outputs": [],
   "source": [
    "# 1. Import thư viện cần thiết\n",
    "import numpy as np\n",
    "import pandas as pd\n",
    "import matplotlib.pyplot as plt\n",
    "from sklearn.preprocessing import MinMaxScaler, StandardScaler\n",
    "from sklearn.metrics import mean_absolute_percentage_error,mean_squared_error,mean_absolute_error\n",
    "from keras.models import Sequential\n",
    "from keras.layers import Dense, LSTM, Dropout"
   ]
  },
  {
   "cell_type": "code",
   "execution_count": 2,
   "metadata": {},
   "outputs": [],
   "source": [
    "#Đọc data\n",
    "df = pd.read_csv('../VCB-Historical-Data.csv',index_col=0,parse_dates=True).sort_values(by='Date',ascending=True)\n",
    "df = df[['Price']]"
   ]
  },
  {
   "cell_type": "code",
   "execution_count": 3,
   "metadata": {},
   "outputs": [
    {
     "data": {
      "text/html": [
       "<div>\n",
       "<style scoped>\n",
       "    .dataframe tbody tr th:only-of-type {\n",
       "        vertical-align: middle;\n",
       "    }\n",
       "\n",
       "    .dataframe tbody tr th {\n",
       "        vertical-align: top;\n",
       "    }\n",
       "\n",
       "    .dataframe thead th {\n",
       "        text-align: right;\n",
       "    }\n",
       "</style>\n",
       "<table border=\"1\" class=\"dataframe\">\n",
       "  <thead>\n",
       "    <tr style=\"text-align: right;\">\n",
       "      <th></th>\n",
       "      <th>Price</th>\n",
       "    </tr>\n",
       "    <tr>\n",
       "      <th>Date</th>\n",
       "      <th></th>\n",
       "    </tr>\n",
       "  </thead>\n",
       "  <tbody>\n",
       "    <tr>\n",
       "      <th>2019-01-02</th>\n",
       "      <td>41,161</td>\n",
       "    </tr>\n",
       "    <tr>\n",
       "      <th>2019-01-03</th>\n",
       "      <td>41,161</td>\n",
       "    </tr>\n",
       "    <tr>\n",
       "      <th>2019-01-04</th>\n",
       "      <td>41,775</td>\n",
       "    </tr>\n",
       "    <tr>\n",
       "      <th>2019-01-07</th>\n",
       "      <td>41,929</td>\n",
       "    </tr>\n",
       "    <tr>\n",
       "      <th>2019-01-08</th>\n",
       "      <td>42,236</td>\n",
       "    </tr>\n",
       "    <tr>\n",
       "      <th>...</th>\n",
       "      <td>...</td>\n",
       "    </tr>\n",
       "    <tr>\n",
       "      <th>2023-06-12</th>\n",
       "      <td>101,000</td>\n",
       "    </tr>\n",
       "    <tr>\n",
       "      <th>2023-06-13</th>\n",
       "      <td>102,500</td>\n",
       "    </tr>\n",
       "    <tr>\n",
       "      <th>2023-06-14</th>\n",
       "      <td>102,600</td>\n",
       "    </tr>\n",
       "    <tr>\n",
       "      <th>2023-06-15</th>\n",
       "      <td>103,500</td>\n",
       "    </tr>\n",
       "    <tr>\n",
       "      <th>2023-06-16</th>\n",
       "      <td>105,000</td>\n",
       "    </tr>\n",
       "  </tbody>\n",
       "</table>\n",
       "<p>1112 rows × 1 columns</p>\n",
       "</div>"
      ],
      "text/plain": [
       "              Price\n",
       "Date               \n",
       "2019-01-02   41,161\n",
       "2019-01-03   41,161\n",
       "2019-01-04   41,775\n",
       "2019-01-07   41,929\n",
       "2019-01-08   42,236\n",
       "...             ...\n",
       "2023-06-12  101,000\n",
       "2023-06-13  102,500\n",
       "2023-06-14  102,600\n",
       "2023-06-15  103,500\n",
       "2023-06-16  105,000\n",
       "\n",
       "[1112 rows x 1 columns]"
      ]
     },
     "execution_count": 3,
     "metadata": {},
     "output_type": "execute_result"
    }
   ],
   "source": [
    "df"
   ]
  },
  {
   "cell_type": "code",
   "execution_count": 4,
   "metadata": {},
   "outputs": [],
   "source": [
    "#Xóa dấu , và chuyển về float\n",
    "df['Price']=df['Price'].replace(',','',regex=True).astype(float)"
   ]
  },
  {
   "cell_type": "code",
   "execution_count": 5,
   "metadata": {},
   "outputs": [],
   "source": [
    "# 3. Scaler data\n",
    "scaler=MinMaxScaler()\n",
    "df=scaler.fit_transform(np.array(df).reshape(-1,1))"
   ]
  },
  {
   "cell_type": "code",
   "execution_count": 6,
   "metadata": {},
   "outputs": [],
   "source": [
    "# 4. Chia train test val theo tỉ lệ 7-2-1\n",
    "train_size = int(0.7 * len(df))\n",
    "test_size = int(0.2 * len(df))\n",
    "val_size = len(df) - train_size - test_size\n",
    "\n",
    "train_data = df[:train_size]\n",
    "test_data = df[train_size:train_size+test_size]\n",
    "val_data = df[train_size+test_size:]"
   ]
  },
  {
   "cell_type": "code",
   "execution_count": 7,
   "metadata": {},
   "outputs": [],
   "source": [
    "# 5. Hàm Create Dataset\n",
    "#window sliding\n",
    "def create_dataset(dataset, time_step=1):\n",
    "\tdataX, dataY = [], []\n",
    "\tfor i in range(len(dataset)-time_step-1):\n",
    "\t\ta = dataset[i:(i+time_step), 0]   \n",
    "\t\tdataX.append(a)\n",
    "\t\tdataY.append(dataset[i + time_step, 0])\n",
    "\treturn np.array(dataX),np.array(dataY)"
   ]
  },
  {
   "cell_type": "code",
   "execution_count": 8,
   "metadata": {},
   "outputs": [],
   "source": [
    "#6. Reshape into X=t,t+1,t+2..t+39 and Y=t+40\n",
    "time_step = 40\n",
    "X_train, y_train = create_dataset(train_data, time_step)\n",
    "X_val, yval = create_dataset(val_data, time_step)\n",
    "X_test, ytest = create_dataset(test_data, time_step)"
   ]
  },
  {
   "cell_type": "code",
   "execution_count": 9,
   "metadata": {},
   "outputs": [],
   "source": [
    "# 7. Reshape input to be [samples, time steps, features] which is required for LSTM\n",
    "X_train =X_train.reshape(X_train.shape[0],X_train.shape[1] , 1)\n",
    "X_test = X_test.reshape(X_test.shape[0],X_test.shape[1] , 1)\n",
    "X_val = X_val.reshape(X_val.shape[0],X_val.shape[1] , 1)"
   ]
  },
  {
   "cell_type": "code",
   "execution_count": 10,
   "metadata": {},
   "outputs": [],
   "source": [
    "# 8. Define LSTM Model\n",
    "model=Sequential()\n",
    "model.add(LSTM(50,return_sequences=True,input_shape=(40,1)))\n",
    "model.add(Dropout(0.2))\n",
    "model.add(LSTM(50,return_sequences=True))\n",
    "model.add(Dropout(0.2))\n",
    "model.add(LSTM(50))\n",
    "model.add(Dropout(0.2))\n",
    "model.add(Dense(1))\n",
    "model.compile(loss='mean_squared_error',optimizer='adam')"
   ]
  },
  {
   "cell_type": "code",
   "execution_count": 11,
   "metadata": {},
   "outputs": [
    {
     "name": "stdout",
     "output_type": "stream",
     "text": [
      "Epoch 1/100\n",
      "12/12 [==============================] - 23s 484ms/step - loss: 0.0232 - val_loss: 0.0040\n",
      "Epoch 2/100\n",
      "12/12 [==============================] - 2s 134ms/step - loss: 0.0139 - val_loss: 0.0097\n",
      "Epoch 3/100\n",
      "12/12 [==============================] - 1s 108ms/step - loss: 0.0202 - val_loss: 0.0066\n",
      "Epoch 4/100\n",
      "12/12 [==============================] - 1s 109ms/step - loss: 0.0079 - val_loss: 0.0049\n",
      "Epoch 5/100\n",
      "12/12 [==============================] - 1s 108ms/step - loss: 0.0053 - val_loss: 0.0040\n",
      "Epoch 6/100\n",
      "12/12 [==============================] - 1s 104ms/step - loss: 0.0057 - val_loss: 0.0039\n",
      "Epoch 7/100\n",
      "12/12 [==============================] - 2s 165ms/step - loss: 0.0052 - val_loss: 0.0039\n",
      "Epoch 8/100\n",
      "12/12 [==============================] - 2s 160ms/step - loss: 0.0049 - val_loss: 0.0037\n",
      "Epoch 9/100\n",
      "12/12 [==============================] - 3s 225ms/step - loss: 0.0050 - val_loss: 0.0036\n",
      "Epoch 10/100\n",
      "12/12 [==============================] - 2s 175ms/step - loss: 0.0050 - val_loss: 0.0036\n",
      "Epoch 11/100\n",
      "12/12 [==============================] - 2s 154ms/step - loss: 0.0052 - val_loss: 0.0035\n",
      "Epoch 12/100\n",
      "12/12 [==============================] - 1s 110ms/step - loss: 0.0056 - val_loss: 0.0035\n",
      "Epoch 13/100\n",
      "12/12 [==============================] - 1s 102ms/step - loss: 0.0061 - val_loss: 0.0041\n",
      "Epoch 14/100\n",
      "12/12 [==============================] - 1s 108ms/step - loss: 0.0060 - val_loss: 0.0047\n",
      "Epoch 15/100\n",
      "12/12 [==============================] - 2s 141ms/step - loss: 0.0049 - val_loss: 0.0035\n",
      "Epoch 16/100\n",
      "12/12 [==============================] - 1s 100ms/step - loss: 0.0037 - val_loss: 0.0033\n",
      "Epoch 17/100\n",
      "12/12 [==============================] - 2s 136ms/step - loss: 0.0045 - val_loss: 0.0030\n",
      "Epoch 18/100\n",
      "12/12 [==============================] - 2s 179ms/step - loss: 0.0041 - val_loss: 0.0030\n",
      "Epoch 19/100\n",
      "12/12 [==============================] - 2s 175ms/step - loss: 0.0044 - val_loss: 0.0031\n",
      "Epoch 20/100\n",
      "12/12 [==============================] - 2s 188ms/step - loss: 0.0049 - val_loss: 0.0044\n",
      "Epoch 21/100\n",
      "12/12 [==============================] - 3s 220ms/step - loss: 0.0047 - val_loss: 0.0031\n",
      "Epoch 22/100\n",
      "12/12 [==============================] - 2s 140ms/step - loss: 0.0038 - val_loss: 0.0027\n",
      "Epoch 23/100\n",
      "12/12 [==============================] - 1s 124ms/step - loss: 0.0032 - val_loss: 0.0025\n",
      "Epoch 24/100\n",
      "12/12 [==============================] - 1s 123ms/step - loss: 0.0033 - val_loss: 0.0025\n",
      "Epoch 25/100\n",
      "12/12 [==============================] - 1s 102ms/step - loss: 0.0036 - val_loss: 0.0025\n",
      "Epoch 26/100\n",
      "12/12 [==============================] - 1s 119ms/step - loss: 0.0039 - val_loss: 0.0025\n",
      "Epoch 27/100\n",
      "12/12 [==============================] - 1s 109ms/step - loss: 0.0040 - val_loss: 0.0029\n",
      "Epoch 28/100\n",
      "12/12 [==============================] - 2s 155ms/step - loss: 0.0042 - val_loss: 0.0033\n",
      "Epoch 29/100\n",
      "12/12 [==============================] - 2s 153ms/step - loss: 0.0036 - val_loss: 0.0024\n",
      "Epoch 30/100\n",
      "12/12 [==============================] - 2s 209ms/step - loss: 0.0033 - val_loss: 0.0023\n",
      "Epoch 31/100\n",
      "12/12 [==============================] - 2s 169ms/step - loss: 0.0031 - val_loss: 0.0022\n",
      "Epoch 32/100\n",
      "12/12 [==============================] - 2s 173ms/step - loss: 0.0034 - val_loss: 0.0022\n",
      "Epoch 33/100\n",
      "12/12 [==============================] - 2s 160ms/step - loss: 0.0031 - val_loss: 0.0022\n",
      "Epoch 34/100\n",
      "12/12 [==============================] - 2s 178ms/step - loss: 0.0030 - val_loss: 0.0025\n",
      "Epoch 35/100\n",
      "12/12 [==============================] - 2s 195ms/step - loss: 0.0028 - val_loss: 0.0020\n",
      "Epoch 36/100\n",
      "12/12 [==============================] - 2s 165ms/step - loss: 0.0027 - val_loss: 0.0023\n",
      "Epoch 37/100\n",
      "12/12 [==============================] - 2s 194ms/step - loss: 0.0033 - val_loss: 0.0037\n",
      "Epoch 38/100\n",
      "12/12 [==============================] - 2s 177ms/step - loss: 0.0029 - val_loss: 0.0022\n",
      "Epoch 39/100\n",
      "12/12 [==============================] - 2s 159ms/step - loss: 0.0037 - val_loss: 0.0026\n",
      "Epoch 40/100\n",
      "12/12 [==============================] - 2s 156ms/step - loss: 0.0035 - val_loss: 0.0037\n",
      "Epoch 41/100\n",
      "12/12 [==============================] - 2s 175ms/step - loss: 0.0034 - val_loss: 0.0029\n",
      "Epoch 42/100\n",
      "12/12 [==============================] - 2s 179ms/step - loss: 0.0029 - val_loss: 0.0019\n",
      "Epoch 43/100\n",
      "12/12 [==============================] - 2s 195ms/step - loss: 0.0027 - val_loss: 0.0019\n",
      "Epoch 44/100\n",
      "12/12 [==============================] - 2s 183ms/step - loss: 0.0026 - val_loss: 0.0019\n",
      "Epoch 45/100\n",
      "12/12 [==============================] - 2s 194ms/step - loss: 0.0030 - val_loss: 0.0020\n",
      "Epoch 46/100\n",
      "12/12 [==============================] - 2s 156ms/step - loss: 0.0028 - val_loss: 0.0022\n",
      "Epoch 47/100\n",
      "12/12 [==============================] - 2s 142ms/step - loss: 0.0028 - val_loss: 0.0018\n",
      "Epoch 48/100\n",
      "12/12 [==============================] - 2s 165ms/step - loss: 0.0024 - val_loss: 0.0019\n",
      "Epoch 49/100\n",
      "12/12 [==============================] - 2s 176ms/step - loss: 0.0026 - val_loss: 0.0020\n",
      "Epoch 50/100\n",
      "12/12 [==============================] - 2s 143ms/step - loss: 0.0029 - val_loss: 0.0020\n",
      "Epoch 51/100\n",
      "12/12 [==============================] - 2s 146ms/step - loss: 0.0028 - val_loss: 0.0020\n",
      "Epoch 52/100\n",
      "12/12 [==============================] - 2s 146ms/step - loss: 0.0026 - val_loss: 0.0019\n",
      "Epoch 53/100\n",
      "12/12 [==============================] - 2s 145ms/step - loss: 0.0024 - val_loss: 0.0020\n",
      "Epoch 54/100\n",
      "12/12 [==============================] - 2s 171ms/step - loss: 0.0024 - val_loss: 0.0017\n",
      "Epoch 55/100\n",
      "12/12 [==============================] - 2s 169ms/step - loss: 0.0027 - val_loss: 0.0018\n",
      "Epoch 56/100\n",
      "12/12 [==============================] - 2s 137ms/step - loss: 0.0028 - val_loss: 0.0018\n",
      "Epoch 57/100\n",
      "12/12 [==============================] - 2s 129ms/step - loss: 0.0025 - val_loss: 0.0018\n",
      "Epoch 58/100\n",
      "12/12 [==============================] - 2s 138ms/step - loss: 0.0022 - val_loss: 0.0018\n",
      "Epoch 59/100\n",
      "12/12 [==============================] - 2s 140ms/step - loss: 0.0023 - val_loss: 0.0017\n",
      "Epoch 60/100\n",
      "12/12 [==============================] - 2s 153ms/step - loss: 0.0023 - val_loss: 0.0018\n",
      "Epoch 61/100\n",
      "12/12 [==============================] - 2s 132ms/step - loss: 0.0024 - val_loss: 0.0018\n",
      "Epoch 62/100\n",
      "12/12 [==============================] - 2s 136ms/step - loss: 0.0024 - val_loss: 0.0017\n",
      "Epoch 63/100\n",
      "12/12 [==============================] - 2s 145ms/step - loss: 0.0023 - val_loss: 0.0017\n",
      "Epoch 64/100\n",
      "12/12 [==============================] - 2s 158ms/step - loss: 0.0025 - val_loss: 0.0018\n",
      "Epoch 65/100\n",
      "12/12 [==============================] - 2s 154ms/step - loss: 0.0027 - val_loss: 0.0022\n",
      "Epoch 66/100\n",
      "12/12 [==============================] - 2s 156ms/step - loss: 0.0030 - val_loss: 0.0024\n",
      "Epoch 67/100\n",
      "12/12 [==============================] - 2s 184ms/step - loss: 0.0032 - val_loss: 0.0025\n",
      "Epoch 68/100\n",
      "12/12 [==============================] - 2s 147ms/step - loss: 0.0027 - val_loss: 0.0036\n",
      "Epoch 69/100\n",
      "12/12 [==============================] - 2s 165ms/step - loss: 0.0026 - val_loss: 0.0016\n",
      "Epoch 70/100\n",
      "12/12 [==============================] - 2s 151ms/step - loss: 0.0024 - val_loss: 0.0017\n",
      "Epoch 71/100\n",
      "12/12 [==============================] - 2s 178ms/step - loss: 0.0024 - val_loss: 0.0020\n",
      "Epoch 72/100\n",
      "12/12 [==============================] - 2s 172ms/step - loss: 0.0022 - val_loss: 0.0016\n",
      "Epoch 73/100\n",
      "12/12 [==============================] - 2s 147ms/step - loss: 0.0020 - val_loss: 0.0016\n",
      "Epoch 74/100\n",
      "12/12 [==============================] - 2s 158ms/step - loss: 0.0022 - val_loss: 0.0018\n",
      "Epoch 75/100\n",
      "12/12 [==============================] - 2s 131ms/step - loss: 0.0023 - val_loss: 0.0017\n",
      "Epoch 76/100\n",
      "12/12 [==============================] - 2s 135ms/step - loss: 0.0025 - val_loss: 0.0021\n",
      "Epoch 77/100\n",
      "12/12 [==============================] - 1s 123ms/step - loss: 0.0026 - val_loss: 0.0022\n",
      "Epoch 78/100\n",
      "12/12 [==============================] - 1s 125ms/step - loss: 0.0023 - val_loss: 0.0016\n",
      "Epoch 79/100\n",
      "12/12 [==============================] - 2s 135ms/step - loss: 0.0021 - val_loss: 0.0015\n",
      "Epoch 80/100\n",
      "12/12 [==============================] - 2s 127ms/step - loss: 0.0017 - val_loss: 0.0016\n",
      "Epoch 81/100\n",
      "12/12 [==============================] - 2s 139ms/step - loss: 0.0022 - val_loss: 0.0015\n",
      "Epoch 82/100\n",
      "12/12 [==============================] - 1s 121ms/step - loss: 0.0020 - val_loss: 0.0016\n",
      "Epoch 83/100\n",
      "12/12 [==============================] - 2s 129ms/step - loss: 0.0023 - val_loss: 0.0019\n",
      "Epoch 84/100\n",
      "12/12 [==============================] - 1s 122ms/step - loss: 0.0026 - val_loss: 0.0024\n",
      "Epoch 85/100\n",
      "12/12 [==============================] - 2s 134ms/step - loss: 0.0023 - val_loss: 0.0019\n",
      "Epoch 86/100\n",
      "12/12 [==============================] - 1s 117ms/step - loss: 0.0019 - val_loss: 0.0015\n",
      "Epoch 87/100\n",
      "12/12 [==============================] - 1s 114ms/step - loss: 0.0020 - val_loss: 0.0016\n",
      "Epoch 88/100\n",
      "12/12 [==============================] - 1s 126ms/step - loss: 0.0020 - val_loss: 0.0015\n",
      "Epoch 89/100\n",
      "12/12 [==============================] - 1s 96ms/step - loss: 0.0021 - val_loss: 0.0018\n",
      "Epoch 90/100\n",
      "12/12 [==============================] - 1s 95ms/step - loss: 0.0019 - val_loss: 0.0017\n",
      "Epoch 91/100\n",
      "12/12 [==============================] - 1s 112ms/step - loss: 0.0018 - val_loss: 0.0014\n",
      "Epoch 92/100\n",
      "12/12 [==============================] - 1s 108ms/step - loss: 0.0020 - val_loss: 0.0017\n",
      "Epoch 93/100\n",
      "12/12 [==============================] - 1s 111ms/step - loss: 0.0023 - val_loss: 0.0020\n",
      "Epoch 94/100\n",
      "12/12 [==============================] - 1s 96ms/step - loss: 0.0020 - val_loss: 0.0022\n",
      "Epoch 95/100\n",
      "12/12 [==============================] - 1s 96ms/step - loss: 0.0018 - val_loss: 0.0015\n",
      "Epoch 96/100\n",
      "12/12 [==============================] - 2s 143ms/step - loss: 0.0018 - val_loss: 0.0014\n",
      "Epoch 97/100\n",
      "12/12 [==============================] - 2s 147ms/step - loss: 0.0019 - val_loss: 0.0014\n",
      "Epoch 98/100\n",
      "12/12 [==============================] - 1s 122ms/step - loss: 0.0018 - val_loss: 0.0015\n",
      "Epoch 99/100\n",
      "12/12 [==============================] - 1s 103ms/step - loss: 0.0019 - val_loss: 0.0014\n",
      "Epoch 100/100\n",
      "12/12 [==============================] - 1s 94ms/step - loss: 0.0020 - val_loss: 0.0014\n"
     ]
    },
    {
     "data": {
      "text/plain": [
       "<keras.callbacks.History at 0x1f5ea588050>"
      ]
     },
     "execution_count": 11,
     "metadata": {},
     "output_type": "execute_result"
    }
   ],
   "source": [
    "# 9. Fit mô hình với dữ liệu train\n",
    "model.fit(X_train,y_train,validation_data=(X_test,ytest),epochs=100,batch_size=64,verbose=1,shuffle=False)"
   ]
  },
  {
   "cell_type": "code",
   "execution_count": 12,
   "metadata": {},
   "outputs": [
    {
     "name": "stdout",
     "output_type": "stream",
     "text": [
      "24/24 [==============================] - 4s 18ms/step\n",
      "6/6 [==============================] - 0s 17ms/step\n",
      "3/3 [==============================] - 0s 54ms/step\n"
     ]
    }
   ],
   "source": [
    "# 10. Dự báo dữ liệu test, val\n",
    "train_predict=model.predict(X_train)\n",
    "y_pred=model.predict(X_test)\n",
    "y_pred_val=model.predict(X_val)"
   ]
  },
  {
   "cell_type": "code",
   "execution_count": 13,
   "metadata": {},
   "outputs": [],
   "source": [
    "# 11. Chuẩn hóa dữ liệu y_pred, y_pred_val\n",
    "train_predict=scaler.inverse_transform(train_predict)\n",
    "y_pred=scaler.inverse_transform(y_pred)\n",
    "y_pred_val=scaler.inverse_transform(y_pred_val)"
   ]
  },
  {
   "cell_type": "code",
   "execution_count": 14,
   "metadata": {},
   "outputs": [],
   "source": [
    "ytest=scaler.inverse_transform(ytest.reshape(-1,1))\n",
    "yval=scaler.inverse_transform(yval.reshape(-1,1))"
   ]
  },
  {
   "cell_type": "code",
   "execution_count": 15,
   "metadata": {},
   "outputs": [],
   "source": [
    "# Tính độ đo MDA trên tập test\n",
    "test_actual_direction = np.sign(ytest[1:] - ytest[:-1])\n",
    "test_pred_direction = np.sign(y_pred[1:] - y_pred[:-1])\n",
    "test_correct = np.where(test_actual_direction == test_pred_direction, 1, 0)\n",
    "test_mda = np.mean(test_correct)\n",
    "# Tính độ đo MDA trên tập validation\n",
    "val_actual_direction = np.sign(yval[1:] - yval[:-1])\n",
    "val_pred_direction = np.sign(y_pred_val[1:] - y_pred_val[:-1])\n",
    "val_correct = np.where(val_actual_direction == val_pred_direction, 1, 0)\n",
    "val_mda = np.mean(val_correct)"
   ]
  },
  {
   "cell_type": "code",
   "execution_count": 16,
   "metadata": {},
   "outputs": [
    {
     "name": "stdout",
     "output_type": "stream",
     "text": [
      "Validation RMSE: 1755.77\n",
      "Testing RMSE: 2404.30\n",
      "Validation MAPE: 1.46%\n",
      "Testing MAPE: 2.41%\n",
      "Validation MDA: 43.89\n",
      "Testing MDA: 45.71\n"
     ]
    }
   ],
   "source": [
    "#Tính độ đo\n",
    "valid_rmse = np.sqrt(np.mean((y_pred_val - yval)**2))\n",
    "test_rmse = np.sqrt(np.mean((y_pred - ytest)**2))\n",
    "valid_mape = np.mean(np.abs(y_pred_val - yval)/np.abs(yval))  # MAPE\n",
    "test_mape = np.mean(np.abs(y_pred - ytest)/np.abs(ytest))  # MAPE\n",
    "print(f\"Validation RMSE: {valid_rmse:.2f}\")\n",
    "print(f\"Testing RMSE: {test_rmse:.2f}\")\n",
    "print(f\"Validation MAPE: {valid_mape* 100:.2f}%\")\n",
    "print(f\"Testing MAPE: {test_mape*100:.2f}%\")\n",
    "print(f\"Validation MDA: {test_mda*100:.2f}\")\n",
    "print(f\"Testing MDA: {val_mda*100:.2f}\")"
   ]
  },
  {
   "cell_type": "code",
   "execution_count": 17,
   "metadata": {},
   "outputs": [],
   "source": [
    "df = pd.read_csv('../VCB-Historical-Data.csv',index_col=0,parse_dates=True).sort_values(by='Date',ascending=True)"
   ]
  },
  {
   "cell_type": "code",
   "execution_count": 18,
   "metadata": {},
   "outputs": [
    {
     "data": {
      "image/png": "[encoded data removed]",
      "text/plain": [
       "<Figure size 1200x600 with 1 Axes>"
      ]
     },
     "metadata": {},
     "output_type": "display_data"
    }
   ],
   "source": [
    "# 14.Vẽ hình\n",
    "plt.figure(figsize=(12,6))\n",
    "plt.ylabel('Closing Price');\n",
    "plt.xlabel('Date');\n",
    "plt.title('LSTM VCB 7-2-1')\n",
    "train_index = df[:train_size].index\n",
    "plt.plot(train_index,scaler.inverse_transform(train_data))\n",
    "#test\n",
    "test_index = df[train_size:train_size+test_size].index\n",
    "plt.plot(test_index,scaler.inverse_transform(test_data))\n",
    "#test predict\n",
    "test_predict_index = df[train_size+41:train_size+test_size].index\n",
    "plt.plot(test_predict_index,(y_pred))\n",
    "#val\n",
    "val_index = df[train_size+test_size:train_size+test_size+val_size].index\n",
    "plt.plot(val_index,scaler.inverse_transform(val_data))\n",
    "#val predict\n",
    "val_predict_index = df[train_size+test_size+41:train_size+test_size+val_size].index\n",
    "plt.plot(val_predict_index,y_pred_val)\n",
    "#prediect_data_index = pd.RangeIndex(start=len(df)-1, stop=len(df)+29, step=1)\n",
    "#plt.plot(prediect_data_index,scaler.inverse_transform(lst_output))\n",
    "plt.legend(['Train','Test','Predict','Validate','ValidatePred'])\n",
    "plt.show()"
   ]
  }
 ],
 "metadata": {
  "kernelspec": {
   "display_name": "Python 3",
   "language": "python",
   "name": "python3"
  },
  "language_info": {
   "codemirror_mode": {
    "name": "ipython",
    "version": 3
   },
   "file_extension": ".py",
   "mimetype": "text/x-python",
   "name": "python",
   "nbconvert_exporter": "python",
   "pygments_lexer": "ipython3",
   "version": "3.11.3"
  },
  "orig_nbformat": 4
 },
 "nbformat": 4,
 "nbformat_minor": 2
}
