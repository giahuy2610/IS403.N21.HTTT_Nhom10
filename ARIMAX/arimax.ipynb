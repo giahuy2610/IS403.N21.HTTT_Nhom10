{
 "cells": [
  {
   "cell_type": "code",
   "execution_count": 349,
   "metadata": {},
   "outputs": [],
   "source": [
    "#import các thư viện\n",
    "import pandas as pd\n",
    "import numpy as np\n",
    "%matplotlib inline \n",
    "#to plot the whatever graphic\n",
    "import matplotlib.pyplot as plt #plot data\n",
    "import warnings\n",
    "warnings.filterwarnings('ignore')\n",
    "from pandas import Series\n",
    "from sklearn.metrics import mean_absolute_error, mean_squared_error, mean_absolute_percentage_error, r2_score\n",
    "from statsmodels.tsa.arima_model import ARMA,ARMAResults,ARIMA,ARIMAResults\n",
    "from statsmodels.tsa.stattools import adfuller\n",
    "import investpy\n",
    "import datetime as dt\n",
    "from sklearn.model_selection import train_test_split\n",
    "from statsmodels.tsa.statespace.tools import diff\n",
    "from pmdarima import auto_arima"
   ]
  },
  {
   "cell_type": "code",
   "execution_count": 282,
   "metadata": {},
   "outputs": [],
   "source": [
    "#import data\n",
    "df_MBB = pd.read_csv('MBB Historical Data.csv')\n"
   ]
  },
  {
   "cell_type": "code",
   "execution_count": 283,
   "metadata": {},
   "outputs": [
    {
     "data": {
      "text/html": [
       "<div>\n",
       "<style scoped>\n",
       "    .dataframe tbody tr th:only-of-type {\n",
       "        vertical-align: middle;\n",
       "    }\n",
       "\n",
       "    .dataframe tbody tr th {\n",
       "        vertical-align: top;\n",
       "    }\n",
       "\n",
       "    .dataframe thead th {\n",
       "        text-align: right;\n",
       "    }\n",
       "</style>\n",
       "<table border=\"1\" class=\"dataframe\">\n",
       "  <thead>\n",
       "    <tr style=\"text-align: right;\">\n",
       "      <th></th>\n",
       "      <th>Date</th>\n",
       "      <th>Price</th>\n",
       "      <th>Open</th>\n",
       "      <th>High</th>\n",
       "      <th>Low</th>\n",
       "      <th>Vol.</th>\n",
       "      <th>Change %</th>\n",
       "    </tr>\n",
       "  </thead>\n",
       "  <tbody>\n",
       "    <tr>\n",
       "      <th>0</th>\n",
       "      <td>4/19/2023</td>\n",
       "      <td>18100.0</td>\n",
       "      <td>18250.0</td>\n",
       "      <td>18300.0</td>\n",
       "      <td>18100.0</td>\n",
       "      <td>4160000</td>\n",
       "      <td>-0.28%</td>\n",
       "    </tr>\n",
       "    <tr>\n",
       "      <th>1</th>\n",
       "      <td>4/18/2023</td>\n",
       "      <td>18150.0</td>\n",
       "      <td>18350.0</td>\n",
       "      <td>18400.0</td>\n",
       "      <td>18050.0</td>\n",
       "      <td>5960000</td>\n",
       "      <td>-0.55%</td>\n",
       "    </tr>\n",
       "    <tr>\n",
       "      <th>2</th>\n",
       "      <td>4/17/2023</td>\n",
       "      <td>18250.0</td>\n",
       "      <td>18200.0</td>\n",
       "      <td>18350.0</td>\n",
       "      <td>18150.0</td>\n",
       "      <td>5540000</td>\n",
       "      <td>-0.27%</td>\n",
       "    </tr>\n",
       "    <tr>\n",
       "      <th>3</th>\n",
       "      <td>4/14/2023</td>\n",
       "      <td>18300.0</td>\n",
       "      <td>18600.0</td>\n",
       "      <td>18700.0</td>\n",
       "      <td>18300.0</td>\n",
       "      <td>7850000</td>\n",
       "      <td>-1.35%</td>\n",
       "    </tr>\n",
       "    <tr>\n",
       "      <th>4</th>\n",
       "      <td>4/13/2023</td>\n",
       "      <td>18550.0</td>\n",
       "      <td>18700.0</td>\n",
       "      <td>18750.0</td>\n",
       "      <td>18500.0</td>\n",
       "      <td>5960000</td>\n",
       "      <td>-0.80%</td>\n",
       "    </tr>\n",
       "    <tr>\n",
       "      <th>...</th>\n",
       "      <td>...</td>\n",
       "      <td>...</td>\n",
       "      <td>...</td>\n",
       "      <td>...</td>\n",
       "      <td>...</td>\n",
       "      <td>...</td>\n",
       "      <td>...</td>\n",
       "    </tr>\n",
       "    <tr>\n",
       "      <th>1068</th>\n",
       "      <td>1/8/2019</td>\n",
       "      <td>9037.0</td>\n",
       "      <td>9108.9</td>\n",
       "      <td>9156.8</td>\n",
       "      <td>8989.0</td>\n",
       "      <td>6440000</td>\n",
       "      <td>-0.53%</td>\n",
       "    </tr>\n",
       "    <tr>\n",
       "      <th>1069</th>\n",
       "      <td>1/7/2019</td>\n",
       "      <td>9084.9</td>\n",
       "      <td>9108.9</td>\n",
       "      <td>9228.7</td>\n",
       "      <td>9060.9</td>\n",
       "      <td>8410000</td>\n",
       "      <td>1.88%</td>\n",
       "    </tr>\n",
       "    <tr>\n",
       "      <th>1070</th>\n",
       "      <td>1/4/2019</td>\n",
       "      <td>8917.1</td>\n",
       "      <td>8821.2</td>\n",
       "      <td>9060.9</td>\n",
       "      <td>8653.4</td>\n",
       "      <td>12300000</td>\n",
       "      <td>0.54%</td>\n",
       "    </tr>\n",
       "    <tr>\n",
       "      <th>1071</th>\n",
       "      <td>1/3/2019</td>\n",
       "      <td>8869.2</td>\n",
       "      <td>9300.6</td>\n",
       "      <td>9300.6</td>\n",
       "      <td>8869.2</td>\n",
       "      <td>17380000</td>\n",
       "      <td>-4.39%</td>\n",
       "    </tr>\n",
       "    <tr>\n",
       "      <th>1072</th>\n",
       "      <td>1/2/2019</td>\n",
       "      <td>9276.7</td>\n",
       "      <td>9348.6</td>\n",
       "      <td>9444.5</td>\n",
       "      <td>9276.7</td>\n",
       "      <td>7400000</td>\n",
       "      <td>-0.51%</td>\n",
       "    </tr>\n",
       "  </tbody>\n",
       "</table>\n",
       "<p>1073 rows × 7 columns</p>\n",
       "</div>"
      ],
      "text/plain": [
       "           Date    Price     Open     High      Low      Vol. Change %\n",
       "0     4/19/2023  18100.0  18250.0  18300.0  18100.0   4160000   -0.28%\n",
       "1     4/18/2023  18150.0  18350.0  18400.0  18050.0   5960000   -0.55%\n",
       "2     4/17/2023  18250.0  18200.0  18350.0  18150.0   5540000   -0.27%\n",
       "3     4/14/2023  18300.0  18600.0  18700.0  18300.0   7850000   -1.35%\n",
       "4     4/13/2023  18550.0  18700.0  18750.0  18500.0   5960000   -0.80%\n",
       "...         ...      ...      ...      ...      ...       ...      ...\n",
       "1068   1/8/2019   9037.0   9108.9   9156.8   8989.0   6440000   -0.53%\n",
       "1069   1/7/2019   9084.9   9108.9   9228.7   9060.9   8410000    1.88%\n",
       "1070   1/4/2019   8917.1   8821.2   9060.9   8653.4  12300000    0.54%\n",
       "1071   1/3/2019   8869.2   9300.6   9300.6   8869.2  17380000   -4.39%\n",
       "1072   1/2/2019   9276.7   9348.6   9444.5   9276.7   7400000   -0.51%\n",
       "\n",
       "[1073 rows x 7 columns]"
      ]
     },
     "execution_count": 283,
     "metadata": {},
     "output_type": "execute_result"
    }
   ],
   "source": [
    "df_MBB\n"
   ]
  },
  {
   "cell_type": "code",
   "execution_count": 284,
   "metadata": {},
   "outputs": [],
   "source": [
    "# Convert the 'date' column to a datetime data type\n",
    "df_MBB['Date']=pd.to_datetime(df_MBB.Date,format='%m/%d/%Y')\n"
   ]
  },
  {
   "cell_type": "code",
   "execution_count": 285,
   "metadata": {},
   "outputs": [
    {
     "data": {
      "text/plain": [
       "2023-04-19    18100.0\n",
       "2023-04-18    18150.0\n",
       "2023-04-17    18250.0\n",
       "2023-04-14    18300.0\n",
       "2023-04-13    18550.0\n",
       "               ...   \n",
       "2019-01-08     9037.0\n",
       "2019-01-07     9084.9\n",
       "2019-01-04     8917.1\n",
       "2019-01-03     8869.2\n",
       "2019-01-02     9276.7\n",
       "Name: Price, Length: 1073, dtype: float64"
      ]
     },
     "execution_count": 285,
     "metadata": {},
     "output_type": "execute_result"
    },
    {
     "data": {
      "image/png": "[encoded data removed]",
      "text/plain": [
       "<Figure size 1600x500 with 1 Axes>"
      ]
     },
     "metadata": {},
     "output_type": "display_data"
    }
   ],
   "source": [
    "#set cột Date làm cột index\n",
    "df_MBB=df_MBB.set_index(pd.DatetimeIndex(df_MBB['Date'].values))\n",
    "df_MBB['Time'] = np.arange(len(df_MBB.index))\n",
    "df_MBB['Price'].plot(figsize=(16,5))\n",
    "df_MBB['Price']"
   ]
  },
  {
   "cell_type": "code",
   "execution_count": 71,
   "metadata": {},
   "outputs": [],
   "source": []
  },
  {
   "cell_type": "code",
   "execution_count": 287,
   "metadata": {},
   "outputs": [],
   "source": [
    "def adf_test(series,title=''):\n",
    "    \"\"\"\n",
    "    Pass in a time series and an optional title, returns an ADF report\n",
    "    \"\"\"\n",
    "    print(f'Augmented Dickey-Fuller Test: {title}')\n",
    "    result = adfuller(series.dropna(),autolag='AIC') # .dropna() handles differenced data\n",
    "    \n",
    "    labels = ['ADF test statistic','p-value','# lags used','# observations']\n",
    "    out = pd.Series(result[0:4],index=labels)\n",
    "\n",
    "    for key,val in result[4].items():\n",
    "        out[f'critical value ({key})']=val\n",
    "        \n",
    "    print(out.to_string())          # .to_string() removes the line \"dtype: float64\"\n",
    "    \n",
    "    if result[1] <= 0.05:\n",
    "        print(\"Strong evidence against the null hypothesis\")\n",
    "        print(\"Reject the null hypothesis\")\n",
    "        print(\"Data has no unit root and is stationary\")\n",
    "    else:\n",
    "        print(\"Weak evidence against the null hypothesis\")\n",
    "        print(\"Fail to reject the null hypothesis\")\n",
    "        print(\"Data has a unit root and is non-stationary\")"
   ]
  },
  {
   "cell_type": "code",
   "execution_count": 288,
   "metadata": {},
   "outputs": [
    {
     "name": "stdout",
     "output_type": "stream",
     "text": [
      "Augmented Dickey-Fuller Test: \n",
      "ADF test statistic        -0.698203\n",
      "p-value                    0.847214\n",
      "# lags used                0.000000\n",
      "# observations          1072.000000\n",
      "critical value (1%)       -3.436465\n",
      "critical value (5%)       -2.864240\n",
      "critical value (10%)      -2.568208\n",
      "Weak evidence against the null hypothesis\n",
      "Fail to reject the null hypothesis\n",
      "Data has a unit root and is non-stationary\n"
     ]
    }
   ],
   "source": [
    "adf_test(df_MBB['Price'])"
   ]
  },
  {
   "attachments": {},
   "cell_type": "markdown",
   "metadata": {},
   "source": [
    "p-value > 0.05 nên tệp dữ liệu không có tính dừng"
   ]
  },
  {
   "cell_type": "code",
   "execution_count": 289,
   "metadata": {},
   "outputs": [],
   "source": [
    "#Kiểm định sai phân bậc 1 của giá Close\n",
    "df_MBB['d1'] = diff(df_MBB['Price'],k_diff=1)"
   ]
  },
  {
   "cell_type": "code",
   "execution_count": 290,
   "metadata": {},
   "outputs": [
    {
     "name": "stdout",
     "output_type": "stream",
     "text": [
      "Augmented Dickey-Fuller Test: \n",
      "ADF test statistic       -24.342594\n",
      "p-value                    0.000000\n",
      "# lags used                1.000000\n",
      "# observations          1070.000000\n",
      "critical value (1%)       -3.436476\n",
      "critical value (5%)       -2.864245\n",
      "critical value (10%)      -2.568210\n",
      "Strong evidence against the null hypothesis\n",
      "Reject the null hypothesis\n",
      "Data has no unit root and is stationary\n"
     ]
    }
   ],
   "source": [
    "adf_test(df_MBB['d1'])"
   ]
  },
  {
   "attachments": {},
   "cell_type": "markdown",
   "metadata": {},
   "source": [
    "p-value < 0.05 nên tệp dữ liệu có tính dừng"
   ]
  },
  {
   "cell_type": "code",
   "execution_count": 291,
   "metadata": {},
   "outputs": [
    {
     "data": {
      "text/html": [
       "<div>\n",
       "<style scoped>\n",
       "    .dataframe tbody tr th:only-of-type {\n",
       "        vertical-align: middle;\n",
       "    }\n",
       "\n",
       "    .dataframe tbody tr th {\n",
       "        vertical-align: top;\n",
       "    }\n",
       "\n",
       "    .dataframe thead th {\n",
       "        text-align: right;\n",
       "    }\n",
       "</style>\n",
       "<table border=\"1\" class=\"dataframe\">\n",
       "  <thead>\n",
       "    <tr style=\"text-align: right;\">\n",
       "      <th></th>\n",
       "      <th>Date</th>\n",
       "      <th>Price</th>\n",
       "      <th>Open</th>\n",
       "      <th>High</th>\n",
       "      <th>Low</th>\n",
       "      <th>Vol.</th>\n",
       "      <th>Change %</th>\n",
       "      <th>Time</th>\n",
       "      <th>d1</th>\n",
       "    </tr>\n",
       "  </thead>\n",
       "  <tbody>\n",
       "    <tr>\n",
       "      <th>2023-04-19</th>\n",
       "      <td>2023-04-19</td>\n",
       "      <td>18100.0</td>\n",
       "      <td>18250.0</td>\n",
       "      <td>18300.0</td>\n",
       "      <td>18100.0</td>\n",
       "      <td>4160000</td>\n",
       "      <td>-0.28%</td>\n",
       "      <td>0</td>\n",
       "      <td>NaN</td>\n",
       "    </tr>\n",
       "    <tr>\n",
       "      <th>2023-04-18</th>\n",
       "      <td>2023-04-18</td>\n",
       "      <td>18150.0</td>\n",
       "      <td>18350.0</td>\n",
       "      <td>18400.0</td>\n",
       "      <td>18050.0</td>\n",
       "      <td>5960000</td>\n",
       "      <td>-0.55%</td>\n",
       "      <td>1</td>\n",
       "      <td>50.0</td>\n",
       "    </tr>\n",
       "    <tr>\n",
       "      <th>2023-04-17</th>\n",
       "      <td>2023-04-17</td>\n",
       "      <td>18250.0</td>\n",
       "      <td>18200.0</td>\n",
       "      <td>18350.0</td>\n",
       "      <td>18150.0</td>\n",
       "      <td>5540000</td>\n",
       "      <td>-0.27%</td>\n",
       "      <td>2</td>\n",
       "      <td>100.0</td>\n",
       "    </tr>\n",
       "    <tr>\n",
       "      <th>2023-04-14</th>\n",
       "      <td>2023-04-14</td>\n",
       "      <td>18300.0</td>\n",
       "      <td>18600.0</td>\n",
       "      <td>18700.0</td>\n",
       "      <td>18300.0</td>\n",
       "      <td>7850000</td>\n",
       "      <td>-1.35%</td>\n",
       "      <td>3</td>\n",
       "      <td>50.0</td>\n",
       "    </tr>\n",
       "    <tr>\n",
       "      <th>2023-04-13</th>\n",
       "      <td>2023-04-13</td>\n",
       "      <td>18550.0</td>\n",
       "      <td>18700.0</td>\n",
       "      <td>18750.0</td>\n",
       "      <td>18500.0</td>\n",
       "      <td>5960000</td>\n",
       "      <td>-0.80%</td>\n",
       "      <td>4</td>\n",
       "      <td>250.0</td>\n",
       "    </tr>\n",
       "    <tr>\n",
       "      <th>...</th>\n",
       "      <td>...</td>\n",
       "      <td>...</td>\n",
       "      <td>...</td>\n",
       "      <td>...</td>\n",
       "      <td>...</td>\n",
       "      <td>...</td>\n",
       "      <td>...</td>\n",
       "      <td>...</td>\n",
       "      <td>...</td>\n",
       "    </tr>\n",
       "    <tr>\n",
       "      <th>2019-01-08</th>\n",
       "      <td>2019-01-08</td>\n",
       "      <td>9037.0</td>\n",
       "      <td>9108.9</td>\n",
       "      <td>9156.8</td>\n",
       "      <td>8989.0</td>\n",
       "      <td>6440000</td>\n",
       "      <td>-0.53%</td>\n",
       "      <td>1068</td>\n",
       "      <td>-239.7</td>\n",
       "    </tr>\n",
       "    <tr>\n",
       "      <th>2019-01-07</th>\n",
       "      <td>2019-01-07</td>\n",
       "      <td>9084.9</td>\n",
       "      <td>9108.9</td>\n",
       "      <td>9228.7</td>\n",
       "      <td>9060.9</td>\n",
       "      <td>8410000</td>\n",
       "      <td>1.88%</td>\n",
       "      <td>1069</td>\n",
       "      <td>47.9</td>\n",
       "    </tr>\n",
       "    <tr>\n",
       "      <th>2019-01-04</th>\n",
       "      <td>2019-01-04</td>\n",
       "      <td>8917.1</td>\n",
       "      <td>8821.2</td>\n",
       "      <td>9060.9</td>\n",
       "      <td>8653.4</td>\n",
       "      <td>12300000</td>\n",
       "      <td>0.54%</td>\n",
       "      <td>1070</td>\n",
       "      <td>-167.8</td>\n",
       "    </tr>\n",
       "    <tr>\n",
       "      <th>2019-01-03</th>\n",
       "      <td>2019-01-03</td>\n",
       "      <td>8869.2</td>\n",
       "      <td>9300.6</td>\n",
       "      <td>9300.6</td>\n",
       "      <td>8869.2</td>\n",
       "      <td>17380000</td>\n",
       "      <td>-4.39%</td>\n",
       "      <td>1071</td>\n",
       "      <td>-47.9</td>\n",
       "    </tr>\n",
       "    <tr>\n",
       "      <th>2019-01-02</th>\n",
       "      <td>2019-01-02</td>\n",
       "      <td>9276.7</td>\n",
       "      <td>9348.6</td>\n",
       "      <td>9444.5</td>\n",
       "      <td>9276.7</td>\n",
       "      <td>7400000</td>\n",
       "      <td>-0.51%</td>\n",
       "      <td>1072</td>\n",
       "      <td>407.5</td>\n",
       "    </tr>\n",
       "  </tbody>\n",
       "</table>\n",
       "<p>1073 rows × 9 columns</p>\n",
       "</div>"
      ],
      "text/plain": [
       "                 Date    Price     Open  ...  Change %  Time     d1\n",
       "2023-04-19 2023-04-19  18100.0  18250.0  ...    -0.28%     0    NaN\n",
       "2023-04-18 2023-04-18  18150.0  18350.0  ...    -0.55%     1   50.0\n",
       "2023-04-17 2023-04-17  18250.0  18200.0  ...    -0.27%     2  100.0\n",
       "2023-04-14 2023-04-14  18300.0  18600.0  ...    -1.35%     3   50.0\n",
       "2023-04-13 2023-04-13  18550.0  18700.0  ...    -0.80%     4  250.0\n",
       "...               ...      ...      ...  ...       ...   ...    ...\n",
       "2019-01-08 2019-01-08   9037.0   9108.9  ...    -0.53%  1068 -239.7\n",
       "2019-01-07 2019-01-07   9084.9   9108.9  ...     1.88%  1069   47.9\n",
       "2019-01-04 2019-01-04   8917.1   8821.2  ...     0.54%  1070 -167.8\n",
       "2019-01-03 2019-01-03   8869.2   9300.6  ...    -4.39%  1071  -47.9\n",
       "2019-01-02 2019-01-02   9276.7   9348.6  ...    -0.51%  1072  407.5\n",
       "\n",
       "[1073 rows x 9 columns]"
      ]
     },
     "execution_count": 291,
     "metadata": {},
     "output_type": "execute_result"
    }
   ],
   "source": [
    "df_MBB"
   ]
  },
  {
   "cell_type": "code",
   "execution_count": 310,
   "metadata": {},
   "outputs": [],
   "source": [
    "# Splitting the dataset into 70% training data and 30% testing data.\n",
    "train_MBB, test_MBB = train_test_split(df_MBB['Price'], test_size=.30,train_size=.70,shuffle=False)"
   ]
  },
  {
   "cell_type": "code",
   "execution_count": 311,
   "metadata": {},
   "outputs": [
    {
     "data": {
      "text/plain": [
       "2023-04-19    18100.0\n",
       "2023-04-18    18150.0\n",
       "2023-04-17    18250.0\n",
       "2023-04-14    18300.0\n",
       "2023-04-13    18550.0\n",
       "               ...   \n",
       "2020-04-27     8350.1\n",
       "2020-04-24     8536.3\n",
       "2020-04-23     8589.5\n",
       "2020-04-22     8562.9\n",
       "2020-04-21     8323.5\n",
       "Name: Price, Length: 751, dtype: float64"
      ]
     },
     "execution_count": 311,
     "metadata": {},
     "output_type": "execute_result"
    }
   ],
   "source": [
    "train_MBB"
   ]
  },
  {
   "cell_type": "code",
   "execution_count": 281,
   "metadata": {},
   "outputs": [
    {
     "data": {
      "text/plain": [
       "0    18100.0\n",
       "1    18150.0\n",
       "2    18250.0\n",
       "3    18300.0\n",
       "4    18550.0\n",
       "Name: Price, dtype: float64"
      ]
     },
     "execution_count": 281,
     "metadata": {},
     "output_type": "execute_result"
    }
   ],
   "source": [
    "df_MBB = pd.concat([train_MBB, test_MBB],    # Combine vertically\n",
    "                          ignore_index = True,\n",
    "                          sort = False)\n",
    "df_MBB.head(5)   "
   ]
  },
  {
   "cell_type": "code",
   "execution_count": 250,
   "metadata": {},
   "outputs": [
    {
     "data": {
      "text/html": [
       "<table class=\"simpletable\">\n",
       "<caption>SARIMAX Results</caption>\n",
       "<tr>\n",
       "  <th>Dep. Variable:</th>           <td>y</td>        <th>  No. Observations:  </th>    <td>751</td>   \n",
       "</tr>\n",
       "<tr>\n",
       "  <th>Model:</th>           <td>SARIMAX(0, 1, 0)</td> <th>  Log Likelihood     </th> <td>-5616.545</td>\n",
       "</tr>\n",
       "<tr>\n",
       "  <th>Date:</th>            <td>Mon, 24 Apr 2023</td> <th>  AIC                </th> <td>11235.091</td>\n",
       "</tr>\n",
       "<tr>\n",
       "  <th>Time:</th>                <td>14:24:46</td>     <th>  BIC                </th> <td>11239.711</td>\n",
       "</tr>\n",
       "<tr>\n",
       "  <th>Sample:</th>                  <td>0</td>        <th>  HQIC               </th> <td>11236.871</td>\n",
       "</tr>\n",
       "<tr>\n",
       "  <th></th>                      <td> - 751</td>      <th>                     </th>     <td> </td>    \n",
       "</tr>\n",
       "<tr>\n",
       "  <th>Covariance Type:</th>        <td>opg</td>       <th>                     </th>     <td> </td>    \n",
       "</tr>\n",
       "</table>\n",
       "<table class=\"simpletable\">\n",
       "<tr>\n",
       "     <td></td>       <th>coef</th>     <th>std err</th>      <th>z</th>      <th>P>|z|</th>  <th>[0.025</th>    <th>0.975]</th>  \n",
       "</tr>\n",
       "<tr>\n",
       "  <th>sigma2</th> <td> 1.869e+05</td> <td> 6143.558</td> <td>   30.420</td> <td> 0.000</td> <td> 1.75e+05</td> <td> 1.99e+05</td>\n",
       "</tr>\n",
       "</table>\n",
       "<table class=\"simpletable\">\n",
       "<tr>\n",
       "  <th>Ljung-Box (L1) (Q):</th>     <td>0.06</td> <th>  Jarque-Bera (JB):  </th> <td>305.72</td>\n",
       "</tr>\n",
       "<tr>\n",
       "  <th>Prob(Q):</th>                <td>0.81</td> <th>  Prob(JB):          </th>  <td>0.00</td> \n",
       "</tr>\n",
       "<tr>\n",
       "  <th>Heteroskedasticity (H):</th> <td>0.30</td> <th>  Skew:              </th>  <td>0.47</td> \n",
       "</tr>\n",
       "<tr>\n",
       "  <th>Prob(H) (two-sided):</th>    <td>0.00</td> <th>  Kurtosis:          </th>  <td>5.98</td> \n",
       "</tr>\n",
       "</table><br/><br/>Warnings:<br/>[1] Covariance matrix calculated using the outer product of gradients (complex-step)."
      ],
      "text/plain": [
       "<class 'statsmodels.iolib.summary.Summary'>\n",
       "\"\"\"\n",
       "                               SARIMAX Results                                \n",
       "==============================================================================\n",
       "Dep. Variable:                      y   No. Observations:                  751\n",
       "Model:               SARIMAX(0, 1, 0)   Log Likelihood               -5616.545\n",
       "Date:                Mon, 24 Apr 2023   AIC                          11235.091\n",
       "Time:                        14:24:46   BIC                          11239.711\n",
       "Sample:                             0   HQIC                         11236.871\n",
       "                                - 751                                         \n",
       "Covariance Type:                  opg                                         \n",
       "==============================================================================\n",
       "                 coef    std err          z      P>|z|      [0.025      0.975]\n",
       "------------------------------------------------------------------------------\n",
       "sigma2      1.869e+05   6143.558     30.420      0.000    1.75e+05    1.99e+05\n",
       "===================================================================================\n",
       "Ljung-Box (L1) (Q):                   0.06   Jarque-Bera (JB):               305.72\n",
       "Prob(Q):                              0.81   Prob(JB):                         0.00\n",
       "Heteroskedasticity (H):               0.30   Skew:                             0.47\n",
       "Prob(H) (two-sided):                  0.00   Kurtosis:                         5.98\n",
       "===================================================================================\n",
       "\n",
       "Warnings:\n",
       "[1] Covariance matrix calculated using the outer product of gradients (complex-step).\n",
       "\"\"\""
      ]
     },
     "execution_count": 250,
     "metadata": {},
     "output_type": "execute_result"
    }
   ],
   "source": [
    "auto_arima(train_MBB,seasonal=False).summary()"
   ]
  },
  {
   "cell_type": "code",
   "execution_count": 293,
   "metadata": {},
   "outputs": [
    {
     "name": "stdout",
     "output_type": "stream",
     "text": [
      "Performing stepwise search to minimize aic\n",
      " ARIMA(2,1,2)(0,0,0)[0] intercept   : AIC=inf, Time=0.82 sec\n",
      " ARIMA(0,1,0)(0,0,0)[0] intercept   : AIC=15749.359, Time=0.02 sec\n",
      " ARIMA(1,1,0)(0,0,0)[0] intercept   : AIC=15751.247, Time=0.04 sec\n",
      " ARIMA(0,1,1)(0,0,0)[0] intercept   : AIC=15751.238, Time=0.05 sec\n",
      " ARIMA(0,1,0)(0,0,0)[0]             : AIC=15747.878, Time=0.01 sec\n",
      " ARIMA(1,1,1)(0,0,0)[0] intercept   : AIC=15751.894, Time=0.20 sec\n",
      "\n",
      "Best model:  ARIMA(0,1,0)(0,0,0)[0]          \n",
      "Total fit time: 1.162 seconds\n",
      "                               SARIMAX Results                                \n",
      "==============================================================================\n",
      "Dep. Variable:                      y   No. Observations:                 1073\n",
      "Model:               SARIMAX(0, 1, 0)   Log Likelihood               -7872.939\n",
      "Date:                Mon, 24 Apr 2023   AIC                          15747.878\n",
      "Time:                        14:29:33   BIC                          15752.855\n",
      "Sample:                             0   HQIC                         15749.764\n",
      "                               - 1073                                         \n",
      "Covariance Type:                  opg                                         \n",
      "==============================================================================\n",
      "                 coef    std err          z      P>|z|      [0.025      0.975]\n",
      "------------------------------------------------------------------------------\n",
      "sigma2        1.4e+05   3358.737     41.687      0.000    1.33e+05    1.47e+05\n",
      "===================================================================================\n",
      "Ljung-Box (L1) (Q):                   0.10   Jarque-Bera (JB):               956.02\n",
      "Prob(Q):                              0.75   Prob(JB):                         0.00\n",
      "Heteroskedasticity (H):               0.13   Skew:                             0.49\n",
      "Prob(H) (two-sided):                  0.00   Kurtosis:                         7.52\n",
      "===================================================================================\n",
      "\n",
      "Warnings:\n",
      "[1] Covariance matrix calculated using the outer product of gradients (complex-step).\n"
     ]
    }
   ],
   "source": [
    "model  = auto_arima(df_MBB['Price'],\n",
    "                      test='adf',       # use adftest to find optimal 'd' # maximum p and q\n",
    "                      m=1,              # frequency of series\n",
    "                      d=None,           # let model determine 'd'\n",
    "                      seasonal=False,   # No Seasonality\n",
    "                      D=0, \n",
    "                      trace=True,\n",
    "                      error_action='ignore',  \n",
    "                      suppress_warnings=True, \n",
    "                      stepwise=True)     # set to stepwise\n",
    "print(model.summary())"
   ]
  },
  {
   "cell_type": "code",
   "execution_count": 294,
   "metadata": {},
   "outputs": [],
   "source": [
    "df_USD = pd.read_csv('USD_VND Historical Data.csv')"
   ]
  },
  {
   "cell_type": "code",
   "execution_count": 295,
   "metadata": {},
   "outputs": [],
   "source": [
    "df_USD['Date']=pd.to_datetime(df_USD.Date,format='%m/%d/%Y')"
   ]
  },
  {
   "cell_type": "code",
   "execution_count": 296,
   "metadata": {},
   "outputs": [
    {
     "data": {
      "text/plain": [
       "2023-04-19    23511.0\n",
       "2023-04-18    23505.0\n",
       "2023-04-17    23485.0\n",
       "2023-04-14    23440.0\n",
       "2023-04-13    23440.0\n",
       "               ...   \n",
       "2019-01-08    23198.5\n",
       "2019-01-07    23199.0\n",
       "2019-01-04    23199.0\n",
       "2019-01-03    23202.5\n",
       "2019-01-02    23207.5\n",
       "Name: Price, Length: 1090, dtype: float64"
      ]
     },
     "execution_count": 296,
     "metadata": {},
     "output_type": "execute_result"
    },
    {
     "data": {
      "image/png": "[encoded data removed]",
      "text/plain": [
       "<Figure size 1600x500 with 1 Axes>"
      ]
     },
     "metadata": {},
     "output_type": "display_data"
    }
   ],
   "source": [
    "#set cột Date làm cột index\n",
    "df_USD=df_USD.set_index(pd.DatetimeIndex(df_USD['Date'].values))\n",
    "df_USD['Time'] = np.arange(len(df_USD.index))\n",
    "df_USD['Price'].plot(figsize=(16,5))\n",
    "df_USD['Price']"
   ]
  },
  {
   "cell_type": "code",
   "execution_count": 298,
   "metadata": {},
   "outputs": [],
   "source": [
    "merged_df = pd.merge(df_MBB, df_USD, on='Date')"
   ]
  },
  {
   "cell_type": "code",
   "execution_count": 299,
   "metadata": {},
   "outputs": [
    {
     "data": {
      "text/html": [
       "<div>\n",
       "<style scoped>\n",
       "    .dataframe tbody tr th:only-of-type {\n",
       "        vertical-align: middle;\n",
       "    }\n",
       "\n",
       "    .dataframe tbody tr th {\n",
       "        vertical-align: top;\n",
       "    }\n",
       "\n",
       "    .dataframe thead th {\n",
       "        text-align: right;\n",
       "    }\n",
       "</style>\n",
       "<table border=\"1\" class=\"dataframe\">\n",
       "  <thead>\n",
       "    <tr style=\"text-align: right;\">\n",
       "      <th></th>\n",
       "      <th>Date</th>\n",
       "      <th>Price_x</th>\n",
       "      <th>Open_x</th>\n",
       "      <th>High_x</th>\n",
       "      <th>Low_x</th>\n",
       "      <th>Vol._x</th>\n",
       "      <th>Change %_x</th>\n",
       "      <th>Time_x</th>\n",
       "      <th>d1</th>\n",
       "      <th>Price_y</th>\n",
       "      <th>Open_y</th>\n",
       "      <th>High_y</th>\n",
       "      <th>Low_y</th>\n",
       "      <th>Vol._y</th>\n",
       "      <th>Change %_y</th>\n",
       "      <th>Time_y</th>\n",
       "    </tr>\n",
       "  </thead>\n",
       "  <tbody>\n",
       "    <tr>\n",
       "      <th>0</th>\n",
       "      <td>2023-04-19</td>\n",
       "      <td>18100.0</td>\n",
       "      <td>18250.0</td>\n",
       "      <td>18300.0</td>\n",
       "      <td>18100.0</td>\n",
       "      <td>4160000</td>\n",
       "      <td>-0.28%</td>\n",
       "      <td>0</td>\n",
       "      <td>NaN</td>\n",
       "      <td>23511.0</td>\n",
       "      <td>23517.5</td>\n",
       "      <td>23518.0</td>\n",
       "      <td>23452.0</td>\n",
       "      <td>40</td>\n",
       "      <td>0.03%</td>\n",
       "      <td>0</td>\n",
       "    </tr>\n",
       "    <tr>\n",
       "      <th>1</th>\n",
       "      <td>2023-04-18</td>\n",
       "      <td>18150.0</td>\n",
       "      <td>18350.0</td>\n",
       "      <td>18400.0</td>\n",
       "      <td>18050.0</td>\n",
       "      <td>5960000</td>\n",
       "      <td>-0.55%</td>\n",
       "      <td>1</td>\n",
       "      <td>50.0</td>\n",
       "      <td>23505.0</td>\n",
       "      <td>23510.0</td>\n",
       "      <td>23517.0</td>\n",
       "      <td>23472.5</td>\n",
       "      <td>20</td>\n",
       "      <td>0.09%</td>\n",
       "      <td>1</td>\n",
       "    </tr>\n",
       "    <tr>\n",
       "      <th>2</th>\n",
       "      <td>2023-04-17</td>\n",
       "      <td>18250.0</td>\n",
       "      <td>18200.0</td>\n",
       "      <td>18350.0</td>\n",
       "      <td>18150.0</td>\n",
       "      <td>5540000</td>\n",
       "      <td>-0.27%</td>\n",
       "      <td>2</td>\n",
       "      <td>100.0</td>\n",
       "      <td>23485.0</td>\n",
       "      <td>23455.0</td>\n",
       "      <td>23495.0</td>\n",
       "      <td>23446.5</td>\n",
       "      <td>30</td>\n",
       "      <td>0.19%</td>\n",
       "      <td>2</td>\n",
       "    </tr>\n",
       "    <tr>\n",
       "      <th>3</th>\n",
       "      <td>2023-04-14</td>\n",
       "      <td>18300.0</td>\n",
       "      <td>18600.0</td>\n",
       "      <td>18700.0</td>\n",
       "      <td>18300.0</td>\n",
       "      <td>7850000</td>\n",
       "      <td>-1.35%</td>\n",
       "      <td>3</td>\n",
       "      <td>50.0</td>\n",
       "      <td>23440.0</td>\n",
       "      <td>23445.5</td>\n",
       "      <td>23451.0</td>\n",
       "      <td>23442.5</td>\n",
       "      <td>10</td>\n",
       "      <td>0.00%</td>\n",
       "      <td>3</td>\n",
       "    </tr>\n",
       "    <tr>\n",
       "      <th>4</th>\n",
       "      <td>2023-04-13</td>\n",
       "      <td>18550.0</td>\n",
       "      <td>18700.0</td>\n",
       "      <td>18750.0</td>\n",
       "      <td>18500.0</td>\n",
       "      <td>5960000</td>\n",
       "      <td>-0.80%</td>\n",
       "      <td>4</td>\n",
       "      <td>250.0</td>\n",
       "      <td>23440.0</td>\n",
       "      <td>23447.0</td>\n",
       "      <td>23453.5</td>\n",
       "      <td>23440.0</td>\n",
       "      <td>20</td>\n",
       "      <td>-0.01%</td>\n",
       "      <td>4</td>\n",
       "    </tr>\n",
       "    <tr>\n",
       "      <th>...</th>\n",
       "      <td>...</td>\n",
       "      <td>...</td>\n",
       "      <td>...</td>\n",
       "      <td>...</td>\n",
       "      <td>...</td>\n",
       "      <td>...</td>\n",
       "      <td>...</td>\n",
       "      <td>...</td>\n",
       "      <td>...</td>\n",
       "      <td>...</td>\n",
       "      <td>...</td>\n",
       "      <td>...</td>\n",
       "      <td>...</td>\n",
       "      <td>...</td>\n",
       "      <td>...</td>\n",
       "      <td>...</td>\n",
       "    </tr>\n",
       "    <tr>\n",
       "      <th>1068</th>\n",
       "      <td>2019-01-08</td>\n",
       "      <td>9037.0</td>\n",
       "      <td>9108.9</td>\n",
       "      <td>9156.8</td>\n",
       "      <td>8989.0</td>\n",
       "      <td>6440000</td>\n",
       "      <td>-0.53%</td>\n",
       "      <td>1068</td>\n",
       "      <td>-239.7</td>\n",
       "      <td>23198.5</td>\n",
       "      <td>23199.5</td>\n",
       "      <td>23199.5</td>\n",
       "      <td>23190.5</td>\n",
       "      <td>20</td>\n",
       "      <td>0.00%</td>\n",
       "      <td>1085</td>\n",
       "    </tr>\n",
       "    <tr>\n",
       "      <th>1069</th>\n",
       "      <td>2019-01-07</td>\n",
       "      <td>9084.9</td>\n",
       "      <td>9108.9</td>\n",
       "      <td>9228.7</td>\n",
       "      <td>9060.9</td>\n",
       "      <td>8410000</td>\n",
       "      <td>1.88%</td>\n",
       "      <td>1069</td>\n",
       "      <td>47.9</td>\n",
       "      <td>23199.0</td>\n",
       "      <td>23197.0</td>\n",
       "      <td>23204.0</td>\n",
       "      <td>23191.0</td>\n",
       "      <td>20</td>\n",
       "      <td>0.00%</td>\n",
       "      <td>1086</td>\n",
       "    </tr>\n",
       "    <tr>\n",
       "      <th>1070</th>\n",
       "      <td>2019-01-04</td>\n",
       "      <td>8917.1</td>\n",
       "      <td>8821.2</td>\n",
       "      <td>9060.9</td>\n",
       "      <td>8653.4</td>\n",
       "      <td>12300000</td>\n",
       "      <td>0.54%</td>\n",
       "      <td>1070</td>\n",
       "      <td>-167.8</td>\n",
       "      <td>23199.0</td>\n",
       "      <td>23199.0</td>\n",
       "      <td>23201.0</td>\n",
       "      <td>23193.0</td>\n",
       "      <td>20</td>\n",
       "      <td>-0.02%</td>\n",
       "      <td>1087</td>\n",
       "    </tr>\n",
       "    <tr>\n",
       "      <th>1071</th>\n",
       "      <td>2019-01-03</td>\n",
       "      <td>8869.2</td>\n",
       "      <td>9300.6</td>\n",
       "      <td>9300.6</td>\n",
       "      <td>8869.2</td>\n",
       "      <td>17380000</td>\n",
       "      <td>-4.39%</td>\n",
       "      <td>1071</td>\n",
       "      <td>-47.9</td>\n",
       "      <td>23202.5</td>\n",
       "      <td>23204.5</td>\n",
       "      <td>23205.5</td>\n",
       "      <td>23192.5</td>\n",
       "      <td>20</td>\n",
       "      <td>-0.02%</td>\n",
       "      <td>1088</td>\n",
       "    </tr>\n",
       "    <tr>\n",
       "      <th>1072</th>\n",
       "      <td>2019-01-02</td>\n",
       "      <td>9276.7</td>\n",
       "      <td>9348.6</td>\n",
       "      <td>9444.5</td>\n",
       "      <td>9276.7</td>\n",
       "      <td>7400000</td>\n",
       "      <td>-0.51%</td>\n",
       "      <td>1072</td>\n",
       "      <td>407.5</td>\n",
       "      <td>23207.5</td>\n",
       "      <td>23194.5</td>\n",
       "      <td>23207.5</td>\n",
       "      <td>23192.5</td>\n",
       "      <td>20</td>\n",
       "      <td>0.05%</td>\n",
       "      <td>1089</td>\n",
       "    </tr>\n",
       "  </tbody>\n",
       "</table>\n",
       "<p>1073 rows × 16 columns</p>\n",
       "</div>"
      ],
      "text/plain": [
       "           Date  Price_x   Open_x   High_x  ...    Low_y  Vol._y Change %_y  Time_y\n",
       "0    2023-04-19  18100.0  18250.0  18300.0  ...  23452.0      40      0.03%       0\n",
       "1    2023-04-18  18150.0  18350.0  18400.0  ...  23472.5      20      0.09%       1\n",
       "2    2023-04-17  18250.0  18200.0  18350.0  ...  23446.5      30      0.19%       2\n",
       "3    2023-04-14  18300.0  18600.0  18700.0  ...  23442.5      10      0.00%       3\n",
       "4    2023-04-13  18550.0  18700.0  18750.0  ...  23440.0      20     -0.01%       4\n",
       "...         ...      ...      ...      ...  ...      ...     ...        ...     ...\n",
       "1068 2019-01-08   9037.0   9108.9   9156.8  ...  23190.5      20      0.00%    1085\n",
       "1069 2019-01-07   9084.9   9108.9   9228.7  ...  23191.0      20      0.00%    1086\n",
       "1070 2019-01-04   8917.1   8821.2   9060.9  ...  23193.0      20     -0.02%    1087\n",
       "1071 2019-01-03   8869.2   9300.6   9300.6  ...  23192.5      20     -0.02%    1088\n",
       "1072 2019-01-02   9276.7   9348.6   9444.5  ...  23192.5      20      0.05%    1089\n",
       "\n",
       "[1073 rows x 16 columns]"
      ]
     },
     "execution_count": 299,
     "metadata": {},
     "output_type": "execute_result"
    }
   ],
   "source": [
    "merged_df"
   ]
  },
  {
   "cell_type": "code",
   "execution_count": 312,
   "metadata": {},
   "outputs": [],
   "source": [
    "result_USD = merged_df.dropna(subset=['Date'])"
   ]
  },
  {
   "cell_type": "code",
   "execution_count": 313,
   "metadata": {},
   "outputs": [
    {
     "data": {
      "text/html": [
       "<div>\n",
       "<style scoped>\n",
       "    .dataframe tbody tr th:only-of-type {\n",
       "        vertical-align: middle;\n",
       "    }\n",
       "\n",
       "    .dataframe tbody tr th {\n",
       "        vertical-align: top;\n",
       "    }\n",
       "\n",
       "    .dataframe thead th {\n",
       "        text-align: right;\n",
       "    }\n",
       "</style>\n",
       "<table border=\"1\" class=\"dataframe\">\n",
       "  <thead>\n",
       "    <tr style=\"text-align: right;\">\n",
       "      <th></th>\n",
       "      <th>Date</th>\n",
       "      <th>Price_x</th>\n",
       "      <th>Open_x</th>\n",
       "      <th>High_x</th>\n",
       "      <th>Low_x</th>\n",
       "      <th>Vol._x</th>\n",
       "      <th>Change %_x</th>\n",
       "      <th>Time_x</th>\n",
       "      <th>d1</th>\n",
       "      <th>Price_y</th>\n",
       "      <th>Open_y</th>\n",
       "      <th>High_y</th>\n",
       "      <th>Low_y</th>\n",
       "      <th>Vol._y</th>\n",
       "      <th>Change %_y</th>\n",
       "      <th>Time_y</th>\n",
       "    </tr>\n",
       "  </thead>\n",
       "  <tbody>\n",
       "    <tr>\n",
       "      <th>0</th>\n",
       "      <td>2023-04-19</td>\n",
       "      <td>18100.0</td>\n",
       "      <td>18250.0</td>\n",
       "      <td>18300.0</td>\n",
       "      <td>18100.0</td>\n",
       "      <td>4160000</td>\n",
       "      <td>-0.28%</td>\n",
       "      <td>0</td>\n",
       "      <td>NaN</td>\n",
       "      <td>23511.0</td>\n",
       "      <td>23517.5</td>\n",
       "      <td>23518.0</td>\n",
       "      <td>23452.0</td>\n",
       "      <td>40</td>\n",
       "      <td>0.03%</td>\n",
       "      <td>0</td>\n",
       "    </tr>\n",
       "    <tr>\n",
       "      <th>1</th>\n",
       "      <td>2023-04-18</td>\n",
       "      <td>18150.0</td>\n",
       "      <td>18350.0</td>\n",
       "      <td>18400.0</td>\n",
       "      <td>18050.0</td>\n",
       "      <td>5960000</td>\n",
       "      <td>-0.55%</td>\n",
       "      <td>1</td>\n",
       "      <td>50.0</td>\n",
       "      <td>23505.0</td>\n",
       "      <td>23510.0</td>\n",
       "      <td>23517.0</td>\n",
       "      <td>23472.5</td>\n",
       "      <td>20</td>\n",
       "      <td>0.09%</td>\n",
       "      <td>1</td>\n",
       "    </tr>\n",
       "    <tr>\n",
       "      <th>2</th>\n",
       "      <td>2023-04-17</td>\n",
       "      <td>18250.0</td>\n",
       "      <td>18200.0</td>\n",
       "      <td>18350.0</td>\n",
       "      <td>18150.0</td>\n",
       "      <td>5540000</td>\n",
       "      <td>-0.27%</td>\n",
       "      <td>2</td>\n",
       "      <td>100.0</td>\n",
       "      <td>23485.0</td>\n",
       "      <td>23455.0</td>\n",
       "      <td>23495.0</td>\n",
       "      <td>23446.5</td>\n",
       "      <td>30</td>\n",
       "      <td>0.19%</td>\n",
       "      <td>2</td>\n",
       "    </tr>\n",
       "    <tr>\n",
       "      <th>3</th>\n",
       "      <td>2023-04-14</td>\n",
       "      <td>18300.0</td>\n",
       "      <td>18600.0</td>\n",
       "      <td>18700.0</td>\n",
       "      <td>18300.0</td>\n",
       "      <td>7850000</td>\n",
       "      <td>-1.35%</td>\n",
       "      <td>3</td>\n",
       "      <td>50.0</td>\n",
       "      <td>23440.0</td>\n",
       "      <td>23445.5</td>\n",
       "      <td>23451.0</td>\n",
       "      <td>23442.5</td>\n",
       "      <td>10</td>\n",
       "      <td>0.00%</td>\n",
       "      <td>3</td>\n",
       "    </tr>\n",
       "    <tr>\n",
       "      <th>4</th>\n",
       "      <td>2023-04-13</td>\n",
       "      <td>18550.0</td>\n",
       "      <td>18700.0</td>\n",
       "      <td>18750.0</td>\n",
       "      <td>18500.0</td>\n",
       "      <td>5960000</td>\n",
       "      <td>-0.80%</td>\n",
       "      <td>4</td>\n",
       "      <td>250.0</td>\n",
       "      <td>23440.0</td>\n",
       "      <td>23447.0</td>\n",
       "      <td>23453.5</td>\n",
       "      <td>23440.0</td>\n",
       "      <td>20</td>\n",
       "      <td>-0.01%</td>\n",
       "      <td>4</td>\n",
       "    </tr>\n",
       "    <tr>\n",
       "      <th>...</th>\n",
       "      <td>...</td>\n",
       "      <td>...</td>\n",
       "      <td>...</td>\n",
       "      <td>...</td>\n",
       "      <td>...</td>\n",
       "      <td>...</td>\n",
       "      <td>...</td>\n",
       "      <td>...</td>\n",
       "      <td>...</td>\n",
       "      <td>...</td>\n",
       "      <td>...</td>\n",
       "      <td>...</td>\n",
       "      <td>...</td>\n",
       "      <td>...</td>\n",
       "      <td>...</td>\n",
       "      <td>...</td>\n",
       "    </tr>\n",
       "    <tr>\n",
       "      <th>1068</th>\n",
       "      <td>2019-01-08</td>\n",
       "      <td>9037.0</td>\n",
       "      <td>9108.9</td>\n",
       "      <td>9156.8</td>\n",
       "      <td>8989.0</td>\n",
       "      <td>6440000</td>\n",
       "      <td>-0.53%</td>\n",
       "      <td>1068</td>\n",
       "      <td>-239.7</td>\n",
       "      <td>23198.5</td>\n",
       "      <td>23199.5</td>\n",
       "      <td>23199.5</td>\n",
       "      <td>23190.5</td>\n",
       "      <td>20</td>\n",
       "      <td>0.00%</td>\n",
       "      <td>1085</td>\n",
       "    </tr>\n",
       "    <tr>\n",
       "      <th>1069</th>\n",
       "      <td>2019-01-07</td>\n",
       "      <td>9084.9</td>\n",
       "      <td>9108.9</td>\n",
       "      <td>9228.7</td>\n",
       "      <td>9060.9</td>\n",
       "      <td>8410000</td>\n",
       "      <td>1.88%</td>\n",
       "      <td>1069</td>\n",
       "      <td>47.9</td>\n",
       "      <td>23199.0</td>\n",
       "      <td>23197.0</td>\n",
       "      <td>23204.0</td>\n",
       "      <td>23191.0</td>\n",
       "      <td>20</td>\n",
       "      <td>0.00%</td>\n",
       "      <td>1086</td>\n",
       "    </tr>\n",
       "    <tr>\n",
       "      <th>1070</th>\n",
       "      <td>2019-01-04</td>\n",
       "      <td>8917.1</td>\n",
       "      <td>8821.2</td>\n",
       "      <td>9060.9</td>\n",
       "      <td>8653.4</td>\n",
       "      <td>12300000</td>\n",
       "      <td>0.54%</td>\n",
       "      <td>1070</td>\n",
       "      <td>-167.8</td>\n",
       "      <td>23199.0</td>\n",
       "      <td>23199.0</td>\n",
       "      <td>23201.0</td>\n",
       "      <td>23193.0</td>\n",
       "      <td>20</td>\n",
       "      <td>-0.02%</td>\n",
       "      <td>1087</td>\n",
       "    </tr>\n",
       "    <tr>\n",
       "      <th>1071</th>\n",
       "      <td>2019-01-03</td>\n",
       "      <td>8869.2</td>\n",
       "      <td>9300.6</td>\n",
       "      <td>9300.6</td>\n",
       "      <td>8869.2</td>\n",
       "      <td>17380000</td>\n",
       "      <td>-4.39%</td>\n",
       "      <td>1071</td>\n",
       "      <td>-47.9</td>\n",
       "      <td>23202.5</td>\n",
       "      <td>23204.5</td>\n",
       "      <td>23205.5</td>\n",
       "      <td>23192.5</td>\n",
       "      <td>20</td>\n",
       "      <td>-0.02%</td>\n",
       "      <td>1088</td>\n",
       "    </tr>\n",
       "    <tr>\n",
       "      <th>1072</th>\n",
       "      <td>2019-01-02</td>\n",
       "      <td>9276.7</td>\n",
       "      <td>9348.6</td>\n",
       "      <td>9444.5</td>\n",
       "      <td>9276.7</td>\n",
       "      <td>7400000</td>\n",
       "      <td>-0.51%</td>\n",
       "      <td>1072</td>\n",
       "      <td>407.5</td>\n",
       "      <td>23207.5</td>\n",
       "      <td>23194.5</td>\n",
       "      <td>23207.5</td>\n",
       "      <td>23192.5</td>\n",
       "      <td>20</td>\n",
       "      <td>0.05%</td>\n",
       "      <td>1089</td>\n",
       "    </tr>\n",
       "  </tbody>\n",
       "</table>\n",
       "<p>1073 rows × 16 columns</p>\n",
       "</div>"
      ],
      "text/plain": [
       "           Date  Price_x   Open_x   High_x  ...    Low_y  Vol._y Change %_y  Time_y\n",
       "0    2023-04-19  18100.0  18250.0  18300.0  ...  23452.0      40      0.03%       0\n",
       "1    2023-04-18  18150.0  18350.0  18400.0  ...  23472.5      20      0.09%       1\n",
       "2    2023-04-17  18250.0  18200.0  18350.0  ...  23446.5      30      0.19%       2\n",
       "3    2023-04-14  18300.0  18600.0  18700.0  ...  23442.5      10      0.00%       3\n",
       "4    2023-04-13  18550.0  18700.0  18750.0  ...  23440.0      20     -0.01%       4\n",
       "...         ...      ...      ...      ...  ...      ...     ...        ...     ...\n",
       "1068 2019-01-08   9037.0   9108.9   9156.8  ...  23190.5      20      0.00%    1085\n",
       "1069 2019-01-07   9084.9   9108.9   9228.7  ...  23191.0      20      0.00%    1086\n",
       "1070 2019-01-04   8917.1   8821.2   9060.9  ...  23193.0      20     -0.02%    1087\n",
       "1071 2019-01-03   8869.2   9300.6   9300.6  ...  23192.5      20     -0.02%    1088\n",
       "1072 2019-01-02   9276.7   9348.6   9444.5  ...  23192.5      20      0.05%    1089\n",
       "\n",
       "[1073 rows x 16 columns]"
      ]
     },
     "execution_count": 313,
     "metadata": {},
     "output_type": "execute_result"
    }
   ],
   "source": [
    "result_USD"
   ]
  },
  {
   "cell_type": "code",
   "execution_count": 314,
   "metadata": {},
   "outputs": [],
   "source": [
    "df_USD=result_USD.drop(columns=['Price_x','Open_x','High_x','Low_x','Vol._x','Change %_x','Time_x','d1'])"
   ]
  },
  {
   "cell_type": "code",
   "execution_count": 318,
   "metadata": {},
   "outputs": [
    {
     "data": {
      "text/html": [
       "<div>\n",
       "<style scoped>\n",
       "    .dataframe tbody tr th:only-of-type {\n",
       "        vertical-align: middle;\n",
       "    }\n",
       "\n",
       "    .dataframe tbody tr th {\n",
       "        vertical-align: top;\n",
       "    }\n",
       "\n",
       "    .dataframe thead th {\n",
       "        text-align: right;\n",
       "    }\n",
       "</style>\n",
       "<table border=\"1\" class=\"dataframe\">\n",
       "  <thead>\n",
       "    <tr style=\"text-align: right;\">\n",
       "      <th></th>\n",
       "      <th>Date</th>\n",
       "      <th>Price_y</th>\n",
       "      <th>Open_y</th>\n",
       "      <th>High_y</th>\n",
       "      <th>Low_y</th>\n",
       "      <th>Vol._y</th>\n",
       "      <th>Change %_y</th>\n",
       "      <th>Time_y</th>\n",
       "    </tr>\n",
       "  </thead>\n",
       "  <tbody>\n",
       "    <tr>\n",
       "      <th>0</th>\n",
       "      <td>2023-04-19</td>\n",
       "      <td>23511.0</td>\n",
       "      <td>23517.5</td>\n",
       "      <td>23518.0</td>\n",
       "      <td>23452.0</td>\n",
       "      <td>40</td>\n",
       "      <td>0.03%</td>\n",
       "      <td>0</td>\n",
       "    </tr>\n",
       "    <tr>\n",
       "      <th>1</th>\n",
       "      <td>2023-04-18</td>\n",
       "      <td>23505.0</td>\n",
       "      <td>23510.0</td>\n",
       "      <td>23517.0</td>\n",
       "      <td>23472.5</td>\n",
       "      <td>20</td>\n",
       "      <td>0.09%</td>\n",
       "      <td>1</td>\n",
       "    </tr>\n",
       "    <tr>\n",
       "      <th>2</th>\n",
       "      <td>2023-04-17</td>\n",
       "      <td>23485.0</td>\n",
       "      <td>23455.0</td>\n",
       "      <td>23495.0</td>\n",
       "      <td>23446.5</td>\n",
       "      <td>30</td>\n",
       "      <td>0.19%</td>\n",
       "      <td>2</td>\n",
       "    </tr>\n",
       "    <tr>\n",
       "      <th>3</th>\n",
       "      <td>2023-04-14</td>\n",
       "      <td>23440.0</td>\n",
       "      <td>23445.5</td>\n",
       "      <td>23451.0</td>\n",
       "      <td>23442.5</td>\n",
       "      <td>10</td>\n",
       "      <td>0.00%</td>\n",
       "      <td>3</td>\n",
       "    </tr>\n",
       "    <tr>\n",
       "      <th>4</th>\n",
       "      <td>2023-04-13</td>\n",
       "      <td>23440.0</td>\n",
       "      <td>23447.0</td>\n",
       "      <td>23453.5</td>\n",
       "      <td>23440.0</td>\n",
       "      <td>20</td>\n",
       "      <td>-0.01%</td>\n",
       "      <td>4</td>\n",
       "    </tr>\n",
       "    <tr>\n",
       "      <th>...</th>\n",
       "      <td>...</td>\n",
       "      <td>...</td>\n",
       "      <td>...</td>\n",
       "      <td>...</td>\n",
       "      <td>...</td>\n",
       "      <td>...</td>\n",
       "      <td>...</td>\n",
       "      <td>...</td>\n",
       "    </tr>\n",
       "    <tr>\n",
       "      <th>1068</th>\n",
       "      <td>2019-01-08</td>\n",
       "      <td>23198.5</td>\n",
       "      <td>23199.5</td>\n",
       "      <td>23199.5</td>\n",
       "      <td>23190.5</td>\n",
       "      <td>20</td>\n",
       "      <td>0.00%</td>\n",
       "      <td>1085</td>\n",
       "    </tr>\n",
       "    <tr>\n",
       "      <th>1069</th>\n",
       "      <td>2019-01-07</td>\n",
       "      <td>23199.0</td>\n",
       "      <td>23197.0</td>\n",
       "      <td>23204.0</td>\n",
       "      <td>23191.0</td>\n",
       "      <td>20</td>\n",
       "      <td>0.00%</td>\n",
       "      <td>1086</td>\n",
       "    </tr>\n",
       "    <tr>\n",
       "      <th>1070</th>\n",
       "      <td>2019-01-04</td>\n",
       "      <td>23199.0</td>\n",
       "      <td>23199.0</td>\n",
       "      <td>23201.0</td>\n",
       "      <td>23193.0</td>\n",
       "      <td>20</td>\n",
       "      <td>-0.02%</td>\n",
       "      <td>1087</td>\n",
       "    </tr>\n",
       "    <tr>\n",
       "      <th>1071</th>\n",
       "      <td>2019-01-03</td>\n",
       "      <td>23202.5</td>\n",
       "      <td>23204.5</td>\n",
       "      <td>23205.5</td>\n",
       "      <td>23192.5</td>\n",
       "      <td>20</td>\n",
       "      <td>-0.02%</td>\n",
       "      <td>1088</td>\n",
       "    </tr>\n",
       "    <tr>\n",
       "      <th>1072</th>\n",
       "      <td>2019-01-02</td>\n",
       "      <td>23207.5</td>\n",
       "      <td>23194.5</td>\n",
       "      <td>23207.5</td>\n",
       "      <td>23192.5</td>\n",
       "      <td>20</td>\n",
       "      <td>0.05%</td>\n",
       "      <td>1089</td>\n",
       "    </tr>\n",
       "  </tbody>\n",
       "</table>\n",
       "<p>1073 rows × 8 columns</p>\n",
       "</div>"
      ],
      "text/plain": [
       "           Date  Price_y   Open_y   High_y    Low_y  Vol._y Change %_y  Time_y\n",
       "0    2023-04-19  23511.0  23517.5  23518.0  23452.0      40      0.03%       0\n",
       "1    2023-04-18  23505.0  23510.0  23517.0  23472.5      20      0.09%       1\n",
       "2    2023-04-17  23485.0  23455.0  23495.0  23446.5      30      0.19%       2\n",
       "3    2023-04-14  23440.0  23445.5  23451.0  23442.5      10      0.00%       3\n",
       "4    2023-04-13  23440.0  23447.0  23453.5  23440.0      20     -0.01%       4\n",
       "...         ...      ...      ...      ...      ...     ...        ...     ...\n",
       "1068 2019-01-08  23198.5  23199.5  23199.5  23190.5      20      0.00%    1085\n",
       "1069 2019-01-07  23199.0  23197.0  23204.0  23191.0      20      0.00%    1086\n",
       "1070 2019-01-04  23199.0  23199.0  23201.0  23193.0      20     -0.02%    1087\n",
       "1071 2019-01-03  23202.5  23204.5  23205.5  23192.5      20     -0.02%    1088\n",
       "1072 2019-01-02  23207.5  23194.5  23207.5  23192.5      20      0.05%    1089\n",
       "\n",
       "[1073 rows x 8 columns]"
      ]
     },
     "execution_count": 318,
     "metadata": {},
     "output_type": "execute_result"
    }
   ],
   "source": [
    "df_USD"
   ]
  },
  {
   "cell_type": "code",
   "execution_count": 324,
   "metadata": {},
   "outputs": [],
   "source": [
    "# Splitting the dataset into 70% training data and 30% testing data.\n",
    "train_USD, test_USD = train_test_split(df_USD['Price_y'], test_size=.30, train_size=.70,shuffle=False)"
   ]
  },
  {
   "cell_type": "code",
   "execution_count": 325,
   "metadata": {},
   "outputs": [
    {
     "data": {
      "text/plain": [
       "2023-04-19    23511.0\n",
       "2023-04-18    23505.0\n",
       "2023-04-17    23485.0\n",
       "2023-04-14    23440.0\n",
       "2023-04-13    23440.0\n",
       "               ...   \n",
       "2020-04-27    23456.5\n",
       "2020-04-24    23510.0\n",
       "2020-04-23    23486.0\n",
       "2020-04-22    23480.0\n",
       "2020-04-21    23461.0\n",
       "Name: Price_y, Length: 751, dtype: float64"
      ]
     },
     "execution_count": 325,
     "metadata": {},
     "output_type": "execute_result"
    }
   ],
   "source": [
    "train_USD"
   ]
  },
  {
   "cell_type": "code",
   "execution_count": 319,
   "metadata": {},
   "outputs": [
    {
     "data": {
      "text/plain": [
       "2023-04-19    23511.0\n",
       "2023-04-18    23505.0\n",
       "2023-04-17    23485.0\n",
       "2023-04-14    23440.0\n",
       "2023-04-13    23440.0\n",
       "               ...   \n",
       "2019-01-08    23198.5\n",
       "2019-01-07    23199.0\n",
       "2019-01-04    23199.0\n",
       "2019-01-03    23202.5\n",
       "2019-01-02    23207.5\n",
       "Name: Price_y, Length: 1073, dtype: float64"
      ]
     },
     "execution_count": 319,
     "metadata": {},
     "output_type": "execute_result"
    },
    {
     "data": {
      "image/png": "[encoded data removed]",
      "text/plain": [
       "<Figure size 1600x500 with 1 Axes>"
      ]
     },
     "metadata": {},
     "output_type": "display_data"
    }
   ],
   "source": [
    "#set cột Date làm cột index\n",
    "df_USD=df_USD.set_index(pd.DatetimeIndex(df_USD['Date'].values))\n",
    "df_USD['Time'] = np.arange(len(df_USD.index))\n",
    "df_USD['Price_y'].plot(figsize=(16,5))\n",
    "df_USD['Price_y']"
   ]
  },
  {
   "cell_type": "code",
   "execution_count": 326,
   "metadata": {},
   "outputs": [
    {
     "data": {
      "image/png": "[encoded data removed]",
      "text/plain": [
       "<Figure size 640x480 with 1 Axes>"
      ]
     },
     "metadata": {},
     "output_type": "display_data"
    }
   ],
   "source": [
    "plt.scatter(x=train_MBB,y= train_USD )\n",
    "plt.show()"
   ]
  },
  {
   "cell_type": "code",
   "execution_count": 327,
   "metadata": {},
   "outputs": [],
   "source": [
    "corr= train_MBB.corr(train_USD)\n"
   ]
  },
  {
   "cell_type": "code",
   "execution_count": 328,
   "metadata": {},
   "outputs": [
    {
     "data": {
      "text/plain": [
       "-0.32485056002270857"
      ]
     },
     "execution_count": 328,
     "metadata": {},
     "output_type": "execute_result"
    }
   ],
   "source": [
    "corr"
   ]
  },
  {
   "cell_type": "code",
   "execution_count": 329,
   "metadata": {},
   "outputs": [],
   "source": [
    "from statsmodels.tsa.arima_model import ARIMA"
   ]
  },
  {
   "cell_type": "code",
   "execution_count": 330,
   "metadata": {},
   "outputs": [
    {
     "name": "stdout",
     "output_type": "stream",
     "text": [
      "Performing stepwise search to minimize aic\n",
      " ARIMA(2,1,2)(0,0,0)[0] intercept   : AIC=11237.816, Time=0.63 sec\n",
      " ARIMA(0,1,0)(0,0,0)[0] intercept   : AIC=11236.409, Time=0.02 sec\n",
      " ARIMA(1,1,0)(0,0,0)[0] intercept   : AIC=11238.341, Time=0.03 sec\n",
      " ARIMA(0,1,1)(0,0,0)[0] intercept   : AIC=11238.340, Time=0.04 sec\n",
      " ARIMA(0,1,0)(0,0,0)[0]             : AIC=11235.091, Time=0.01 sec\n",
      " ARIMA(1,1,1)(0,0,0)[0] intercept   : AIC=11239.444, Time=0.17 sec\n",
      "\n",
      "Best model:  ARIMA(0,1,0)(0,0,0)[0]          \n",
      "Total fit time: 0.910 seconds\n"
     ]
    }
   ],
   "source": [
    "model = auto_arima(train_MBB, exogenous=train_USD, seasonal=False,trace=True,error_action='ignore', suppress_warnings=True)\n",
    "\n"
   ]
  },
  {
   "cell_type": "code",
   "execution_count": 331,
   "metadata": {},
   "outputs": [],
   "source": [
    "model = sm.tsa.ARIMA(endog=train_MBB,exog=train_USD,order=(0,1,0)).fit()"
   ]
  },
  {
   "cell_type": "code",
   "execution_count": 332,
   "metadata": {},
   "outputs": [
    {
     "data": {
      "text/plain": [
       "<Axes: >"
      ]
     },
     "execution_count": 332,
     "metadata": {},
     "output_type": "execute_result"
    },
    {
     "data": {
      "image/png": "[encoded data removed]",
      "text/plain": [
       "<Figure size 640x480 with 1 Axes>"
      ]
     },
     "metadata": {},
     "output_type": "display_data"
    }
   ],
   "source": [
    "start_test = len(train_MBB)\n",
    "end_test = len(train_MBB) + len(test_MBB) - 1\n",
    "# start_val = len(train) + len(test)\n",
    "# end_val = len(train) + len(test) + len(val) - 1\n",
    "predictions_test = model.predict(start=start_test, exog=test_USD, end=end_test, typ='levels').rename('Test Predictions')\n",
    "#predictions_val = model_fit.predict(start=start_val, end=end_val, typ='levels').rename('Validate Predictions')\n",
    "predictions_test.index = test_MBB.index\n",
    "#predictions_val.index = val.index\n",
    "predictions_test.plot(legend=True)\n",
    "#predictions_val.plot(legend=True)\n",
    "df_MBB['Price'].plot(legend=True)"
   ]
  },
  {
   "cell_type": "code",
   "execution_count": 164,
   "metadata": {},
   "outputs": [],
   "source": [
    "import statsmodels.api as sm"
   ]
  },
  {
   "cell_type": "code",
   "execution_count": 334,
   "metadata": {},
   "outputs": [
    {
     "data": {
      "text/plain": [
       "2023-04-19    18100.0\n",
       "2023-04-18    18150.0\n",
       "2023-04-17    18250.0\n",
       "2023-04-14    18300.0\n",
       "2023-04-13    18550.0\n",
       "               ...   \n",
       "2020-04-27     8350.1\n",
       "2020-04-24     8536.3\n",
       "2020-04-23     8589.5\n",
       "2020-04-22     8562.9\n",
       "2020-04-21     8323.5\n",
       "Name: Price, Length: 751, dtype: float64"
      ]
     },
     "execution_count": 334,
     "metadata": {},
     "output_type": "execute_result"
    }
   ],
   "source": [
    "train_MBB"
   ]
  },
  {
   "cell_type": "code",
   "execution_count": 48,
   "metadata": {},
   "outputs": [],
   "source": [
    "from sklearn.model_selection import train_test_split"
   ]
  },
  {
   "cell_type": "code",
   "execution_count": 335,
   "metadata": {},
   "outputs": [
    {
     "name": "stdout",
     "output_type": "stream",
     "text": [
      "Unexpected exception formatting exception. Falling back to standard exception\n"
     ]
    },
    {
     "name": "stderr",
     "output_type": "stream",
     "text": [
      "Traceback (most recent call last):\n",
      "  File \"pandas\\_libs\\tslibs\\parsing.pyx\", line 440, in pandas._libs.tslibs.parsing.parse_datetime_string_with_reso\n",
      "  File \"pandas\\_libs\\tslibs\\parsing.pyx\", line 649, in pandas._libs.tslibs.parsing.dateutil_parse\n",
      "ValueError: Unknown datetime string format, unable to parse: Price\n",
      "\n",
      "During handling of the above exception, another exception occurred:\n",
      "\n",
      "Traceback (most recent call last):\n",
      "  File \"c:\\Users\\diuai\\AppData\\Local\\Programs\\Python\\Python311\\Lib\\site-packages\\pandas\\core\\indexes\\datetimes.py\", line 704, in get_loc\n",
      "    parsed, reso = self._parse_with_reso(key)\n",
      "                   ^^^^^^^^^^^^^^^^^^^^^^^^^^\n",
      "  File \"c:\\Users\\diuai\\AppData\\Local\\Programs\\Python\\Python311\\Lib\\site-packages\\pandas\\core\\indexes\\datetimelike.py\", line 230, in _parse_with_reso\n",
      "    parsed, reso_str = parsing.parse_time_string(label, freq)\n",
      "                       ^^^^^^^^^^^^^^^^^^^^^^^^^^^^^^^^^^^^^^\n",
      "  File \"pandas\\_libs\\tslibs\\parsing.pyx\", line 367, in pandas._libs.tslibs.parsing.parse_time_string\n",
      "  File \"pandas\\_libs\\tslibs\\parsing.pyx\", line 445, in pandas._libs.tslibs.parsing.parse_datetime_string_with_reso\n",
      "pandas._libs.tslibs.parsing.DateParseError: Unknown datetime string format, unable to parse: Price\n",
      "\n",
      "The above exception was the direct cause of the following exception:\n",
      "\n",
      "Traceback (most recent call last):\n",
      "  File \"c:\\Users\\diuai\\AppData\\Local\\Programs\\Python\\Python311\\Lib\\site-packages\\IPython\\core\\interactiveshell.py\", line 3460, in run_code\n",
      "    exec(code_obj, self.user_global_ns, self.user_ns)\n",
      "  File \"C:\\Users\\diuai\\AppData\\Local\\Temp\\ipykernel_26764\\3002168895.py\", line 1, in <module>\n",
      "    mse = mean_squared_error(test_MBB['Price'], predictions_test)\n",
      "                             ~~~~~~~~^^^^^^^^^\n",
      "  File \"c:\\Users\\diuai\\AppData\\Local\\Programs\\Python\\Python311\\Lib\\site-packages\\pandas\\core\\series.py\", line 981, in __getitem__\n",
      "    return self._get_value(key)\n",
      "           ^^^^^^^^^^^^^^^^^^^^\n",
      "  File \"c:\\Users\\diuai\\AppData\\Local\\Programs\\Python\\Python311\\Lib\\site-packages\\pandas\\core\\series.py\", line 1089, in _get_value\n",
      "    loc = self.index.get_loc(label)\n",
      "          ^^^^^^^^^^^^^^^^^^^^^^^^^\n",
      "  File \"c:\\Users\\diuai\\AppData\\Local\\Programs\\Python\\Python311\\Lib\\site-packages\\pandas\\core\\indexes\\datetimes.py\", line 706, in get_loc\n",
      "    raise KeyError(key) from err\n",
      "KeyError: 'Price'\n",
      "\n",
      "During handling of the above exception, another exception occurred:\n",
      "\n",
      "Traceback (most recent call last):\n",
      "  File \"c:\\Users\\diuai\\AppData\\Local\\Programs\\Python\\Python311\\Lib\\site-packages\\IPython\\core\\interactiveshell.py\", line 2057, in showtraceback\n",
      "    stb = self.InteractiveTB.structured_traceback(\n",
      "          ^^^^^^^^^^^^^^^^^^^^^^^^^^^^^^^^^^^^^^^^\n",
      "  File \"c:\\Users\\diuai\\AppData\\Local\\Programs\\Python\\Python311\\Lib\\site-packages\\IPython\\core\\ultratb.py\", line 1288, in structured_traceback\n",
      "    return FormattedTB.structured_traceback(\n",
      "           ^^^^^^^^^^^^^^^^^^^^^^^^^^^^^^^^^\n",
      "  File \"c:\\Users\\diuai\\AppData\\Local\\Programs\\Python\\Python311\\Lib\\site-packages\\IPython\\core\\ultratb.py\", line 1177, in structured_traceback\n",
      "    return VerboseTB.structured_traceback(\n",
      "           ^^^^^^^^^^^^^^^^^^^^^^^^^^^^^^^\n",
      "  File \"c:\\Users\\diuai\\AppData\\Local\\Programs\\Python\\Python311\\Lib\\site-packages\\IPython\\core\\ultratb.py\", line 1049, in structured_traceback\n",
      "    formatted_exceptions += self.format_exception_as_a_whole(etype, evalue, etb, lines_of_context,\n",
      "                            ^^^^^^^^^^^^^^^^^^^^^^^^^^^^^^^^^^^^^^^^^^^^^^^^^^^^^^^^^^^^^^^^^^^^^^\n",
      "  File \"c:\\Users\\diuai\\AppData\\Local\\Programs\\Python\\Python311\\Lib\\site-packages\\IPython\\core\\ultratb.py\", line 935, in format_exception_as_a_whole\n",
      "    self.get_records(etb, number_of_lines_of_context, tb_offset) if etb else []\n",
      "    ^^^^^^^^^^^^^^^^^^^^^^^^^^^^^^^^^^^^^^^^^^^^^^^^^^^^^^^^^^^^\n",
      "  File \"c:\\Users\\diuai\\AppData\\Local\\Programs\\Python\\Python311\\Lib\\site-packages\\IPython\\core\\ultratb.py\", line 1003, in get_records\n",
      "    lines, first = inspect.getsourcelines(etb.tb_frame)\n",
      "                   ^^^^^^^^^^^^^^^^^^^^^^^^^^^^^^^^^^^^\n",
      "  File \"c:\\Users\\diuai\\AppData\\Local\\Programs\\Python\\Python311\\Lib\\inspect.py\", line 1244, in getsourcelines\n",
      "    lines, lnum = findsource(object)\n",
      "                  ^^^^^^^^^^^^^^^^^^\n",
      "  File \"c:\\Users\\diuai\\AppData\\Local\\Programs\\Python\\Python311\\Lib\\inspect.py\", line 1081, in findsource\n",
      "    raise OSError('could not get source code')\n",
      "OSError: could not get source code\n"
     ]
    }
   ],
   "source": [
    "mse = mean_squared_error(test_MBB['Price'], predictions_test)\n",
    "rmse = np.sqrt(mse) \n",
    "print(\"Root Mean Square Error:\\n\")  \n",
    "print(rmse)  \n",
    "     "
   ]
  },
  {
   "cell_type": "code",
   "execution_count": 345,
   "metadata": {},
   "outputs": [
    {
     "name": "stdout",
     "output_type": "stream",
     "text": [
      "MAE: 2050.35\n"
     ]
    }
   ],
   "source": [
    "mae= mean_absolute_error(test_MBB, predictions_test)\n",
    "mape = mean_absolute_percentage_error(test_MBB, predictions_test)\n",
    "mse = mean_squared_error(test_MBB, predictions_test)\n",
    "\n",
    "print(f\"MAE: {mae:.2f}\")"
   ]
  },
  {
   "cell_type": "code",
   "execution_count": 343,
   "metadata": {},
   "outputs": [
    {
     "name": "stdout",
     "output_type": "stream",
     "text": [
      "MAPE: 18.40%\n"
     ]
    }
   ],
   "source": [
    "mape = mean_absolute_percentage_error(test_MBB, predictions_test)\n",
    "print(f\"MAPE: {mape * 100:.2f}%\")"
   ]
  },
  {
   "cell_type": "code",
   "execution_count": 346,
   "metadata": {},
   "outputs": [
    {
     "name": "stdout",
     "output_type": "stream",
     "text": [
      "MSE: 4973050.06\n"
     ]
    }
   ],
   "source": [
    "mse = mean_squared_error(test_MBB, predictions_test)\n",
    "print(f\"MSE: {mse:.2f}\")"
   ]
  },
  {
   "cell_type": "code",
   "execution_count": 347,
   "metadata": {},
   "outputs": [
    {
     "name": "stdout",
     "output_type": "stream",
     "text": [
      "RMSE: 2230.03\n"
     ]
    }
   ],
   "source": [
    "rmse = np.sqrt(mse)\n",
    "print(f\"RMSE: {rmse:.2f}\")"
   ]
  },
  {
   "cell_type": "code",
   "execution_count": 350,
   "metadata": {},
   "outputs": [
    {
     "name": "stdout",
     "output_type": "stream",
     "text": [
      "R2: -3.64\n"
     ]
    }
   ],
   "source": [
    "r2 = r2_score(test_MBB, predictions_test)\n",
    "print(f\"R2: {r2:.2f}\")"
   ]
  },
  {
   "cell_type": "code",
   "execution_count": 353,
   "metadata": {},
   "outputs": [
    {
     "data": {
      "text/plain": [
       "<matplotlib.legend.Legend at 0x1825ece7e10>"
      ]
     },
     "execution_count": 353,
     "metadata": {},
     "output_type": "execute_result"
    },
    {
     "data": {
      "image/png": "[encoded data removed]",
      "text/plain": [
       "<Figure size 1600x900 with 1 Axes>"
      ]
     },
     "metadata": {},
     "output_type": "display_data"
    }
   ],
   "source": [
    "pred_series = pd.Series(predictions_test, index=predictions_test.index)\n",
    "\n",
    "plt.figure(figsize=(16, 9))\n",
    "plt.grid(True)\n",
    "plt.xlabel('Dates')\n",
    "plt.ylabel('Closing Prices')\n",
    "plt.plot(test_MBB, 'blue', label='Actual data')\n",
    "plt.plot(pred_series, 'orange', label='Predicted data')\n",
    "plt.legend()"
   ]
  },
  {
   "cell_type": "code",
   "execution_count": 358,
   "metadata": {},
   "outputs": [],
   "source": [
    "scale = StandardScaler()"
   ]
  },
  {
   "cell_type": "code",
   "execution_count": 361,
   "metadata": {},
   "outputs": [
    {
     "ename": "NotFittedError",
     "evalue": "This StandardScaler instance is not fitted yet. Call 'fit' with appropriate arguments before using this estimator.",
     "output_type": "error",
     "traceback": [
      "\u001b[1;31m---------------------------------------------------------------------------\u001b[0m",
      "\u001b[1;31mNotFittedError\u001b[0m                            Traceback (most recent call last)",
      "Cell \u001b[1;32mIn[361], line 6\u001b[0m\n\u001b[0;32m      3\u001b[0m actual \u001b[39m=\u001b[39m column_or_1d(test_MBB)\n\u001b[0;32m      4\u001b[0m pred \u001b[39m=\u001b[39m column_or_1d(predictions_test)\n\u001b[1;32m----> 6\u001b[0m inv_actual \u001b[39m=\u001b[39m scale\u001b[39m.\u001b[39;49mtransform(actual\u001b[39m.\u001b[39;49mreshape(\u001b[39m-\u001b[39;49m\u001b[39m1\u001b[39;49m, \u001b[39m1\u001b[39;49m))\n\u001b[0;32m      7\u001b[0m inv_pred \u001b[39m=\u001b[39m scale\u001b[39m.\u001b[39mtransform(pred\u001b[39m.\u001b[39mreshape(\u001b[39m-\u001b[39m\u001b[39m1\u001b[39m, \u001b[39m1\u001b[39m))\n",
      "File \u001b[1;32mc:\\Users\\diuai\\AppData\\Local\\Programs\\Python\\Python311\\Lib\\site-packages\\sklearn\\utils\\_set_output.py:140\u001b[0m, in \u001b[0;36m_wrap_method_output.<locals>.wrapped\u001b[1;34m(self, X, *args, **kwargs)\u001b[0m\n\u001b[0;32m    138\u001b[0m \u001b[39m@wraps\u001b[39m(f)\n\u001b[0;32m    139\u001b[0m \u001b[39mdef\u001b[39;00m \u001b[39mwrapped\u001b[39m(\u001b[39mself\u001b[39m, X, \u001b[39m*\u001b[39margs, \u001b[39m*\u001b[39m\u001b[39m*\u001b[39mkwargs):\n\u001b[1;32m--> 140\u001b[0m     data_to_wrap \u001b[39m=\u001b[39m f(\u001b[39mself\u001b[39;49m, X, \u001b[39m*\u001b[39;49margs, \u001b[39m*\u001b[39;49m\u001b[39m*\u001b[39;49mkwargs)\n\u001b[0;32m    141\u001b[0m     \u001b[39mif\u001b[39;00m \u001b[39misinstance\u001b[39m(data_to_wrap, \u001b[39mtuple\u001b[39m):\n\u001b[0;32m    142\u001b[0m         \u001b[39m# only wrap the first output for cross decomposition\u001b[39;00m\n\u001b[0;32m    143\u001b[0m         \u001b[39mreturn\u001b[39;00m (\n\u001b[0;32m    144\u001b[0m             _wrap_data_with_container(method, data_to_wrap[\u001b[39m0\u001b[39m], X, \u001b[39mself\u001b[39m),\n\u001b[0;32m    145\u001b[0m             \u001b[39m*\u001b[39mdata_to_wrap[\u001b[39m1\u001b[39m:],\n\u001b[0;32m    146\u001b[0m         )\n",
      "File \u001b[1;32mc:\\Users\\diuai\\AppData\\Local\\Programs\\Python\\Python311\\Lib\\site-packages\\sklearn\\preprocessing\\_data.py:989\u001b[0m, in \u001b[0;36mStandardScaler.transform\u001b[1;34m(self, X, copy)\u001b[0m\n\u001b[0;32m    974\u001b[0m \u001b[39mdef\u001b[39;00m \u001b[39mtransform\u001b[39m(\u001b[39mself\u001b[39m, X, copy\u001b[39m=\u001b[39m\u001b[39mNone\u001b[39;00m):\n\u001b[0;32m    975\u001b[0m \u001b[39m    \u001b[39m\u001b[39m\"\"\"Perform standardization by centering and scaling.\u001b[39;00m\n\u001b[0;32m    976\u001b[0m \n\u001b[0;32m    977\u001b[0m \u001b[39m    Parameters\u001b[39;00m\n\u001b[1;32m   (...)\u001b[0m\n\u001b[0;32m    987\u001b[0m \u001b[39m        Transformed array.\u001b[39;00m\n\u001b[0;32m    988\u001b[0m \u001b[39m    \"\"\"\u001b[39;00m\n\u001b[1;32m--> 989\u001b[0m     check_is_fitted(\u001b[39mself\u001b[39;49m)\n\u001b[0;32m    991\u001b[0m     copy \u001b[39m=\u001b[39m copy \u001b[39mif\u001b[39;00m copy \u001b[39mis\u001b[39;00m \u001b[39mnot\u001b[39;00m \u001b[39mNone\u001b[39;00m \u001b[39melse\u001b[39;00m \u001b[39mself\u001b[39m\u001b[39m.\u001b[39mcopy\n\u001b[0;32m    992\u001b[0m     X \u001b[39m=\u001b[39m \u001b[39mself\u001b[39m\u001b[39m.\u001b[39m_validate_data(\n\u001b[0;32m    993\u001b[0m         X,\n\u001b[0;32m    994\u001b[0m         reset\u001b[39m=\u001b[39m\u001b[39mFalse\u001b[39;00m,\n\u001b[1;32m   (...)\u001b[0m\n\u001b[0;32m    998\u001b[0m         force_all_finite\u001b[39m=\u001b[39m\u001b[39m\"\u001b[39m\u001b[39mallow-nan\u001b[39m\u001b[39m\"\u001b[39m,\n\u001b[0;32m    999\u001b[0m     )\n",
      "File \u001b[1;32mc:\\Users\\diuai\\AppData\\Local\\Programs\\Python\\Python311\\Lib\\site-packages\\sklearn\\utils\\validation.py:1390\u001b[0m, in \u001b[0;36mcheck_is_fitted\u001b[1;34m(estimator, attributes, msg, all_or_any)\u001b[0m\n\u001b[0;32m   1385\u001b[0m     fitted \u001b[39m=\u001b[39m [\n\u001b[0;32m   1386\u001b[0m         v \u001b[39mfor\u001b[39;00m v \u001b[39min\u001b[39;00m \u001b[39mvars\u001b[39m(estimator) \u001b[39mif\u001b[39;00m v\u001b[39m.\u001b[39mendswith(\u001b[39m\"\u001b[39m\u001b[39m_\u001b[39m\u001b[39m\"\u001b[39m) \u001b[39mand\u001b[39;00m \u001b[39mnot\u001b[39;00m v\u001b[39m.\u001b[39mstartswith(\u001b[39m\"\u001b[39m\u001b[39m__\u001b[39m\u001b[39m\"\u001b[39m)\n\u001b[0;32m   1387\u001b[0m     ]\n\u001b[0;32m   1389\u001b[0m \u001b[39mif\u001b[39;00m \u001b[39mnot\u001b[39;00m fitted:\n\u001b[1;32m-> 1390\u001b[0m     \u001b[39mraise\u001b[39;00m NotFittedError(msg \u001b[39m%\u001b[39m {\u001b[39m\"\u001b[39m\u001b[39mname\u001b[39m\u001b[39m\"\u001b[39m: \u001b[39mtype\u001b[39m(estimator)\u001b[39m.\u001b[39m\u001b[39m__name__\u001b[39m})\n",
      "\u001b[1;31mNotFittedError\u001b[0m: This StandardScaler instance is not fitted yet. Call 'fit' with appropriate arguments before using this estimator."
     ]
    }
   ],
   "source": [
    "from sklearn.preprocessing import StandardScaler\n",
    "from sklearn.utils import column_or_1d\n",
    "actual = column_or_1d(test_MBB)\n",
    "pred = column_or_1d(predictions_test)\n",
    "\n",
    "inv_actual = scale.transform(actual.reshape(-1, 1))\n",
    "inv_pred = scale.transform(pred.reshape(-1, 1))"
   ]
  }
 ],
 "metadata": {
  "kernelspec": {
   "display_name": "Python 3",
   "language": "python",
   "name": "python3"
  },
  "language_info": {
   "codemirror_mode": {
    "name": "ipython",
    "version": 3
   },
   "file_extension": ".py",
   "mimetype": "text/x-python",
   "name": "python",
   "nbconvert_exporter": "python",
   "pygments_lexer": "ipython3",
   "version": "3.11.2"
  },
  "orig_nbformat": 4
 },
 "nbformat": 4,
 "nbformat_minor": 2
}
