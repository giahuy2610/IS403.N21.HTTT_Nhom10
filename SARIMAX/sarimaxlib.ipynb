{
 "cells": [
  {
   "cell_type": "code",
   "execution_count": 12,
   "metadata": {},
   "outputs": [],
   "source": [
    "#Cài đặt thư viện \n",
    "import matplotlib.pyplot as plt\n",
    "%matplotlib inline\n",
    "plt.rcParams.update({'font.size': 14})\n",
    "import numpy as np \n",
    "import pandas as pd \n",
    "from sklearn.metrics import mean_absolute_percentage_error,mean_squared_error\n",
    "from pmdarima.arima import auto_arima\n",
    "import statsmodels.api as sm\n",
    "from IPython.display import display, Markdown"
   ]
  },
  {
   "cell_type": "code",
   "execution_count": 13,
   "metadata": {},
   "outputs": [],
   "source": [
    "#Tiền xử lý dữ liệu\n",
    "def data_preprocessing(data_src):\n",
    "  df = pd.read_csv(data_src, parse_dates=True,\n",
    "                       index_col=0).sort_values(by='Date', ascending=True)\n",
    "  #Xóa dấu , và chuyển về float\n",
    "  df['Price']=df['Price'].replace(',','',regex=True).astype(float)\n",
    "  \n",
    "  df = df[['Price']]\n",
    "  return df"
   ]
  },
  {
   "cell_type": "code",
   "execution_count": 21,
   "metadata": {},
   "outputs": [],
   "source": [
    "#Lấy số lượng dữ liệu của tập train, test, validation\n",
    "def get_split_size(df1, train_ratio, test_ratio):\n",
    "    train_size = int(train_ratio * len(df1))\n",
    "    test_size = int(test_ratio * len(df1))\n",
    "    val_size = len(df1) - train_size - test_size\n",
    "    return train_size, test_size, val_size"
   ]
  },
  {
   "cell_type": "code",
   "execution_count": 14,
   "metadata": {},
   "outputs": [],
   "source": [
    "#Chia dữ liệu\n",
    "def split_data(df1,train_size, test_size, val_size):\n",
    "  train_data = df1[:train_size]\n",
    "  test_data = df1[train_size:train_size+test_size]\n",
    "  val_data = df1[train_size+test_size:]\n",
    "  return train_data, test_data, val_data"
   ]
  },
  {
   "cell_type": "code",
   "execution_count": 15,
   "metadata": {},
   "outputs": [],
   "source": [
    "def visualize(label ,pred, model_name):\n",
    "  plt.figure(figsize=(16,9))\n",
    "  plt.plot(label, label = 'history')\n",
    "  plt.plot(pred, label='predict')\n",
    "  plt.title(model_name)\n",
    "  plt.xlabel('Date')\n",
    "  plt.ylabel('Revenues')\n",
    "  plt.legend()\n",
    "  plt.show()"
   ]
  },
  {
   "cell_type": "code",
   "execution_count": 17,
   "metadata": {},
   "outputs": [],
   "source": [
    "#Làm hàm cho vào mảng seasonal_arr và chạy qua với auto arima để tìm ra chu kỳ tốt nhất\n",
    "#Đối với mỗi lần lặp ta sẽ xét xem model nào có chỉ số AIC tốt nhất để lấy\n",
    "def grid_search(arr,train_df,exog_train):\n",
    "    best_aic=0\n",
    "    for i in arr:\n",
    "        print(\"Seasonal Period: \",i)\n",
    "        model=auto_arima(train_df,exog=exog_train,seasonal=True,m=i, error_action='ignore', suppress_warnings=True)\n",
    "        print(\"AIC: \",model.aic())\n",
    "        print(\"------------------\")\n",
    "        if model.aic()<best_aic or best_aic==0:\n",
    "            best_aic=model.aic()\n",
    "            best_model=model\n",
    "    return best_model"
   ]
  },
  {
   "cell_type": "code",
   "execution_count": 19,
   "metadata": {},
   "outputs": [],
   "source": [
    "#Hàm xây dựng model bằng SARIMAX với statmodels\n",
    "#Lý do không dùng auto arima là vì auto arima tự động chọn ra model tốt nhất\n",
    "#nên biến ngoại sinh sẽ không được sử dụng và tự động bỏ ra\n",
    "#Vì vậy ta sẽ xây dựng model bằng thư viện statmodels\n",
    "#để có thể ép model sử dụng biến ngoại sinh\n",
    "def build_model(train_df,exog_train,SEASONAL_ARR):\n",
    "    search=grid_search(SEASONAL_ARR,train_df,exog_train)\n",
    "    p,d,q=search.order\n",
    "    P,D,Q,m=search.seasonal_order\n",
    "    model_fit=sm.tsa.statespace.SARIMAX(endog=train_df,exog=exog_train, \n",
    "                                        order=(p, d, q), \n",
    "                                        seasonal_order=(P,D,Q,m))\n",
    "    model=model_fit.fit()\n",
    "    print(model.summary())\n",
    "    return model"
   ]
  },
  {
   "cell_type": "code",
   "execution_count": 20,
   "metadata": {},
   "outputs": [],
   "source": [
    "#Hàm dự đoán trên tập test và tập validation\n",
    "def predict_test_and_val(model,train_size,test_size,val_size,test_df,val_df,exog_test,exog_val):\n",
    "    #Quá trình test\n",
    "    y_test=np.array(test_df)\n",
    "    y_pred=model.predict(start=train_size,end=train_size+test_size-1,exog=exog_test)\n",
    "\n",
    "    #Quá trình validate\n",
    "    y_val=np.array(val_df)\n",
    "    y_pred_val=model.predict(start=train_size,end=train_size+val_size-1,exog=exog_val)\n",
    "    return y_pred,y_pred_val"
   ]
  },
  {
   "cell_type": "code",
   "execution_count": null,
   "metadata": {},
   "outputs": [],
   "source": [
    "#Visualization\n",
    "def visualize_overview(train_df,test_df, val_df, test_predict, val_predict, model_name):\n",
    "  plt.figure(figsize=(12,6))\n",
    "  plt.plot(train_df)\n",
    "  plt.plot(test_df)\n",
    "  plt.plot(test_df.index,test_predict)\n",
    "  plt.plot(val_df)\n",
    "  plt.plot(val_df.index, val_predict)\n",
    "  #plt.plot(y_next_30_days)\n",
    "  plt.title(model_name)\n",
    "  plt.xlabel('Ngày')\n",
    "  plt.ylabel('Giá cuối trong ngày')\n",
    "  #plt.legend(['Train', 'Test', 'Predictions','Validate','Val','Next 30 days'], loc='lower right')\n",
    "  plt.legend(['Train','Test','Predict','Validate','ValidatePred'], loc='lower right')\n",
    "  plt.show()"
   ]
  },
  {
   "cell_type": "code",
   "execution_count": 1,
   "metadata": {},
   "outputs": [],
   "source": [
    "def mda_cal(actual: np.ndarray, predicted: np.ndarray):\n",
    "    actual = actual.values\n",
    "    predicted = predicted.values\n",
    "    return np.mean((np.sign(actual[1:] - actual[:-1]) == np.sign(predicted[1:] - actual[:-1])).astype(int))"
   ]
  },
  {
   "cell_type": "code",
   "execution_count": null,
   "metadata": {},
   "outputs": [],
   "source": [
    "#Các chỉ số Đánh giá \n",
    "def deviation(test, pred):\n",
    "  rmse=np.sqrt(mean_squared_error(test,pred))\n",
    "  print(f\"RMSE: {rmse:.2f}\")\n",
    "  mape=mean_absolute_percentage_error(test,pred)\n",
    "  print(f\"MAPE: {mape*100:.2f}%\")\n",
    "  mda = mda_cal(test, pred)\n",
    "  print(f\"MDA: {mda*100:.2f}\")"
   ]
  },
  {
   "cell_type": "code",
   "execution_count": null,
   "metadata": {},
   "outputs": [],
   "source": [
    "#Làm hàm tổng quát cho vào 1 ngân hàng và 1 tỉ lệ chia tập train/test/validation\n",
    "#Hàm này sẽ chạy model SARIMAX với ngân hàng và tỉ lệ chia tập train/test/validation đó\n",
    "def SARIMAX_with_bank_and_ratio(bank, train_ratio, test_ratio, val_ratio,SEASONAL_ARR):\n",
    "    #in markdown để biết đang chạy ngân hàng nào và tỉ lệ chia tập train/test/validation nào\n",
    "    display(Markdown('## '+bank+' '+str(train_ratio*10)[0]+'-'+str(test_ratio*10)[0]+'-'+str(val_ratio*10)[0]))\n",
    "\n",
    "    #Đọc dữ liệu từ file csv\n",
    "    df=data_preprocessing(bank)\n",
    "    vni_df = data_preprocessing('VN Index Historical Data.csv')\n",
    "\n",
    "    #Tính số lượng dữ liệu train/test/validation\n",
    "    train_size,test_size,val_size=get_split_size(df, train_ratio, test_ratio)\n",
    "\n",
    "    #Chia tập dữ liệu thành 3 tập train/test/validation\n",
    "    train, test, val = split_data(df,train_size,test_size,val_size)\n",
    "    vni_train,vni_test,vni_val = split_data(vni_df, train_size,test_size,val_size)\n",
    "\n",
    "    #Tạo model\n",
    "    model = build_model(train,vni_train,SEASONAL_ARR)\n",
    "\n",
    "    #Tạo tên đồ thị\n",
    "    title='SARIMAX '+bank[:-4]+' '+str(train_ratio*10)[0]+'-'+str(test_ratio*10)[0]+'-'+str(val_ratio*10)[0]\n",
    "\n",
    "    #Dự đoán tập test và tập validation\n",
    "    pred_test,pred_val=predict_test_and_val(model,train_size,test_size,val_size,test,val,vni_test,vni_val)\n",
    "\n",
    "    #Vẽ đồ thị và in ra độ lệch\n",
    "    visualize_overview(train,test,val,pred_test,pred_val,title)\n",
    "\n",
    "    #Tính các chỉ số đánh giá\n",
    "    print('Test:')\n",
    "    deviation(test,pred_test)\n",
    "    print('----------------')\n",
    "    print('Validation:')\n",
    "    deviation(val,pred_val)"
   ]
  }
 ],
 "metadata": {
  "kernelspec": {
   "display_name": "Python 3",
   "language": "python",
   "name": "python3"
  },
  "language_info": {
   "codemirror_mode": {
    "name": "ipython",
    "version": 3
   },
   "file_extension": ".py",
   "mimetype": "text/x-python",
   "name": "python",
   "nbconvert_exporter": "python",
   "pygments_lexer": "ipython3",
   "version": "3.10.11"
  },
  "orig_nbformat": 4
 },
 "nbformat": 4,
 "nbformat_minor": 2
}
