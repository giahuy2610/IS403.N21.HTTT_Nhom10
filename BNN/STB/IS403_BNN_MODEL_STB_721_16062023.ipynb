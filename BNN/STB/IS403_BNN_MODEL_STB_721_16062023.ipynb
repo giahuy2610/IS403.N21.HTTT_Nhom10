{
  "cells": [
    {
      "cell_type": "code",
      "execution_count": 1,
      "metadata": {
        "colab": {
          "base_uri": "https://localhost:8080/"
        },
        "id": "2blTT9WedsLU",
        "outputId": "50d2d562-6a1e-4c3a-f1a0-d7b429e20ff4"
      },
      "outputs": [
        {
          "output_type": "stream",
          "name": "stdout",
          "text": [
            "Looking in indexes: https://pypi.org/simple, https://us-python.pkg.dev/colab-wheels/public/simple/\n",
            "Requirement already satisfied: torchbnn in /usr/local/lib/python3.10/dist-packages (1.2)\n"
          ]
        }
      ],
      "source": [
        "pip install torchbnn"
      ]
    },
    {
      "cell_type": "code",
      "execution_count": 2,
      "metadata": {
        "colab": {
          "base_uri": "https://localhost:8080/"
        },
        "id": "LzxT6TLl-ec4",
        "outputId": "0323e9bf-2e73-4ec8-8c9e-213a664b9661"
      },
      "outputs": [
        {
          "output_type": "stream",
          "name": "stdout",
          "text": [
            "Looking in indexes: https://pypi.org/simple, https://us-python.pkg.dev/colab-wheels/public/simple/\n",
            "Requirement already satisfied: torchhk in /usr/local/lib/python3.10/dist-packages (0.86.14)\n",
            "Requirement already satisfied: plotly in /usr/local/lib/python3.10/dist-packages (from torchhk) (5.13.1)\n",
            "Requirement already satisfied: tenacity>=6.2.0 in /usr/local/lib/python3.10/dist-packages (from plotly->torchhk) (8.2.2)\n"
          ]
        }
      ],
      "source": [
        "pip install torchhk"
      ]
    },
    {
      "cell_type": "code",
      "execution_count": 3,
      "metadata": {
        "colab": {
          "base_uri": "https://localhost:8080/"
        },
        "id": "oOMXfHsEcPle",
        "outputId": "d71a2cb3-6661-46d1-b65a-fd1ea039bae9"
      },
      "outputs": [
        {
          "output_type": "stream",
          "name": "stdout",
          "text": [
            "Drive already mounted at /content/drive; to attempt to forcibly remount, call drive.mount(\"/content/drive\", force_remount=True).\n"
          ]
        }
      ],
      "source": [
        "from google.colab import drive\n",
        "drive.mount('/content/drive')\n",
        "import numpy as np\n",
        "from sklearn import datasets\n",
        "import pandas as pd\n",
        "from sklearn.preprocessing import MinMaxScaler\n",
        "\n",
        "import torch\n",
        "import torch.nn as nn\n",
        "import torch.optim as optim\n",
        "import torchbnn as bnn\n",
        "from torchhk.vis import plot_individual_weight\n",
        "\n",
        "import matplotlib.pyplot as plt\n",
        "%matplotlib inline\n",
        "import datetime as dt\n",
        "from datetime import datetime\n",
        "from statsmodels.tsa.seasonal import seasonal_decompose\n",
        "from sklearn.metrics import  mean_absolute_percentage_error, mean_absolute_error,mean_squared_error"
      ]
    },
    {
      "cell_type": "code",
      "execution_count": 4,
      "metadata": {
        "colab": {
          "base_uri": "https://localhost:8080/",
          "height": 237
        },
        "id": "TfPlk_uyd0wj",
        "outputId": "b9ba6fe6-9657-4026-8bd9-2a95a0117a29"
      },
      "outputs": [
        {
          "output_type": "execute_result",
          "data": {
            "text/plain": [
              "              Close      Open      High       Low   Vol. Change %\n",
              "Date                                                             \n",
              "2019-01-02  11600.0  12,000.0  12,050.0  11,600.0  3.86M   -2.93%\n",
              "2019-01-03  11100.0  11,500.0  11,650.0  11,100.0  6.28M   -4.31%\n",
              "2019-01-04  11150.0  11,000.0  11,350.0  10,900.0  3.83M    0.45%\n",
              "2019-01-07  11500.0  11,400.0  11,600.0  11,350.0  3.70M    3.14%\n",
              "2019-01-08  11350.0  11,500.0  11,500.0  11,300.0  1.57M   -1.30%"
            ],
            "text/html": [
              "\n",
              "  <div id=\"df-5743a184-0a4a-4cff-84a4-c2687aba39bd\">\n",
              "    <div class=\"colab-df-container\">\n",
              "      <div>\n",
              "<style scoped>\n",
              "    .dataframe tbody tr th:only-of-type {\n",
              "        vertical-align: middle;\n",
              "    }\n",
              "\n",
              "    .dataframe tbody tr th {\n",
              "        vertical-align: top;\n",
              "    }\n",
              "\n",
              "    .dataframe thead th {\n",
              "        text-align: right;\n",
              "    }\n",
              "</style>\n",
              "<table border=\"1\" class=\"dataframe\">\n",
              "  <thead>\n",
              "    <tr style=\"text-align: right;\">\n",
              "      <th></th>\n",
              "      <th>Close</th>\n",
              "      <th>Open</th>\n",
              "      <th>High</th>\n",
              "      <th>Low</th>\n",
              "      <th>Vol.</th>\n",
              "      <th>Change %</th>\n",
              "    </tr>\n",
              "    <tr>\n",
              "      <th>Date</th>\n",
              "      <th></th>\n",
              "      <th></th>\n",
              "      <th></th>\n",
              "      <th></th>\n",
              "      <th></th>\n",
              "      <th></th>\n",
              "    </tr>\n",
              "  </thead>\n",
              "  <tbody>\n",
              "    <tr>\n",
              "      <th>2019-01-02</th>\n",
              "      <td>11600.0</td>\n",
              "      <td>12,000.0</td>\n",
              "      <td>12,050.0</td>\n",
              "      <td>11,600.0</td>\n",
              "      <td>3.86M</td>\n",
              "      <td>-2.93%</td>\n",
              "    </tr>\n",
              "    <tr>\n",
              "      <th>2019-01-03</th>\n",
              "      <td>11100.0</td>\n",
              "      <td>11,500.0</td>\n",
              "      <td>11,650.0</td>\n",
              "      <td>11,100.0</td>\n",
              "      <td>6.28M</td>\n",
              "      <td>-4.31%</td>\n",
              "    </tr>\n",
              "    <tr>\n",
              "      <th>2019-01-04</th>\n",
              "      <td>11150.0</td>\n",
              "      <td>11,000.0</td>\n",
              "      <td>11,350.0</td>\n",
              "      <td>10,900.0</td>\n",
              "      <td>3.83M</td>\n",
              "      <td>0.45%</td>\n",
              "    </tr>\n",
              "    <tr>\n",
              "      <th>2019-01-07</th>\n",
              "      <td>11500.0</td>\n",
              "      <td>11,400.0</td>\n",
              "      <td>11,600.0</td>\n",
              "      <td>11,350.0</td>\n",
              "      <td>3.70M</td>\n",
              "      <td>3.14%</td>\n",
              "    </tr>\n",
              "    <tr>\n",
              "      <th>2019-01-08</th>\n",
              "      <td>11350.0</td>\n",
              "      <td>11,500.0</td>\n",
              "      <td>11,500.0</td>\n",
              "      <td>11,300.0</td>\n",
              "      <td>1.57M</td>\n",
              "      <td>-1.30%</td>\n",
              "    </tr>\n",
              "  </tbody>\n",
              "</table>\n",
              "</div>\n",
              "      <button class=\"colab-df-convert\" onclick=\"convertToInteractive('df-5743a184-0a4a-4cff-84a4-c2687aba39bd')\"\n",
              "              title=\"Convert this dataframe to an interactive table.\"\n",
              "              style=\"display:none;\">\n",
              "        \n",
              "  <svg xmlns=\"http://www.w3.org/2000/svg\" height=\"24px\"viewBox=\"0 0 24 24\"\n",
              "       width=\"24px\">\n",
              "    <path d=\"M0 0h24v24H0V0z\" fill=\"none\"/>\n",
              "    <path d=\"M18.56 5.44l.94 2.06.94-2.06 2.06-.94-2.06-.94-.94-2.06-.94 2.06-2.06.94zm-11 1L8.5 8.5l.94-2.06 2.06-.94-2.06-.94L8.5 2.5l-.94 2.06-2.06.94zm10 10l.94 2.06.94-2.06 2.06-.94-2.06-.94-.94-2.06-.94 2.06-2.06.94z\"/><path d=\"M17.41 7.96l-1.37-1.37c-.4-.4-.92-.59-1.43-.59-.52 0-1.04.2-1.43.59L10.3 9.45l-7.72 7.72c-.78.78-.78 2.05 0 2.83L4 21.41c.39.39.9.59 1.41.59.51 0 1.02-.2 1.41-.59l7.78-7.78 2.81-2.81c.8-.78.8-2.07 0-2.86zM5.41 20L4 18.59l7.72-7.72 1.47 1.35L5.41 20z\"/>\n",
              "  </svg>\n",
              "      </button>\n",
              "      \n",
              "  <style>\n",
              "    .colab-df-container {\n",
              "      display:flex;\n",
              "      flex-wrap:wrap;\n",
              "      gap: 12px;\n",
              "    }\n",
              "\n",
              "    .colab-df-convert {\n",
              "      background-color: #E8F0FE;\n",
              "      border: none;\n",
              "      border-radius: 50%;\n",
              "      cursor: pointer;\n",
              "      display: none;\n",
              "      fill: #1967D2;\n",
              "      height: 32px;\n",
              "      padding: 0 0 0 0;\n",
              "      width: 32px;\n",
              "    }\n",
              "\n",
              "    .colab-df-convert:hover {\n",
              "      background-color: #E2EBFA;\n",
              "      box-shadow: 0px 1px 2px rgba(60, 64, 67, 0.3), 0px 1px 3px 1px rgba(60, 64, 67, 0.15);\n",
              "      fill: #174EA6;\n",
              "    }\n",
              "\n",
              "    [theme=dark] .colab-df-convert {\n",
              "      background-color: #3B4455;\n",
              "      fill: #D2E3FC;\n",
              "    }\n",
              "\n",
              "    [theme=dark] .colab-df-convert:hover {\n",
              "      background-color: #434B5C;\n",
              "      box-shadow: 0px 1px 3px 1px rgba(0, 0, 0, 0.15);\n",
              "      filter: drop-shadow(0px 1px 2px rgba(0, 0, 0, 0.3));\n",
              "      fill: #FFFFFF;\n",
              "    }\n",
              "  </style>\n",
              "\n",
              "      <script>\n",
              "        const buttonEl =\n",
              "          document.querySelector('#df-5743a184-0a4a-4cff-84a4-c2687aba39bd button.colab-df-convert');\n",
              "        buttonEl.style.display =\n",
              "          google.colab.kernel.accessAllowed ? 'block' : 'none';\n",
              "\n",
              "        async function convertToInteractive(key) {\n",
              "          const element = document.querySelector('#df-5743a184-0a4a-4cff-84a4-c2687aba39bd');\n",
              "          const dataTable =\n",
              "            await google.colab.kernel.invokeFunction('convertToInteractive',\n",
              "                                                     [key], {});\n",
              "          if (!dataTable) return;\n",
              "\n",
              "          const docLinkHtml = 'Like what you see? Visit the ' +\n",
              "            '<a target=\"_blank\" href=https://colab.research.google.com/notebooks/data_table.ipynb>data table notebook</a>'\n",
              "            + ' to learn more about interactive tables.';\n",
              "          element.innerHTML = '';\n",
              "          dataTable['output_type'] = 'display_data';\n",
              "          await google.colab.output.renderOutput(dataTable, element);\n",
              "          const docLink = document.createElement('div');\n",
              "          docLink.innerHTML = docLinkHtml;\n",
              "          element.appendChild(docLink);\n",
              "        }\n",
              "      </script>\n",
              "    </div>\n",
              "  </div>\n",
              "  "
            ]
          },
          "metadata": {},
          "execution_count": 4
        }
      ],
      "source": [
        "# 2. Đọc file csv và gắng index với giá Close\n",
        "df = pd.read_csv('/content/drive/MyDrive/StockData/STB-Historical-Data.csv',index_col=0,parse_dates=True).sort_values(by='Date',ascending=True)\n",
        "\n",
        "df['Price']=df['Price'].replace(',','',regex=True).astype(float)\n",
        "\n",
        "df = df.rename(columns={'Price': 'Close'})\n",
        "df.head()\n",
        "\n"
      ]
    },
    {
      "cell_type": "code",
      "execution_count": 5,
      "metadata": {
        "colab": {
          "base_uri": "https://localhost:8080/",
          "height": 455
        },
        "id": "5U3ml8hVQHfX",
        "outputId": "f6fd5966-b0a4-4e3b-f870-3224b5d2cdb0"
      },
      "outputs": [
        {
          "output_type": "execute_result",
          "data": {
            "text/plain": [
              "              Close\n",
              "Date               \n",
              "2019-01-02  11600.0\n",
              "2019-01-03  11100.0\n",
              "2019-01-04  11150.0\n",
              "2019-01-07  11500.0\n",
              "2019-01-08  11350.0\n",
              "...             ...\n",
              "2023-06-12  28200.0\n",
              "2023-06-13  28200.0\n",
              "2023-06-14  27800.0\n",
              "2023-06-15  27800.0\n",
              "2023-06-16  29000.0\n",
              "\n",
              "[1112 rows x 1 columns]"
            ],
            "text/html": [
              "\n",
              "  <div id=\"df-9d898fd7-04ec-4152-84a6-d5111e79c01d\">\n",
              "    <div class=\"colab-df-container\">\n",
              "      <div>\n",
              "<style scoped>\n",
              "    .dataframe tbody tr th:only-of-type {\n",
              "        vertical-align: middle;\n",
              "    }\n",
              "\n",
              "    .dataframe tbody tr th {\n",
              "        vertical-align: top;\n",
              "    }\n",
              "\n",
              "    .dataframe thead th {\n",
              "        text-align: right;\n",
              "    }\n",
              "</style>\n",
              "<table border=\"1\" class=\"dataframe\">\n",
              "  <thead>\n",
              "    <tr style=\"text-align: right;\">\n",
              "      <th></th>\n",
              "      <th>Close</th>\n",
              "    </tr>\n",
              "    <tr>\n",
              "      <th>Date</th>\n",
              "      <th></th>\n",
              "    </tr>\n",
              "  </thead>\n",
              "  <tbody>\n",
              "    <tr>\n",
              "      <th>2019-01-02</th>\n",
              "      <td>11600.0</td>\n",
              "    </tr>\n",
              "    <tr>\n",
              "      <th>2019-01-03</th>\n",
              "      <td>11100.0</td>\n",
              "    </tr>\n",
              "    <tr>\n",
              "      <th>2019-01-04</th>\n",
              "      <td>11150.0</td>\n",
              "    </tr>\n",
              "    <tr>\n",
              "      <th>2019-01-07</th>\n",
              "      <td>11500.0</td>\n",
              "    </tr>\n",
              "    <tr>\n",
              "      <th>2019-01-08</th>\n",
              "      <td>11350.0</td>\n",
              "    </tr>\n",
              "    <tr>\n",
              "      <th>...</th>\n",
              "      <td>...</td>\n",
              "    </tr>\n",
              "    <tr>\n",
              "      <th>2023-06-12</th>\n",
              "      <td>28200.0</td>\n",
              "    </tr>\n",
              "    <tr>\n",
              "      <th>2023-06-13</th>\n",
              "      <td>28200.0</td>\n",
              "    </tr>\n",
              "    <tr>\n",
              "      <th>2023-06-14</th>\n",
              "      <td>27800.0</td>\n",
              "    </tr>\n",
              "    <tr>\n",
              "      <th>2023-06-15</th>\n",
              "      <td>27800.0</td>\n",
              "    </tr>\n",
              "    <tr>\n",
              "      <th>2023-06-16</th>\n",
              "      <td>29000.0</td>\n",
              "    </tr>\n",
              "  </tbody>\n",
              "</table>\n",
              "<p>1112 rows × 1 columns</p>\n",
              "</div>\n",
              "      <button class=\"colab-df-convert\" onclick=\"convertToInteractive('df-9d898fd7-04ec-4152-84a6-d5111e79c01d')\"\n",
              "              title=\"Convert this dataframe to an interactive table.\"\n",
              "              style=\"display:none;\">\n",
              "        \n",
              "  <svg xmlns=\"http://www.w3.org/2000/svg\" height=\"24px\"viewBox=\"0 0 24 24\"\n",
              "       width=\"24px\">\n",
              "    <path d=\"M0 0h24v24H0V0z\" fill=\"none\"/>\n",
              "    <path d=\"M18.56 5.44l.94 2.06.94-2.06 2.06-.94-2.06-.94-.94-2.06-.94 2.06-2.06.94zm-11 1L8.5 8.5l.94-2.06 2.06-.94-2.06-.94L8.5 2.5l-.94 2.06-2.06.94zm10 10l.94 2.06.94-2.06 2.06-.94-2.06-.94-.94-2.06-.94 2.06-2.06.94z\"/><path d=\"M17.41 7.96l-1.37-1.37c-.4-.4-.92-.59-1.43-.59-.52 0-1.04.2-1.43.59L10.3 9.45l-7.72 7.72c-.78.78-.78 2.05 0 2.83L4 21.41c.39.39.9.59 1.41.59.51 0 1.02-.2 1.41-.59l7.78-7.78 2.81-2.81c.8-.78.8-2.07 0-2.86zM5.41 20L4 18.59l7.72-7.72 1.47 1.35L5.41 20z\"/>\n",
              "  </svg>\n",
              "      </button>\n",
              "      \n",
              "  <style>\n",
              "    .colab-df-container {\n",
              "      display:flex;\n",
              "      flex-wrap:wrap;\n",
              "      gap: 12px;\n",
              "    }\n",
              "\n",
              "    .colab-df-convert {\n",
              "      background-color: #E8F0FE;\n",
              "      border: none;\n",
              "      border-radius: 50%;\n",
              "      cursor: pointer;\n",
              "      display: none;\n",
              "      fill: #1967D2;\n",
              "      height: 32px;\n",
              "      padding: 0 0 0 0;\n",
              "      width: 32px;\n",
              "    }\n",
              "\n",
              "    .colab-df-convert:hover {\n",
              "      background-color: #E2EBFA;\n",
              "      box-shadow: 0px 1px 2px rgba(60, 64, 67, 0.3), 0px 1px 3px 1px rgba(60, 64, 67, 0.15);\n",
              "      fill: #174EA6;\n",
              "    }\n",
              "\n",
              "    [theme=dark] .colab-df-convert {\n",
              "      background-color: #3B4455;\n",
              "      fill: #D2E3FC;\n",
              "    }\n",
              "\n",
              "    [theme=dark] .colab-df-convert:hover {\n",
              "      background-color: #434B5C;\n",
              "      box-shadow: 0px 1px 3px 1px rgba(0, 0, 0, 0.15);\n",
              "      filter: drop-shadow(0px 1px 2px rgba(0, 0, 0, 0.3));\n",
              "      fill: #FFFFFF;\n",
              "    }\n",
              "  </style>\n",
              "\n",
              "      <script>\n",
              "        const buttonEl =\n",
              "          document.querySelector('#df-9d898fd7-04ec-4152-84a6-d5111e79c01d button.colab-df-convert');\n",
              "        buttonEl.style.display =\n",
              "          google.colab.kernel.accessAllowed ? 'block' : 'none';\n",
              "\n",
              "        async function convertToInteractive(key) {\n",
              "          const element = document.querySelector('#df-9d898fd7-04ec-4152-84a6-d5111e79c01d');\n",
              "          const dataTable =\n",
              "            await google.colab.kernel.invokeFunction('convertToInteractive',\n",
              "                                                     [key], {});\n",
              "          if (!dataTable) return;\n",
              "\n",
              "          const docLinkHtml = 'Like what you see? Visit the ' +\n",
              "            '<a target=\"_blank\" href=https://colab.research.google.com/notebooks/data_table.ipynb>data table notebook</a>'\n",
              "            + ' to learn more about interactive tables.';\n",
              "          element.innerHTML = '';\n",
              "          dataTable['output_type'] = 'display_data';\n",
              "          await google.colab.output.renderOutput(dataTable, element);\n",
              "          const docLink = document.createElement('div');\n",
              "          docLink.innerHTML = docLinkHtml;\n",
              "          element.appendChild(docLink);\n",
              "        }\n",
              "      </script>\n",
              "    </div>\n",
              "  </div>\n",
              "  "
            ]
          },
          "metadata": {},
          "execution_count": 5
        }
      ],
      "source": [
        "df1 = df[['Close']]\n",
        "df1"
      ]
    },
    {
      "cell_type": "code",
      "execution_count": 6,
      "metadata": {
        "id": "paElQufsmgK1"
      },
      "outputs": [],
      "source": [
        "# 3. Scaler data\n",
        "scaler=MinMaxScaler()\n",
        "df1=scaler.fit_transform(np.array(df1).reshape(-1,1))"
      ]
    },
    {
      "cell_type": "code",
      "execution_count": 7,
      "metadata": {
        "id": "88UoOnaxfYFo"
      },
      "outputs": [],
      "source": [
        "# 4. Chia train test tỉ lệ\n",
        "train_size = int(0.7 * len(df1))\n",
        "test_size = int(0.2 * len(df1))\n",
        "val_size = len(df1) - train_size - test_size\n",
        "\n",
        "train_data = df1[:train_size]\n",
        "test_data = df1[train_size:train_size+test_size]\n",
        "val_data = df1[train_size+test_size:]"
      ]
    },
    {
      "cell_type": "code",
      "execution_count": 8,
      "metadata": {
        "colab": {
          "base_uri": "https://localhost:8080/"
        },
        "id": "jVqjhn78ae7z",
        "outputId": "6f70e7a5-f284-42bc-b292-fabe0612321b"
      },
      "outputs": [
        {
          "output_type": "stream",
          "name": "stdout",
          "text": [
            "0.33289948180930035\n",
            "0.2735030491189056\n"
          ]
        }
      ],
      "source": [
        "mean_close=train_data.mean()\n",
        "std_close=train_data.std()\n",
        "\n",
        "\n",
        "print(mean_close)\n",
        "print(std_close)"
      ]
    },
    {
      "cell_type": "code",
      "execution_count": 9,
      "metadata": {
        "id": "F4B_xKfgkedZ"
      },
      "outputs": [],
      "source": [
        "# 5. Hàm Create Dataset\n",
        "#window sliding\n",
        "def create_dataset(dataset, time_step=1):\n",
        "\tdataX, dataY = [], []\n",
        "\tfor i in range(len(dataset)-time_step-1):\n",
        "\t\ta = dataset[i:(i+time_step), 0]\n",
        "\t\tdataX.append(a)\n",
        "\t\tdataY.append(dataset[i + time_step, 0])\n",
        "\treturn np.array(dataX),np.array(dataY)"
      ]
    },
    {
      "cell_type": "code",
      "execution_count": 10,
      "metadata": {
        "id": "vaIQMeo3nADT"
      },
      "outputs": [],
      "source": [
        "# 6. Reshape into X=t,t+1,t+2..t+99 and Y=t+100\n",
        "\n",
        "time_step = 40\n",
        "X_train, y_train = create_dataset(train_data, time_step)\n",
        "X_val, yval = create_dataset(val_data, time_step)\n",
        "X_test, ytest = create_dataset(test_data, time_step)"
      ]
    },
    {
      "cell_type": "code",
      "execution_count": 11,
      "metadata": {
        "colab": {
          "base_uri": "https://localhost:8080/"
        },
        "id": "8z8aPK565H0q",
        "outputId": "0e8fa5a9-859f-471e-d866-d57dbdedceeb"
      },
      "outputs": [
        {
          "output_type": "stream",
          "name": "stderr",
          "text": [
            "<ipython-input-11-fed5ced163ac>:4: UserWarning: To copy construct from a tensor, it is recommended to use sourceTensor.clone().detach() or sourceTensor.clone().detach().requires_grad_(True), rather than torch.tensor(sourceTensor).\n",
            "  x = torch.tensor(x).to(torch.float)\n",
            "<ipython-input-11-fed5ced163ac>:5: UserWarning: To copy construct from a tensor, it is recommended to use sourceTensor.clone().detach() or sourceTensor.clone().detach().requires_grad_(True), rather than torch.tensor(sourceTensor).\n",
            "  y=  torch.tensor(y).to(torch.float)\n"
          ]
        }
      ],
      "source": [
        "# 7.Chuẩn bị dữ liệu train\n",
        "x = torch.from_numpy(X_train)\n",
        "y = torch.from_numpy(y_train)\n",
        "x = torch.tensor(x).to(torch.float)\n",
        "y=  torch.tensor(y).to(torch.float)\n",
        "\n"
      ]
    },
    {
      "cell_type": "code",
      "execution_count": 12,
      "metadata": {
        "id": "tkGEWKK69kCa"
      },
      "outputs": [],
      "source": [
        "# 8.Define mse_loss, kl_closs\n",
        "mse_loss = nn.MSELoss()\n",
        "kl_loss = bnn.BKLLoss(reduction='mean', last_layer_only=False)"
      ]
    },
    {
      "cell_type": "code",
      "execution_count": 13,
      "metadata": {
        "id": "sYK6pKcgfiFr"
      },
      "outputs": [],
      "source": [
        "# 9. Define BNN Model\n",
        "model = nn.Sequential(\n",
        "    bnn.BayesLinear(prior_mu=mean_close, prior_sigma=std_close, in_features=40, out_features=100),\n",
        "    nn.ReLU(),\n",
        "    bnn.BayesLinear(prior_mu=mean_close, prior_sigma=std_close, in_features=100, out_features=1),\n",
        ")\n",
        "\n",
        "\n",
        "optimizer = optim.Adam(model.parameters(), lr=0.001)"
      ]
    },
    {
      "cell_type": "code",
      "execution_count": 14,
      "metadata": {
        "id": "qvtgwwzA_oVb"
      },
      "outputs": [],
      "source": [
        "kl_weight = 1/train_size"
      ]
    },
    {
      "cell_type": "code",
      "execution_count": 15,
      "metadata": {
        "id": "HZ6T5DK2-l3w"
      },
      "outputs": [],
      "source": [
        "def custom_kl_loss(mu_0, log_sigma_0, mu_1, log_sigma_1) :\n",
        "    kl = (log_sigma_0**2 + (mu_0-mu_1)**2)/(2*log_sigma_1**2)\n",
        "    return kl.sum()"
      ]
    },
    {
      "cell_type": "code",
      "execution_count": 16,
      "metadata": {
        "colab": {
          "base_uri": "https://localhost:8080/"
        },
        "id": "srHmbm0qfwWj",
        "outputId": "a499d679-b92e-425f-e7c9-a7e7e072bfba"
      },
      "outputs": [
        {
          "output_type": "stream",
          "name": "stderr",
          "text": [
            "/usr/local/lib/python3.10/dist-packages/torch/nn/modules/loss.py:536: UserWarning: Using a target size (torch.Size([737])) that is different to the input size (torch.Size([737, 1])). This will likely lead to incorrect results due to broadcasting. Please ensure they have the same size.\n",
            "  return F.mse_loss(input, target, reduction=self.reduction)\n"
          ]
        },
        {
          "output_type": "stream",
          "name": "stdout",
          "text": [
            "- MSE : 0.13, KL : 1.66\n"
          ]
        }
      ],
      "source": [
        "# 10. Fit mô hình với dữ liệu train\n",
        "for step in range(5000):\n",
        "    pre = model(x)\n",
        "    mse = mse_loss(pre, y)\n",
        "\n",
        "    # custom kl loss\n",
        "    ckl = 0\n",
        "    n = 0\n",
        "\n",
        "    for m in model.modules() :\n",
        "        if isinstance(m, (bnn.BayesLinear, bnn.BayesConv2d)):\n",
        "            kl = custom_kl_loss(m.weight_mu, m.weight_log_sigma,\n",
        "                                m.prior_mu, m.prior_log_sigma)\n",
        "            ckl += kl\n",
        "            n += len(m.weight_mu.view(-1))\n",
        "\n",
        "            if m.bias :\n",
        "                kl = custom_kl_loss(m.bias_mu, m.bias_log_sigma,\n",
        "                                    m.prior_mu, m.prior_log_sigma)\n",
        "                ckl += kl\n",
        "                n += len(m.bias_mu.view(-1))\n",
        "\n",
        "        if isinstance(m, bnn.BayesBatchNorm2d):\n",
        "            if m.affine :\n",
        "                kl = custom_kl_loss(m.weight_mu, m.weight_log_sigma,\n",
        "                                    m.prior_mu, m.prior_log_sigma)\n",
        "                ckl += kl\n",
        "                n += len(m.weight_mu.view(-1))\n",
        "\n",
        "                kl = custom_kl_loss(m.bias_mu, m.bias_log_sigma,\n",
        "                                    m.prior_mu, m.prior_log_sigma)\n",
        "                ckl += kl\n",
        "                n += len(m.bias_mu.view(-1))\n",
        "\n",
        "    cost = mse + kl_weight*ckl\n",
        "\n",
        "    optimizer.zero_grad()\n",
        "    cost.backward()\n",
        "    optimizer.step()\n",
        "\n",
        "\n",
        "\n",
        "print('- MSE : %2.2f, KL : %2.2f' % (mse.item(), kl.item()))"
      ]
    },
    {
      "cell_type": "code",
      "execution_count": 17,
      "metadata": {
        "colab": {
          "base_uri": "https://localhost:8080/"
        },
        "id": "khuI6_Cjh1eH",
        "outputId": "9b2f612f-a0f1-4263-b724-2981251236d9"
      },
      "outputs": [
        {
          "output_type": "stream",
          "name": "stderr",
          "text": [
            "<ipython-input-17-d8ea55870487>:5: UserWarning: To copy construct from a tensor, it is recommended to use sourceTensor.clone().detach() or sourceTensor.clone().detach().requires_grad_(True), rather than torch.tensor(sourceTensor).\n",
            "  X_test = torch.tensor(X_test).to(torch.float)\n",
            "<ipython-input-17-d8ea55870487>:6: UserWarning: To copy construct from a tensor, it is recommended to use sourceTensor.clone().detach() or sourceTensor.clone().detach().requires_grad_(True), rather than torch.tensor(sourceTensor).\n",
            "  ytest=  torch.tensor(ytest).to(torch.float)\n"
          ]
        }
      ],
      "source": [
        "# 11. Dự báo dữ liệu test\n",
        "X_test = torch.from_numpy(X_test)\n",
        "ytest = torch.from_numpy(ytest)\n",
        "\n",
        "X_test = torch.tensor(X_test).to(torch.float)\n",
        "ytest=  torch.tensor(ytest).to(torch.float)\n",
        "\n",
        "y_pred=model(X_test)\n",
        "\n",
        "\n"
      ]
    },
    {
      "cell_type": "code",
      "execution_count": 18,
      "metadata": {
        "colab": {
          "base_uri": "https://localhost:8080/"
        },
        "id": "Tba4r_OKjqCP",
        "outputId": "49e862c2-4cce-4e79-e117-983eb963e5e9"
      },
      "outputs": [
        {
          "output_type": "stream",
          "name": "stderr",
          "text": [
            "<ipython-input-18-f064669fcde6>:4: UserWarning: To copy construct from a tensor, it is recommended to use sourceTensor.clone().detach() or sourceTensor.clone().detach().requires_grad_(True), rather than torch.tensor(sourceTensor).\n",
            "  X_val = torch.tensor(X_val).to(torch.float)\n",
            "<ipython-input-18-f064669fcde6>:5: UserWarning: To copy construct from a tensor, it is recommended to use sourceTensor.clone().detach() or sourceTensor.clone().detach().requires_grad_(True), rather than torch.tensor(sourceTensor).\n",
            "  yval=  torch.tensor(yval).to(torch.float)\n"
          ]
        }
      ],
      "source": [
        "# 12. Dự báo dữ liệu val\n",
        "X_val = torch.from_numpy(X_val)\n",
        "yval = torch.from_numpy(yval)\n",
        "X_val = torch.tensor(X_val).to(torch.float)\n",
        "yval=  torch.tensor(yval).to(torch.float)\n",
        "\n",
        "y_pred_val=model(X_val)"
      ]
    },
    {
      "cell_type": "code",
      "execution_count": 19,
      "metadata": {
        "id": "czNAfsBSNvX2"
      },
      "outputs": [],
      "source": [
        "# 13. Chuẩn hóa dữ liệu y_pred, y_pred_val\n",
        "y_pred = y_pred.detach().numpy()\n",
        "y_pred_val=y_pred_val.detach().numpy()\n",
        "y_pred=scaler.inverse_transform(y_pred)\n",
        "y_pred_val=scaler.inverse_transform(y_pred_val)\n",
        "\n",
        "original_ytest = scaler.inverse_transform(ytest.reshape(-1,1))\n",
        "original_yval = scaler.inverse_transform(yval.reshape(-1,1))"
      ]
    },
    {
      "cell_type": "code",
      "execution_count": 20,
      "metadata": {
        "id": "s475YMf8SDto"
      },
      "outputs": [],
      "source": [
        "yval = yval.detach().numpy()\n",
        "ytest=ytest.detach().numpy()"
      ]
    },
    {
      "cell_type": "code",
      "execution_count": 21,
      "metadata": {
        "colab": {
          "base_uri": "https://localhost:8080/"
        },
        "id": "m24OQavHzQ5i",
        "outputId": "65e35714-6f73-4d99-daf4-5fa377a6ce09"
      },
      "outputs": [
        {
          "output_type": "stream",
          "name": "stdout",
          "text": [
            "Validation RMSE: 13967.10\n",
            "Testing RMSE: 4419.06\n"
          ]
        }
      ],
      "source": [
        "# 14. Đánh giá độ chính xác thuật toán bằng RMSE\n",
        "\n",
        "valid_rmse = np.sqrt(np.mean((y_pred_val - original_yval)**2))\n",
        "test_rmse = np.sqrt(np.mean((y_pred - original_ytest)**2))\n",
        "print(f\"Validation RMSE: {valid_rmse:.2f}\")\n",
        "print(f\"Testing RMSE: {test_rmse:.2f}\")"
      ]
    },
    {
      "cell_type": "code",
      "execution_count": 22,
      "metadata": {
        "colab": {
          "base_uri": "https://localhost:8080/"
        },
        "id": "fJdegoJs0ceV",
        "outputId": "af6da210-45eb-4e07-a4c2-12b1de1435c9"
      },
      "outputs": [
        {
          "output_type": "stream",
          "name": "stdout",
          "text": [
            "Validation MDA: 35.71%\n",
            "Testing MDA: 44.44%\n"
          ]
        }
      ],
      "source": [
        "# 15. Đánh giá độ chính xác thuật toán bằng MDA\n",
        "def mda_cal(actual: np.ndarray, predicted: np.ndarray):\n",
        "    \"\"\" Mean Directional Accuracy \"\"\"\n",
        "    return np.mean((np.sign(actual[1:] - actual[:-1]) == np.sign(predicted[1:] - actual[:-1])).astype(int))\n",
        "\n",
        "valid_mda = mda_cal(original_yval, y_pred_val)\n",
        "test_mda = mda_cal(original_ytest,y_pred)\n",
        "print(f\"Validation MDA: {valid_mda* 100:.2f}%\")\n",
        "print(f\"Testing MDA: {test_mda*100:.2f}%\")"
      ]
    },
    {
      "cell_type": "code",
      "execution_count": 23,
      "metadata": {
        "colab": {
          "base_uri": "https://localhost:8080/"
        },
        "id": "MTgQYZCM0ryA",
        "outputId": "0554e9be-7658-499e-b2c1-ce79238adf50"
      },
      "outputs": [
        {
          "output_type": "stream",
          "name": "stdout",
          "text": [
            "Validation MAPE: 52.87%\n",
            "Testing MAPE: 18.27%\n"
          ]
        }
      ],
      "source": [
        "# 16. Đánh giá độ chính xác thuật toán bằng MAPE\n",
        "valid_mape = mean_absolute_percentage_error(original_yval, y_pred_val)\n",
        "test_mape = mean_absolute_percentage_error(original_ytest ,y_pred)\n",
        "print(f\"Validation MAPE: {valid_mape* 100:.2f}%\")\n",
        "print(f\"Testing MAPE: {test_mape*100:.2f}%\")"
      ]
    },
    {
      "cell_type": "code",
      "execution_count": 24,
      "metadata": {
        "colab": {
          "base_uri": "https://localhost:8080/",
          "height": 795
        },
        "id": "aWolx9btp7hb",
        "outputId": "dc723bb4-e289-409f-fa0c-01dcef020e29"
      },
      "outputs": [
        {
          "output_type": "display_data",
          "data": {
            "text/plain": [
              "<Figure size 1600x900 with 1 Axes>"
            ],
            "image/png": "[encoded data removed]"
          },
          "metadata": {}
        }
      ],
      "source": [
        "\n",
        "# 17.Vẽ hình\n",
        "plt.figure(figsize=(16,9))\n",
        "plt.ylabel('Closing Price');\n",
        "plt.xlabel('Date');\n",
        "plt.title('BNN STB 7-2-1')\n",
        "train_index = df[:train_size].index\n",
        "plt.plot(train_index,scaler.inverse_transform(train_data))\n",
        "#test\n",
        "test_index = df[train_size:train_size+test_size].index\n",
        "plt.plot(test_index,scaler.inverse_transform(test_data))\n",
        "#test predict\n",
        "test_predict_index = df[train_size+41:train_size+test_size].index\n",
        "plt.plot(test_predict_index,(y_pred))\n",
        "#val\n",
        "val_index = df[train_size+test_size:train_size+test_size+val_size].index\n",
        "plt.plot(val_index,scaler.inverse_transform(val_data))\n",
        "#val predict\n",
        "val_predict_index = df[train_size+test_size+41:train_size+test_size+val_size].index\n",
        "plt.plot(val_predict_index,y_pred_val)\n",
        "plt.legend(['Train','Test','Predict','Validate','ValidatePred'])\n",
        "plt.show()"
      ]
    }
  ],
  "metadata": {
    "colab": {
      "provenance": []
    },
    "kernelspec": {
      "display_name": "Python 3",
      "name": "python3"
    },
    "language_info": {
      "name": "python"
    }
  },
  "nbformat": 4,
  "nbformat_minor": 0
}