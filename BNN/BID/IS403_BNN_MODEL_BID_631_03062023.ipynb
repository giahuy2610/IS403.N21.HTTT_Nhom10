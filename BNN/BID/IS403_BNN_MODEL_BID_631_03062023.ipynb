{
  "cells": [
    {
      "cell_type": "code",
      "execution_count": 1,
      "metadata": {
        "colab": {
          "base_uri": "https://localhost:8080/"
        },
        "id": "2blTT9WedsLU",
        "outputId": "6a7c289c-07ad-49d5-bbf2-da2b9fbbd910"
      },
      "outputs": [
        {
          "output_type": "stream",
          "name": "stdout",
          "text": [
            "Looking in indexes: https://pypi.org/simple, https://us-python.pkg.dev/colab-wheels/public/simple/\n",
            "Requirement already satisfied: torchbnn in /usr/local/lib/python3.10/dist-packages (1.2)\n"
          ]
        }
      ],
      "source": [
        "pip install torchbnn "
      ]
    },
    {
      "cell_type": "code",
      "execution_count": 2,
      "metadata": {
        "id": "oOMXfHsEcPle",
        "colab": {
          "base_uri": "https://localhost:8080/"
        },
        "outputId": "0eeb8448-9ffe-41bb-85f5-1ff45ff1ec51"
      },
      "outputs": [
        {
          "output_type": "stream",
          "name": "stdout",
          "text": [
            "Drive already mounted at /content/drive; to attempt to forcibly remount, call drive.mount(\"/content/drive\", force_remount=True).\n"
          ]
        }
      ],
      "source": [
        "from google.colab import drive\n",
        "drive.mount('/content/drive')\n",
        "import numpy as np\n",
        "from sklearn import datasets\n",
        "import pandas as pd\n",
        "from sklearn.preprocessing import MinMaxScaler\n",
        "\n",
        "import torch\n",
        "import torch.nn as nn\n",
        "import torch.optim as optim\n",
        "\n",
        "import torchbnn as bnn\n",
        "import matplotlib.pyplot as plt\n",
        "%matplotlib inline\n",
        "import datetime as dt\n",
        "from datetime import datetime \n",
        "from statsmodels.tsa.seasonal import seasonal_decompose\n",
        "from sklearn.metrics import  mean_absolute_percentage_error, mean_absolute_error,mean_squared_error"
      ]
    },
    {
      "cell_type": "code",
      "execution_count": 3,
      "metadata": {
        "id": "TfPlk_uyd0wj",
        "colab": {
          "base_uri": "https://localhost:8080/",
          "height": 237
        },
        "outputId": "032caf7f-cdd1-4ede-d7e3-737a8386e6a0"
      },
      "outputs": [
        {
          "output_type": "execute_result",
          "data": {
            "text/plain": [
              "              Close      Open      High       Low   Vol. Change %\n",
              "Date                                                             \n",
              "2019-01-02  11600.0  12,000.0  12,050.0  11,600.0  3.86M   -2.93%\n",
              "2019-01-03  11100.0  11,500.0  11,650.0  11,100.0  6.28M   -4.31%\n",
              "2019-01-04  11150.0  11,000.0  11,350.0  10,900.0  3.83M    0.45%\n",
              "2019-01-07  11500.0  11,400.0  11,600.0  11,350.0  3.70M    3.14%\n",
              "2019-01-08  11350.0  11,500.0  11,500.0  11,300.0  1.57M   -1.30%"
            ],
            "text/html": [
              "\n",
              "  <div id=\"df-beba0f8d-a622-4168-b59b-ee150be5aa5a\">\n",
              "    <div class=\"colab-df-container\">\n",
              "      <div>\n",
              "<style scoped>\n",
              "    .dataframe tbody tr th:only-of-type {\n",
              "        vertical-align: middle;\n",
              "    }\n",
              "\n",
              "    .dataframe tbody tr th {\n",
              "        vertical-align: top;\n",
              "    }\n",
              "\n",
              "    .dataframe thead th {\n",
              "        text-align: right;\n",
              "    }\n",
              "</style>\n",
              "<table border=\"1\" class=\"dataframe\">\n",
              "  <thead>\n",
              "    <tr style=\"text-align: right;\">\n",
              "      <th></th>\n",
              "      <th>Close</th>\n",
              "      <th>Open</th>\n",
              "      <th>High</th>\n",
              "      <th>Low</th>\n",
              "      <th>Vol.</th>\n",
              "      <th>Change %</th>\n",
              "    </tr>\n",
              "    <tr>\n",
              "      <th>Date</th>\n",
              "      <th></th>\n",
              "      <th></th>\n",
              "      <th></th>\n",
              "      <th></th>\n",
              "      <th></th>\n",
              "      <th></th>\n",
              "    </tr>\n",
              "  </thead>\n",
              "  <tbody>\n",
              "    <tr>\n",
              "      <th>2019-01-02</th>\n",
              "      <td>11600.0</td>\n",
              "      <td>12,000.0</td>\n",
              "      <td>12,050.0</td>\n",
              "      <td>11,600.0</td>\n",
              "      <td>3.86M</td>\n",
              "      <td>-2.93%</td>\n",
              "    </tr>\n",
              "    <tr>\n",
              "      <th>2019-01-03</th>\n",
              "      <td>11100.0</td>\n",
              "      <td>11,500.0</td>\n",
              "      <td>11,650.0</td>\n",
              "      <td>11,100.0</td>\n",
              "      <td>6.28M</td>\n",
              "      <td>-4.31%</td>\n",
              "    </tr>\n",
              "    <tr>\n",
              "      <th>2019-01-04</th>\n",
              "      <td>11150.0</td>\n",
              "      <td>11,000.0</td>\n",
              "      <td>11,350.0</td>\n",
              "      <td>10,900.0</td>\n",
              "      <td>3.83M</td>\n",
              "      <td>0.45%</td>\n",
              "    </tr>\n",
              "    <tr>\n",
              "      <th>2019-01-07</th>\n",
              "      <td>11500.0</td>\n",
              "      <td>11,400.0</td>\n",
              "      <td>11,600.0</td>\n",
              "      <td>11,350.0</td>\n",
              "      <td>3.70M</td>\n",
              "      <td>3.14%</td>\n",
              "    </tr>\n",
              "    <tr>\n",
              "      <th>2019-01-08</th>\n",
              "      <td>11350.0</td>\n",
              "      <td>11,500.0</td>\n",
              "      <td>11,500.0</td>\n",
              "      <td>11,300.0</td>\n",
              "      <td>1.57M</td>\n",
              "      <td>-1.30%</td>\n",
              "    </tr>\n",
              "  </tbody>\n",
              "</table>\n",
              "</div>\n",
              "      <button class=\"colab-df-convert\" onclick=\"convertToInteractive('df-beba0f8d-a622-4168-b59b-ee150be5aa5a')\"\n",
              "              title=\"Convert this dataframe to an interactive table.\"\n",
              "              style=\"display:none;\">\n",
              "        \n",
              "  <svg xmlns=\"http://www.w3.org/2000/svg\" height=\"24px\"viewBox=\"0 0 24 24\"\n",
              "       width=\"24px\">\n",
              "    <path d=\"M0 0h24v24H0V0z\" fill=\"none\"/>\n",
              "    <path d=\"M18.56 5.44l.94 2.06.94-2.06 2.06-.94-2.06-.94-.94-2.06-.94 2.06-2.06.94zm-11 1L8.5 8.5l.94-2.06 2.06-.94-2.06-.94L8.5 2.5l-.94 2.06-2.06.94zm10 10l.94 2.06.94-2.06 2.06-.94-2.06-.94-.94-2.06-.94 2.06-2.06.94z\"/><path d=\"M17.41 7.96l-1.37-1.37c-.4-.4-.92-.59-1.43-.59-.52 0-1.04.2-1.43.59L10.3 9.45l-7.72 7.72c-.78.78-.78 2.05 0 2.83L4 21.41c.39.39.9.59 1.41.59.51 0 1.02-.2 1.41-.59l7.78-7.78 2.81-2.81c.8-.78.8-2.07 0-2.86zM5.41 20L4 18.59l7.72-7.72 1.47 1.35L5.41 20z\"/>\n",
              "  </svg>\n",
              "      </button>\n",
              "      \n",
              "  <style>\n",
              "    .colab-df-container {\n",
              "      display:flex;\n",
              "      flex-wrap:wrap;\n",
              "      gap: 12px;\n",
              "    }\n",
              "\n",
              "    .colab-df-convert {\n",
              "      background-color: #E8F0FE;\n",
              "      border: none;\n",
              "      border-radius: 50%;\n",
              "      cursor: pointer;\n",
              "      display: none;\n",
              "      fill: #1967D2;\n",
              "      height: 32px;\n",
              "      padding: 0 0 0 0;\n",
              "      width: 32px;\n",
              "    }\n",
              "\n",
              "    .colab-df-convert:hover {\n",
              "      background-color: #E2EBFA;\n",
              "      box-shadow: 0px 1px 2px rgba(60, 64, 67, 0.3), 0px 1px 3px 1px rgba(60, 64, 67, 0.15);\n",
              "      fill: #174EA6;\n",
              "    }\n",
              "\n",
              "    [theme=dark] .colab-df-convert {\n",
              "      background-color: #3B4455;\n",
              "      fill: #D2E3FC;\n",
              "    }\n",
              "\n",
              "    [theme=dark] .colab-df-convert:hover {\n",
              "      background-color: #434B5C;\n",
              "      box-shadow: 0px 1px 3px 1px rgba(0, 0, 0, 0.15);\n",
              "      filter: drop-shadow(0px 1px 2px rgba(0, 0, 0, 0.3));\n",
              "      fill: #FFFFFF;\n",
              "    }\n",
              "  </style>\n",
              "\n",
              "      <script>\n",
              "        const buttonEl =\n",
              "          document.querySelector('#df-beba0f8d-a622-4168-b59b-ee150be5aa5a button.colab-df-convert');\n",
              "        buttonEl.style.display =\n",
              "          google.colab.kernel.accessAllowed ? 'block' : 'none';\n",
              "\n",
              "        async function convertToInteractive(key) {\n",
              "          const element = document.querySelector('#df-beba0f8d-a622-4168-b59b-ee150be5aa5a');\n",
              "          const dataTable =\n",
              "            await google.colab.kernel.invokeFunction('convertToInteractive',\n",
              "                                                     [key], {});\n",
              "          if (!dataTable) return;\n",
              "\n",
              "          const docLinkHtml = 'Like what you see? Visit the ' +\n",
              "            '<a target=\"_blank\" href=https://colab.research.google.com/notebooks/data_table.ipynb>data table notebook</a>'\n",
              "            + ' to learn more about interactive tables.';\n",
              "          element.innerHTML = '';\n",
              "          dataTable['output_type'] = 'display_data';\n",
              "          await google.colab.output.renderOutput(dataTable, element);\n",
              "          const docLink = document.createElement('div');\n",
              "          docLink.innerHTML = docLinkHtml;\n",
              "          element.appendChild(docLink);\n",
              "        }\n",
              "      </script>\n",
              "    </div>\n",
              "  </div>\n",
              "  "
            ]
          },
          "metadata": {},
          "execution_count": 3
        }
      ],
      "source": [
        "# 2. Đọc file csv và gắng index với giá Close\n",
        "df = pd.read_csv('/content/drive/MyDrive/StockData/STB-Historical-Data.csv',index_col=0,parse_dates=True).sort_values(by='Date',ascending=True)\n",
        "\n",
        "df['Price']=df['Price'].replace(',','',regex=True).astype(float)\n",
        "\n",
        "df = df.rename(columns={'Price': 'Close'})\n",
        "df.head()\n",
        "\n"
      ]
    },
    {
      "cell_type": "code",
      "source": [
        "df1 = df[['Close']]\n",
        "df1"
      ],
      "metadata": {
        "colab": {
          "base_uri": "https://localhost:8080/",
          "height": 455
        },
        "id": "5U3ml8hVQHfX",
        "outputId": "bebb467c-e9f2-44a3-ba79-d184a3b0ec2b"
      },
      "execution_count": 4,
      "outputs": [
        {
          "output_type": "execute_result",
          "data": {
            "text/plain": [
              "              Close\n",
              "Date               \n",
              "2019-01-02  11600.0\n",
              "2019-01-03  11100.0\n",
              "2019-01-04  11150.0\n",
              "2019-01-07  11500.0\n",
              "2019-01-08  11350.0\n",
              "...             ...\n",
              "2023-05-26  27200.0\n",
              "2023-05-29  27700.0\n",
              "2023-05-30  27700.0\n",
              "2023-05-31  27700.0\n",
              "2023-06-01  27950.0\n",
              "\n",
              "[1101 rows x 1 columns]"
            ],
            "text/html": [
              "\n",
              "  <div id=\"df-e95e13fc-4919-425a-8ca1-81ceb48e80bd\">\n",
              "    <div class=\"colab-df-container\">\n",
              "      <div>\n",
              "<style scoped>\n",
              "    .dataframe tbody tr th:only-of-type {\n",
              "        vertical-align: middle;\n",
              "    }\n",
              "\n",
              "    .dataframe tbody tr th {\n",
              "        vertical-align: top;\n",
              "    }\n",
              "\n",
              "    .dataframe thead th {\n",
              "        text-align: right;\n",
              "    }\n",
              "</style>\n",
              "<table border=\"1\" class=\"dataframe\">\n",
              "  <thead>\n",
              "    <tr style=\"text-align: right;\">\n",
              "      <th></th>\n",
              "      <th>Close</th>\n",
              "    </tr>\n",
              "    <tr>\n",
              "      <th>Date</th>\n",
              "      <th></th>\n",
              "    </tr>\n",
              "  </thead>\n",
              "  <tbody>\n",
              "    <tr>\n",
              "      <th>2019-01-02</th>\n",
              "      <td>11600.0</td>\n",
              "    </tr>\n",
              "    <tr>\n",
              "      <th>2019-01-03</th>\n",
              "      <td>11100.0</td>\n",
              "    </tr>\n",
              "    <tr>\n",
              "      <th>2019-01-04</th>\n",
              "      <td>11150.0</td>\n",
              "    </tr>\n",
              "    <tr>\n",
              "      <th>2019-01-07</th>\n",
              "      <td>11500.0</td>\n",
              "    </tr>\n",
              "    <tr>\n",
              "      <th>2019-01-08</th>\n",
              "      <td>11350.0</td>\n",
              "    </tr>\n",
              "    <tr>\n",
              "      <th>...</th>\n",
              "      <td>...</td>\n",
              "    </tr>\n",
              "    <tr>\n",
              "      <th>2023-05-26</th>\n",
              "      <td>27200.0</td>\n",
              "    </tr>\n",
              "    <tr>\n",
              "      <th>2023-05-29</th>\n",
              "      <td>27700.0</td>\n",
              "    </tr>\n",
              "    <tr>\n",
              "      <th>2023-05-30</th>\n",
              "      <td>27700.0</td>\n",
              "    </tr>\n",
              "    <tr>\n",
              "      <th>2023-05-31</th>\n",
              "      <td>27700.0</td>\n",
              "    </tr>\n",
              "    <tr>\n",
              "      <th>2023-06-01</th>\n",
              "      <td>27950.0</td>\n",
              "    </tr>\n",
              "  </tbody>\n",
              "</table>\n",
              "<p>1101 rows × 1 columns</p>\n",
              "</div>\n",
              "      <button class=\"colab-df-convert\" onclick=\"convertToInteractive('df-e95e13fc-4919-425a-8ca1-81ceb48e80bd')\"\n",
              "              title=\"Convert this dataframe to an interactive table.\"\n",
              "              style=\"display:none;\">\n",
              "        \n",
              "  <svg xmlns=\"http://www.w3.org/2000/svg\" height=\"24px\"viewBox=\"0 0 24 24\"\n",
              "       width=\"24px\">\n",
              "    <path d=\"M0 0h24v24H0V0z\" fill=\"none\"/>\n",
              "    <path d=\"M18.56 5.44l.94 2.06.94-2.06 2.06-.94-2.06-.94-.94-2.06-.94 2.06-2.06.94zm-11 1L8.5 8.5l.94-2.06 2.06-.94-2.06-.94L8.5 2.5l-.94 2.06-2.06.94zm10 10l.94 2.06.94-2.06 2.06-.94-2.06-.94-.94-2.06-.94 2.06-2.06.94z\"/><path d=\"M17.41 7.96l-1.37-1.37c-.4-.4-.92-.59-1.43-.59-.52 0-1.04.2-1.43.59L10.3 9.45l-7.72 7.72c-.78.78-.78 2.05 0 2.83L4 21.41c.39.39.9.59 1.41.59.51 0 1.02-.2 1.41-.59l7.78-7.78 2.81-2.81c.8-.78.8-2.07 0-2.86zM5.41 20L4 18.59l7.72-7.72 1.47 1.35L5.41 20z\"/>\n",
              "  </svg>\n",
              "      </button>\n",
              "      \n",
              "  <style>\n",
              "    .colab-df-container {\n",
              "      display:flex;\n",
              "      flex-wrap:wrap;\n",
              "      gap: 12px;\n",
              "    }\n",
              "\n",
              "    .colab-df-convert {\n",
              "      background-color: #E8F0FE;\n",
              "      border: none;\n",
              "      border-radius: 50%;\n",
              "      cursor: pointer;\n",
              "      display: none;\n",
              "      fill: #1967D2;\n",
              "      height: 32px;\n",
              "      padding: 0 0 0 0;\n",
              "      width: 32px;\n",
              "    }\n",
              "\n",
              "    .colab-df-convert:hover {\n",
              "      background-color: #E2EBFA;\n",
              "      box-shadow: 0px 1px 2px rgba(60, 64, 67, 0.3), 0px 1px 3px 1px rgba(60, 64, 67, 0.15);\n",
              "      fill: #174EA6;\n",
              "    }\n",
              "\n",
              "    [theme=dark] .colab-df-convert {\n",
              "      background-color: #3B4455;\n",
              "      fill: #D2E3FC;\n",
              "    }\n",
              "\n",
              "    [theme=dark] .colab-df-convert:hover {\n",
              "      background-color: #434B5C;\n",
              "      box-shadow: 0px 1px 3px 1px rgba(0, 0, 0, 0.15);\n",
              "      filter: drop-shadow(0px 1px 2px rgba(0, 0, 0, 0.3));\n",
              "      fill: #FFFFFF;\n",
              "    }\n",
              "  </style>\n",
              "\n",
              "      <script>\n",
              "        const buttonEl =\n",
              "          document.querySelector('#df-e95e13fc-4919-425a-8ca1-81ceb48e80bd button.colab-df-convert');\n",
              "        buttonEl.style.display =\n",
              "          google.colab.kernel.accessAllowed ? 'block' : 'none';\n",
              "\n",
              "        async function convertToInteractive(key) {\n",
              "          const element = document.querySelector('#df-e95e13fc-4919-425a-8ca1-81ceb48e80bd');\n",
              "          const dataTable =\n",
              "            await google.colab.kernel.invokeFunction('convertToInteractive',\n",
              "                                                     [key], {});\n",
              "          if (!dataTable) return;\n",
              "\n",
              "          const docLinkHtml = 'Like what you see? Visit the ' +\n",
              "            '<a target=\"_blank\" href=https://colab.research.google.com/notebooks/data_table.ipynb>data table notebook</a>'\n",
              "            + ' to learn more about interactive tables.';\n",
              "          element.innerHTML = '';\n",
              "          dataTable['output_type'] = 'display_data';\n",
              "          await google.colab.output.renderOutput(dataTable, element);\n",
              "          const docLink = document.createElement('div');\n",
              "          docLink.innerHTML = docLinkHtml;\n",
              "          element.appendChild(docLink);\n",
              "        }\n",
              "      </script>\n",
              "    </div>\n",
              "  </div>\n",
              "  "
            ]
          },
          "metadata": {},
          "execution_count": 4
        }
      ]
    },
    {
      "cell_type": "code",
      "execution_count": 5,
      "metadata": {
        "id": "paElQufsmgK1"
      },
      "outputs": [],
      "source": [
        "# 3. Scaler data\n",
        "scaler=MinMaxScaler()\n",
        "df1=scaler.fit_transform(np.array(df1).reshape(-1,1))"
      ]
    },
    {
      "cell_type": "code",
      "source": [
        "mean_close=df1.mean()\n",
        "std_close=df1.std()"
      ],
      "metadata": {
        "id": "Z4Y4otaZxCS8"
      },
      "execution_count": 6,
      "outputs": []
    },
    {
      "cell_type": "code",
      "execution_count": 7,
      "metadata": {
        "id": "88UoOnaxfYFo"
      },
      "outputs": [],
      "source": [
        "# 4. Chia train test tỉ lệ \n",
        "train_size = int(0.6 * len(df1))\n",
        "test_size = int(0.3 * len(df1))\n",
        "val_size = len(df1) - train_size - test_size\n",
        "\n",
        "train_data = df1[:train_size]\n",
        "test_data = df1[train_size:train_size+test_size]\n",
        "val_data = df1[train_size+test_size:]"
      ]
    },
    {
      "cell_type": "code",
      "execution_count": 8,
      "metadata": {
        "id": "F4B_xKfgkedZ"
      },
      "outputs": [],
      "source": [
        "# 5. Hàm Create Dataset\n",
        "#window sliding\n",
        "def create_dataset(dataset, time_step=1):\n",
        "\tdataX, dataY = [], []\n",
        "\tfor i in range(len(dataset)-time_step-1):\n",
        "\t\ta = dataset[i:(i+time_step), 0]   \n",
        "\t\tdataX.append(a)\n",
        "\t\tdataY.append(dataset[i + time_step, 0])\n",
        "\treturn np.array(dataX),np.array(dataY)"
      ]
    },
    {
      "cell_type": "code",
      "execution_count": 9,
      "metadata": {
        "id": "vaIQMeo3nADT"
      },
      "outputs": [],
      "source": [
        "#6. Reshape into X=t,t+1,t+2..t+99 and Y=t+100\n",
        "\n",
        "time_step = 40\n",
        "X_train, y_train = create_dataset(train_data, time_step)\n",
        "X_val, yval = create_dataset(val_data, time_step)\n",
        "X_test, ytest = create_dataset(test_data, time_step)"
      ]
    },
    {
      "cell_type": "code",
      "execution_count": 10,
      "metadata": {
        "id": "8z8aPK565H0q",
        "colab": {
          "base_uri": "https://localhost:8080/"
        },
        "outputId": "f9d39bd1-47e6-4ff7-858f-003bd5fce61b"
      },
      "outputs": [
        {
          "output_type": "stream",
          "name": "stderr",
          "text": [
            "<ipython-input-10-b1de043f30de>:3: UserWarning: To copy construct from a tensor, it is recommended to use sourceTensor.clone().detach() or sourceTensor.clone().detach().requires_grad_(True), rather than torch.tensor(sourceTensor).\n",
            "  x = torch.tensor(x).to(torch.float)\n",
            "<ipython-input-10-b1de043f30de>:4: UserWarning: To copy construct from a tensor, it is recommended to use sourceTensor.clone().detach() or sourceTensor.clone().detach().requires_grad_(True), rather than torch.tensor(sourceTensor).\n",
            "  y=  torch.tensor(y).to(torch.float)\n"
          ]
        }
      ],
      "source": [
        "x = torch.from_numpy(X_train)\n",
        "y = torch.from_numpy(y_train)\n",
        "x = torch.tensor(x).to(torch.float)\n",
        "y=  torch.tensor(y).to(torch.float)\n",
        "\n",
        "\n"
      ]
    },
    {
      "cell_type": "code",
      "execution_count": 11,
      "metadata": {
        "id": "sYK6pKcgfiFr"
      },
      "outputs": [],
      "source": [
        "model = nn.Sequential(\n",
        "    bnn.BayesLinear(prior_mu=mean_close, prior_sigma= std_close, in_features=40, out_features=100),\n",
        "    nn.ReLU(),\n",
        "    bnn.BayesLinear(prior_mu=mean_close, prior_sigma= std_close, in_features=100, out_features=1),\n",
        ")"
      ]
    },
    {
      "cell_type": "code",
      "execution_count": 12,
      "metadata": {
        "id": "EI4St21ZflxI"
      },
      "outputs": [],
      "source": [
        "mse_loss = nn.MSELoss()\n",
        "kl_loss = bnn.BKLLoss(reduction='mean', last_layer_only=False)\n",
        "kl_weight = 0.01\n",
        "\n",
        "optimizer = optim.Adam(model.parameters(), lr=0.01)"
      ]
    },
    {
      "cell_type": "code",
      "execution_count": 13,
      "metadata": {
        "id": "srHmbm0qfwWj",
        "colab": {
          "base_uri": "https://localhost:8080/"
        },
        "outputId": "bc008899-64cd-41c4-838a-6370eb0a021f"
      },
      "outputs": [
        {
          "output_type": "stream",
          "name": "stderr",
          "text": [
            "/usr/local/lib/python3.10/dist-packages/torch/nn/modules/loss.py:536: UserWarning: Using a target size (torch.Size([619])) that is different to the input size (torch.Size([619, 1])). This will likely lead to incorrect results due to broadcasting. Please ensure they have the same size.\n",
            "  return F.mse_loss(input, target, reduction=self.reduction)\n"
          ]
        },
        {
          "output_type": "stream",
          "name": "stdout",
          "text": [
            "- MSE : 0.06, KL : 1.68\n"
          ]
        }
      ],
      "source": [
        "kl_weight = 0.1\n",
        "for step in range(3000):\n",
        "    pre = model(x)\n",
        "    mse = mse_loss(pre, y)\n",
        "    kl = kl_loss(model)\n",
        "    cost = mse + kl_weight*kl\n",
        "    \n",
        "    optimizer.zero_grad()\n",
        "    cost.backward()\n",
        "    optimizer.step()\n",
        "    \n",
        "print('- MSE : %2.2f, KL : %2.2f' % (mse.item(), kl.item()))\n",
        "\n"
      ]
    },
    {
      "cell_type": "code",
      "execution_count": 14,
      "metadata": {
        "id": "khuI6_Cjh1eH",
        "colab": {
          "base_uri": "https://localhost:8080/"
        },
        "outputId": "38f7cbb7-5f72-4f09-c57b-9a65dd583c98"
      },
      "outputs": [
        {
          "output_type": "stream",
          "name": "stderr",
          "text": [
            "<ipython-input-14-e05097e078a4>:4: UserWarning: To copy construct from a tensor, it is recommended to use sourceTensor.clone().detach() or sourceTensor.clone().detach().requires_grad_(True), rather than torch.tensor(sourceTensor).\n",
            "  X_test = torch.tensor(X_test).to(torch.float)\n",
            "<ipython-input-14-e05097e078a4>:5: UserWarning: To copy construct from a tensor, it is recommended to use sourceTensor.clone().detach() or sourceTensor.clone().detach().requires_grad_(True), rather than torch.tensor(sourceTensor).\n",
            "  ytest=  torch.tensor(ytest).to(torch.float)\n"
          ]
        }
      ],
      "source": [
        "X_test = torch.from_numpy(X_test)\n",
        "ytest = torch.from_numpy(ytest)\n",
        "\n",
        "X_test = torch.tensor(X_test).to(torch.float)\n",
        "ytest=  torch.tensor(ytest).to(torch.float)\n",
        "\n",
        "y_pred=model(X_test)\n",
        "\n",
        "\n"
      ]
    },
    {
      "cell_type": "code",
      "execution_count": 15,
      "metadata": {
        "id": "Tba4r_OKjqCP",
        "colab": {
          "base_uri": "https://localhost:8080/"
        },
        "outputId": "4553b4cb-5e63-40db-b0a2-4387b349f716"
      },
      "outputs": [
        {
          "output_type": "stream",
          "name": "stderr",
          "text": [
            "<ipython-input-15-e1d347aee92c>:3: UserWarning: To copy construct from a tensor, it is recommended to use sourceTensor.clone().detach() or sourceTensor.clone().detach().requires_grad_(True), rather than torch.tensor(sourceTensor).\n",
            "  X_val = torch.tensor(X_val).to(torch.float)\n",
            "<ipython-input-15-e1d347aee92c>:4: UserWarning: To copy construct from a tensor, it is recommended to use sourceTensor.clone().detach() or sourceTensor.clone().detach().requires_grad_(True), rather than torch.tensor(sourceTensor).\n",
            "  yval=  torch.tensor(yval).to(torch.float)\n"
          ]
        }
      ],
      "source": [
        "X_val = torch.from_numpy(X_val)\n",
        "yval = torch.from_numpy(yval)\n",
        "X_val = torch.tensor(X_val).to(torch.float)\n",
        "yval=  torch.tensor(yval).to(torch.float)\n",
        "\n",
        "y_pred_val=model(X_val)"
      ]
    },
    {
      "cell_type": "code",
      "execution_count": 16,
      "metadata": {
        "id": "czNAfsBSNvX2"
      },
      "outputs": [],
      "source": [
        "\n",
        "y_pred = y_pred.detach().numpy()\n",
        "y_pred_val=y_pred_val.detach().numpy()\n",
        "y_pred=scaler.inverse_transform(y_pred)\n",
        "y_pred_val=scaler.inverse_transform(y_pred_val)\n",
        "\n",
        "original_ytest = scaler.inverse_transform(ytest.reshape(-1,1)) \n",
        "original_yval = scaler.inverse_transform(yval.reshape(-1,1)) "
      ]
    },
    {
      "cell_type": "code",
      "source": [
        "yval = yval.detach().numpy()\n",
        "ytest=ytest.detach().numpy()"
      ],
      "metadata": {
        "id": "s475YMf8SDto"
      },
      "execution_count": 17,
      "outputs": []
    },
    {
      "cell_type": "code",
      "source": [
        "# 12. Đánh giá độ chính xác thuật toán bằng RMSE\n",
        "\n",
        "valid_rmse = np.sqrt(np.mean((y_pred_val - original_yval)**2))\n",
        "test_rmse = np.sqrt(np.mean((y_pred - original_ytest)**2))\n",
        "print(f\"Validation RMSE: {valid_rmse:.2f}\")\n",
        "print(f\"Testing RMSE: {test_rmse:.2f}\")"
      ],
      "metadata": {
        "colab": {
          "base_uri": "https://localhost:8080/"
        },
        "id": "m24OQavHzQ5i",
        "outputId": "fea13eb3-e3ec-4f5e-adaf-8ff38bdbe7ef"
      },
      "execution_count": 18,
      "outputs": [
        {
          "output_type": "stream",
          "name": "stdout",
          "text": [
            "Validation RMSE: 12846.19\n",
            "Testing RMSE: 9787.34\n"
          ]
        }
      ]
    },
    {
      "cell_type": "code",
      "source": [
        "# 13. Đánh giá độ chính xác thuật toán bằng MAE\n",
        "valid_mae = mean_absolute_error(original_yval, y_pred_val)\n",
        "test_mae = mean_absolute_error(original_ytest , y_pred)\n",
        "print(f\"Validation MAE: {valid_mae:.2f}\")\n",
        "print(f\"Testing MAE: {test_mae:.2f}\")"
      ],
      "metadata": {
        "colab": {
          "base_uri": "https://localhost:8080/"
        },
        "id": "fJdegoJs0ceV",
        "outputId": "6ba48bd7-3361-4295-b987-7d643cd48b1f"
      },
      "execution_count": 19,
      "outputs": [
        {
          "output_type": "stream",
          "name": "stdout",
          "text": [
            "Validation MAE: 12797.24\n",
            "Testing MAE: 8479.09\n"
          ]
        }
      ]
    },
    {
      "cell_type": "code",
      "source": [
        "# 14. Đánh giá độ chính xác thuật toán bằng MAPE\n",
        "valid_mape = mean_absolute_percentage_error(original_yval, y_pred_val)\n",
        "test_mape = mean_absolute_percentage_error(original_ytest ,y_pred)\n",
        "print(f\"Validation MAPE: {valid_mape* 100:.2f}%\")\n",
        "print(f\"Testing MAPE: {test_mape*100:.2f}%\")"
      ],
      "metadata": {
        "colab": {
          "base_uri": "https://localhost:8080/"
        },
        "id": "MTgQYZCM0ryA",
        "outputId": "983846af-0280-42a4-ca87-2d1c80e39fdc"
      },
      "execution_count": 20,
      "outputs": [
        {
          "output_type": "stream",
          "name": "stdout",
          "text": [
            "Validation MAPE: 49.46%\n",
            "Testing MAPE: 30.47%\n"
          ]
        }
      ]
    },
    {
      "cell_type": "code",
      "execution_count": 21,
      "metadata": {
        "id": "aWolx9btp7hb",
        "colab": {
          "base_uri": "https://localhost:8080/",
          "height": 693
        },
        "outputId": "26638289-8742-4f5f-9185-a75979748347"
      },
      "outputs": [
        {
          "output_type": "display_data",
          "data": {
            "text/plain": [
              "<Figure size 1600x900 with 1 Axes>"
            ],
            "image/png": "[encoded data removed]"
          },
          "metadata": {}
        }
      ],
      "source": [
        "\n",
        "# 9.Vẽ hình\n",
        "plt.figure(figsize=(16,9))\n",
        "plt.ylabel('Closing Price');\n",
        "plt.xlabel('Date');\n",
        "plt.title('BNN BID 6-3-1')\n",
        "train_index = df[:train_size].index\n",
        "plt.plot(train_index,scaler.inverse_transform(train_data))\n",
        "#test\n",
        "test_index = df[train_size:train_size+test_size].index\n",
        "plt.plot(test_index,scaler.inverse_transform(test_data))\n",
        "#test predict\n",
        "test_predict_index = df[train_size+41:train_size+test_size].index\n",
        "plt.plot(test_predict_index,(y_pred))\n",
        "#val\n",
        "val_index = df[train_size+test_size:train_size+test_size+val_size].index\n",
        "plt.plot(val_index,scaler.inverse_transform(val_data))\n",
        "#val predict\n",
        "val_predict_index = df[train_size+test_size+41:train_size+test_size+val_size].index\n",
        "plt.plot(val_predict_index,y_pred_val)\n",
        "plt.legend(['Train','Test','Predict','Validate','ValidatePred'])\n",
        "plt.show()"
      ]
    }
  ],
  "metadata": {
    "colab": {
      "provenance": []
    },
    "kernelspec": {
      "display_name": "Python 3",
      "name": "python3"
    },
    "language_info": {
      "name": "python"
    }
  },
  "nbformat": 4,
  "nbformat_minor": 0
}