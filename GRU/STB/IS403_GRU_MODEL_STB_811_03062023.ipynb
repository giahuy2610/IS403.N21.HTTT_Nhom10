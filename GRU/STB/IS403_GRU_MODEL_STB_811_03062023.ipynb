{
  "nbformat": 4,
  "nbformat_minor": 0,
  "metadata": {
    "colab": {
      "provenance": [],
      "gpuType": "T4",
      "toc_visible": true
    },
    "kernelspec": {
      "name": "python3",
      "display_name": "Python 3"
    },
    "language_info": {
      "name": "python"
    },
    "accelerator": "GPU",
    "gpuClass": "standard"
  },
  "cells": [
    {
      "cell_type": "code",
      "execution_count": 1,
      "metadata": {
        "id": "hLWR6fTVXs2N",
        "colab": {
          "base_uri": "https://localhost:8080/"
        },
        "outputId": "3d494683-b946-4ee1-9078-b6e32c4e313f"
      },
      "outputs": [
        {
          "output_type": "stream",
          "name": "stdout",
          "text": [
            "Drive already mounted at /content/drive; to attempt to forcibly remount, call drive.mount(\"/content/drive\", force_remount=True).\n"
          ]
        }
      ],
      "source": [
        "# 1. Import thư viện cần thiết\n",
        "from google.colab import drive\n",
        "drive.mount('/content/drive')\n",
        "import numpy as np\n",
        "import pandas as pd\n",
        "import matplotlib.pyplot as plt\n",
        "from sklearn.preprocessing import MinMaxScaler\n",
        "from keras.models import Sequential\n",
        "from keras.layers import Dense, GRU\n",
        "\n",
        "from sklearn.metrics import  mean_absolute_percentage_error, mean_absolute_error"
      ]
    },
    {
      "cell_type": "code",
      "source": [
        "# 2. Đọc file csv và gắng index với giá Close\n",
        "df = pd.read_csv('/content/drive/MyDrive/StockData/STB-Historical-Data.csv',index_col=0,parse_dates=True).sort_values(by='Date',ascending=True)\n",
        "df['Price']=df['Price'].replace(',','',regex=True).astype(float)\n",
        "\n",
        "df = df.rename(columns={'Price': 'Close'})\n",
        "df.head()\n"
      ],
      "metadata": {
        "id": "QhNDy9MLYRYb",
        "colab": {
          "base_uri": "https://localhost:8080/",
          "height": 237
        },
        "outputId": "3195ed7e-a9d1-4f9c-afb1-817b8d8a54ed"
      },
      "execution_count": 2,
      "outputs": [
        {
          "output_type": "execute_result",
          "data": {
            "text/plain": [
              "              Close      Open      High       Low   Vol. Change %\n",
              "Date                                                             \n",
              "2019-01-02  11600.0  12,000.0  12,050.0  11,600.0  3.86M   -2.93%\n",
              "2019-01-03  11100.0  11,500.0  11,650.0  11,100.0  6.28M   -4.31%\n",
              "2019-01-04  11150.0  11,000.0  11,350.0  10,900.0  3.83M    0.45%\n",
              "2019-01-07  11500.0  11,400.0  11,600.0  11,350.0  3.70M    3.14%\n",
              "2019-01-08  11350.0  11,500.0  11,500.0  11,300.0  1.57M   -1.30%"
            ],
            "text/html": [
              "\n",
              "  <div id=\"df-3ec9213e-3d71-4887-88ab-4d871629e9fb\">\n",
              "    <div class=\"colab-df-container\">\n",
              "      <div>\n",
              "<style scoped>\n",
              "    .dataframe tbody tr th:only-of-type {\n",
              "        vertical-align: middle;\n",
              "    }\n",
              "\n",
              "    .dataframe tbody tr th {\n",
              "        vertical-align: top;\n",
              "    }\n",
              "\n",
              "    .dataframe thead th {\n",
              "        text-align: right;\n",
              "    }\n",
              "</style>\n",
              "<table border=\"1\" class=\"dataframe\">\n",
              "  <thead>\n",
              "    <tr style=\"text-align: right;\">\n",
              "      <th></th>\n",
              "      <th>Close</th>\n",
              "      <th>Open</th>\n",
              "      <th>High</th>\n",
              "      <th>Low</th>\n",
              "      <th>Vol.</th>\n",
              "      <th>Change %</th>\n",
              "    </tr>\n",
              "    <tr>\n",
              "      <th>Date</th>\n",
              "      <th></th>\n",
              "      <th></th>\n",
              "      <th></th>\n",
              "      <th></th>\n",
              "      <th></th>\n",
              "      <th></th>\n",
              "    </tr>\n",
              "  </thead>\n",
              "  <tbody>\n",
              "    <tr>\n",
              "      <th>2019-01-02</th>\n",
              "      <td>11600.0</td>\n",
              "      <td>12,000.0</td>\n",
              "      <td>12,050.0</td>\n",
              "      <td>11,600.0</td>\n",
              "      <td>3.86M</td>\n",
              "      <td>-2.93%</td>\n",
              "    </tr>\n",
              "    <tr>\n",
              "      <th>2019-01-03</th>\n",
              "      <td>11100.0</td>\n",
              "      <td>11,500.0</td>\n",
              "      <td>11,650.0</td>\n",
              "      <td>11,100.0</td>\n",
              "      <td>6.28M</td>\n",
              "      <td>-4.31%</td>\n",
              "    </tr>\n",
              "    <tr>\n",
              "      <th>2019-01-04</th>\n",
              "      <td>11150.0</td>\n",
              "      <td>11,000.0</td>\n",
              "      <td>11,350.0</td>\n",
              "      <td>10,900.0</td>\n",
              "      <td>3.83M</td>\n",
              "      <td>0.45%</td>\n",
              "    </tr>\n",
              "    <tr>\n",
              "      <th>2019-01-07</th>\n",
              "      <td>11500.0</td>\n",
              "      <td>11,400.0</td>\n",
              "      <td>11,600.0</td>\n",
              "      <td>11,350.0</td>\n",
              "      <td>3.70M</td>\n",
              "      <td>3.14%</td>\n",
              "    </tr>\n",
              "    <tr>\n",
              "      <th>2019-01-08</th>\n",
              "      <td>11350.0</td>\n",
              "      <td>11,500.0</td>\n",
              "      <td>11,500.0</td>\n",
              "      <td>11,300.0</td>\n",
              "      <td>1.57M</td>\n",
              "      <td>-1.30%</td>\n",
              "    </tr>\n",
              "  </tbody>\n",
              "</table>\n",
              "</div>\n",
              "      <button class=\"colab-df-convert\" onclick=\"convertToInteractive('df-3ec9213e-3d71-4887-88ab-4d871629e9fb')\"\n",
              "              title=\"Convert this dataframe to an interactive table.\"\n",
              "              style=\"display:none;\">\n",
              "        \n",
              "  <svg xmlns=\"http://www.w3.org/2000/svg\" height=\"24px\"viewBox=\"0 0 24 24\"\n",
              "       width=\"24px\">\n",
              "    <path d=\"M0 0h24v24H0V0z\" fill=\"none\"/>\n",
              "    <path d=\"M18.56 5.44l.94 2.06.94-2.06 2.06-.94-2.06-.94-.94-2.06-.94 2.06-2.06.94zm-11 1L8.5 8.5l.94-2.06 2.06-.94-2.06-.94L8.5 2.5l-.94 2.06-2.06.94zm10 10l.94 2.06.94-2.06 2.06-.94-2.06-.94-.94-2.06-.94 2.06-2.06.94z\"/><path d=\"M17.41 7.96l-1.37-1.37c-.4-.4-.92-.59-1.43-.59-.52 0-1.04.2-1.43.59L10.3 9.45l-7.72 7.72c-.78.78-.78 2.05 0 2.83L4 21.41c.39.39.9.59 1.41.59.51 0 1.02-.2 1.41-.59l7.78-7.78 2.81-2.81c.8-.78.8-2.07 0-2.86zM5.41 20L4 18.59l7.72-7.72 1.47 1.35L5.41 20z\"/>\n",
              "  </svg>\n",
              "      </button>\n",
              "      \n",
              "  <style>\n",
              "    .colab-df-container {\n",
              "      display:flex;\n",
              "      flex-wrap:wrap;\n",
              "      gap: 12px;\n",
              "    }\n",
              "\n",
              "    .colab-df-convert {\n",
              "      background-color: #E8F0FE;\n",
              "      border: none;\n",
              "      border-radius: 50%;\n",
              "      cursor: pointer;\n",
              "      display: none;\n",
              "      fill: #1967D2;\n",
              "      height: 32px;\n",
              "      padding: 0 0 0 0;\n",
              "      width: 32px;\n",
              "    }\n",
              "\n",
              "    .colab-df-convert:hover {\n",
              "      background-color: #E2EBFA;\n",
              "      box-shadow: 0px 1px 2px rgba(60, 64, 67, 0.3), 0px 1px 3px 1px rgba(60, 64, 67, 0.15);\n",
              "      fill: #174EA6;\n",
              "    }\n",
              "\n",
              "    [theme=dark] .colab-df-convert {\n",
              "      background-color: #3B4455;\n",
              "      fill: #D2E3FC;\n",
              "    }\n",
              "\n",
              "    [theme=dark] .colab-df-convert:hover {\n",
              "      background-color: #434B5C;\n",
              "      box-shadow: 0px 1px 3px 1px rgba(0, 0, 0, 0.15);\n",
              "      filter: drop-shadow(0px 1px 2px rgba(0, 0, 0, 0.3));\n",
              "      fill: #FFFFFF;\n",
              "    }\n",
              "  </style>\n",
              "\n",
              "      <script>\n",
              "        const buttonEl =\n",
              "          document.querySelector('#df-3ec9213e-3d71-4887-88ab-4d871629e9fb button.colab-df-convert');\n",
              "        buttonEl.style.display =\n",
              "          google.colab.kernel.accessAllowed ? 'block' : 'none';\n",
              "\n",
              "        async function convertToInteractive(key) {\n",
              "          const element = document.querySelector('#df-3ec9213e-3d71-4887-88ab-4d871629e9fb');\n",
              "          const dataTable =\n",
              "            await google.colab.kernel.invokeFunction('convertToInteractive',\n",
              "                                                     [key], {});\n",
              "          if (!dataTable) return;\n",
              "\n",
              "          const docLinkHtml = 'Like what you see? Visit the ' +\n",
              "            '<a target=\"_blank\" href=https://colab.research.google.com/notebooks/data_table.ipynb>data table notebook</a>'\n",
              "            + ' to learn more about interactive tables.';\n",
              "          element.innerHTML = '';\n",
              "          dataTable['output_type'] = 'display_data';\n",
              "          await google.colab.output.renderOutput(dataTable, element);\n",
              "          const docLink = document.createElement('div');\n",
              "          docLink.innerHTML = docLinkHtml;\n",
              "          element.appendChild(docLink);\n",
              "        }\n",
              "      </script>\n",
              "    </div>\n",
              "  </div>\n",
              "  "
            ]
          },
          "metadata": {},
          "execution_count": 2
        }
      ]
    },
    {
      "cell_type": "code",
      "source": [
        "df1 = df[['Close']]\n",
        "df1"
      ],
      "metadata": {
        "colab": {
          "base_uri": "https://localhost:8080/",
          "height": 455
        },
        "id": "f7a-DQOW5Kb_",
        "outputId": "0e806999-188c-4f7b-93cd-a580f028f415"
      },
      "execution_count": 3,
      "outputs": [
        {
          "output_type": "execute_result",
          "data": {
            "text/plain": [
              "              Close\n",
              "Date               \n",
              "2019-01-02  11600.0\n",
              "2019-01-03  11100.0\n",
              "2019-01-04  11150.0\n",
              "2019-01-07  11500.0\n",
              "2019-01-08  11350.0\n",
              "...             ...\n",
              "2023-05-26  27200.0\n",
              "2023-05-29  27700.0\n",
              "2023-05-30  27700.0\n",
              "2023-05-31  27700.0\n",
              "2023-06-01  27950.0\n",
              "\n",
              "[1101 rows x 1 columns]"
            ],
            "text/html": [
              "\n",
              "  <div id=\"df-d45a2d36-21cc-4993-acda-33ee2f3e867b\">\n",
              "    <div class=\"colab-df-container\">\n",
              "      <div>\n",
              "<style scoped>\n",
              "    .dataframe tbody tr th:only-of-type {\n",
              "        vertical-align: middle;\n",
              "    }\n",
              "\n",
              "    .dataframe tbody tr th {\n",
              "        vertical-align: top;\n",
              "    }\n",
              "\n",
              "    .dataframe thead th {\n",
              "        text-align: right;\n",
              "    }\n",
              "</style>\n",
              "<table border=\"1\" class=\"dataframe\">\n",
              "  <thead>\n",
              "    <tr style=\"text-align: right;\">\n",
              "      <th></th>\n",
              "      <th>Close</th>\n",
              "    </tr>\n",
              "    <tr>\n",
              "      <th>Date</th>\n",
              "      <th></th>\n",
              "    </tr>\n",
              "  </thead>\n",
              "  <tbody>\n",
              "    <tr>\n",
              "      <th>2019-01-02</th>\n",
              "      <td>11600.0</td>\n",
              "    </tr>\n",
              "    <tr>\n",
              "      <th>2019-01-03</th>\n",
              "      <td>11100.0</td>\n",
              "    </tr>\n",
              "    <tr>\n",
              "      <th>2019-01-04</th>\n",
              "      <td>11150.0</td>\n",
              "    </tr>\n",
              "    <tr>\n",
              "      <th>2019-01-07</th>\n",
              "      <td>11500.0</td>\n",
              "    </tr>\n",
              "    <tr>\n",
              "      <th>2019-01-08</th>\n",
              "      <td>11350.0</td>\n",
              "    </tr>\n",
              "    <tr>\n",
              "      <th>...</th>\n",
              "      <td>...</td>\n",
              "    </tr>\n",
              "    <tr>\n",
              "      <th>2023-05-26</th>\n",
              "      <td>27200.0</td>\n",
              "    </tr>\n",
              "    <tr>\n",
              "      <th>2023-05-29</th>\n",
              "      <td>27700.0</td>\n",
              "    </tr>\n",
              "    <tr>\n",
              "      <th>2023-05-30</th>\n",
              "      <td>27700.0</td>\n",
              "    </tr>\n",
              "    <tr>\n",
              "      <th>2023-05-31</th>\n",
              "      <td>27700.0</td>\n",
              "    </tr>\n",
              "    <tr>\n",
              "      <th>2023-06-01</th>\n",
              "      <td>27950.0</td>\n",
              "    </tr>\n",
              "  </tbody>\n",
              "</table>\n",
              "<p>1101 rows × 1 columns</p>\n",
              "</div>\n",
              "      <button class=\"colab-df-convert\" onclick=\"convertToInteractive('df-d45a2d36-21cc-4993-acda-33ee2f3e867b')\"\n",
              "              title=\"Convert this dataframe to an interactive table.\"\n",
              "              style=\"display:none;\">\n",
              "        \n",
              "  <svg xmlns=\"http://www.w3.org/2000/svg\" height=\"24px\"viewBox=\"0 0 24 24\"\n",
              "       width=\"24px\">\n",
              "    <path d=\"M0 0h24v24H0V0z\" fill=\"none\"/>\n",
              "    <path d=\"M18.56 5.44l.94 2.06.94-2.06 2.06-.94-2.06-.94-.94-2.06-.94 2.06-2.06.94zm-11 1L8.5 8.5l.94-2.06 2.06-.94-2.06-.94L8.5 2.5l-.94 2.06-2.06.94zm10 10l.94 2.06.94-2.06 2.06-.94-2.06-.94-.94-2.06-.94 2.06-2.06.94z\"/><path d=\"M17.41 7.96l-1.37-1.37c-.4-.4-.92-.59-1.43-.59-.52 0-1.04.2-1.43.59L10.3 9.45l-7.72 7.72c-.78.78-.78 2.05 0 2.83L4 21.41c.39.39.9.59 1.41.59.51 0 1.02-.2 1.41-.59l7.78-7.78 2.81-2.81c.8-.78.8-2.07 0-2.86zM5.41 20L4 18.59l7.72-7.72 1.47 1.35L5.41 20z\"/>\n",
              "  </svg>\n",
              "      </button>\n",
              "      \n",
              "  <style>\n",
              "    .colab-df-container {\n",
              "      display:flex;\n",
              "      flex-wrap:wrap;\n",
              "      gap: 12px;\n",
              "    }\n",
              "\n",
              "    .colab-df-convert {\n",
              "      background-color: #E8F0FE;\n",
              "      border: none;\n",
              "      border-radius: 50%;\n",
              "      cursor: pointer;\n",
              "      display: none;\n",
              "      fill: #1967D2;\n",
              "      height: 32px;\n",
              "      padding: 0 0 0 0;\n",
              "      width: 32px;\n",
              "    }\n",
              "\n",
              "    .colab-df-convert:hover {\n",
              "      background-color: #E2EBFA;\n",
              "      box-shadow: 0px 1px 2px rgba(60, 64, 67, 0.3), 0px 1px 3px 1px rgba(60, 64, 67, 0.15);\n",
              "      fill: #174EA6;\n",
              "    }\n",
              "\n",
              "    [theme=dark] .colab-df-convert {\n",
              "      background-color: #3B4455;\n",
              "      fill: #D2E3FC;\n",
              "    }\n",
              "\n",
              "    [theme=dark] .colab-df-convert:hover {\n",
              "      background-color: #434B5C;\n",
              "      box-shadow: 0px 1px 3px 1px rgba(0, 0, 0, 0.15);\n",
              "      filter: drop-shadow(0px 1px 2px rgba(0, 0, 0, 0.3));\n",
              "      fill: #FFFFFF;\n",
              "    }\n",
              "  </style>\n",
              "\n",
              "      <script>\n",
              "        const buttonEl =\n",
              "          document.querySelector('#df-d45a2d36-21cc-4993-acda-33ee2f3e867b button.colab-df-convert');\n",
              "        buttonEl.style.display =\n",
              "          google.colab.kernel.accessAllowed ? 'block' : 'none';\n",
              "\n",
              "        async function convertToInteractive(key) {\n",
              "          const element = document.querySelector('#df-d45a2d36-21cc-4993-acda-33ee2f3e867b');\n",
              "          const dataTable =\n",
              "            await google.colab.kernel.invokeFunction('convertToInteractive',\n",
              "                                                     [key], {});\n",
              "          if (!dataTable) return;\n",
              "\n",
              "          const docLinkHtml = 'Like what you see? Visit the ' +\n",
              "            '<a target=\"_blank\" href=https://colab.research.google.com/notebooks/data_table.ipynb>data table notebook</a>'\n",
              "            + ' to learn more about interactive tables.';\n",
              "          element.innerHTML = '';\n",
              "          dataTable['output_type'] = 'display_data';\n",
              "          await google.colab.output.renderOutput(dataTable, element);\n",
              "          const docLink = document.createElement('div');\n",
              "          docLink.innerHTML = docLinkHtml;\n",
              "          element.appendChild(docLink);\n",
              "        }\n",
              "      </script>\n",
              "    </div>\n",
              "  </div>\n",
              "  "
            ]
          },
          "metadata": {},
          "execution_count": 3
        }
      ]
    },
    {
      "cell_type": "code",
      "source": [
        "# 3. Scaler data\n",
        "scaler=MinMaxScaler()\n",
        "df1=scaler.fit_transform(np.array(df1).reshape(-1,1))"
      ],
      "metadata": {
        "id": "oJhPlK65Zw7k"
      },
      "execution_count": 4,
      "outputs": []
    },
    {
      "cell_type": "code",
      "source": [
        "# 4. Chia train test val theo tỉ lệ 8-1-1\n",
        "train_size = int(0.8 * len(df1))\n",
        "test_size = int(0.1 * len(df1))\n",
        "val_size = len(df1) - train_size - test_size\n",
        "\n",
        "train_data = df1[:train_size]\n",
        "test_data = df1[train_size:train_size+test_size]\n",
        "val_data = df1[train_size+test_size:]"
      ],
      "metadata": {
        "id": "sL4-viIP0gWE"
      },
      "execution_count": 5,
      "outputs": []
    },
    {
      "cell_type": "code",
      "source": [
        "# 5. Hàm Create Dataset\n",
        "#window sliding\n",
        "def create_dataset(dataset, time_step=1):\n",
        "\tdataX, dataY = [], []\n",
        "\tfor i in range(len(dataset)-time_step-1):\n",
        "\t\ta = dataset[i:(i+time_step), 0]   \n",
        "\t\tdataX.append(a)\n",
        "\t\tdataY.append(dataset[i + time_step, 0])\n",
        "\treturn np.array(dataX),np.array(dataY)"
      ],
      "metadata": {
        "id": "h2OK4VKH0r1M"
      },
      "execution_count": 6,
      "outputs": []
    },
    {
      "cell_type": "code",
      "source": [
        "#6. Reshape into X=t,t+1,t+2..t+39 and Y=t+40\n",
        "time_step = 40\n",
        "X_train, y_train = create_dataset(train_data, time_step)\n",
        "X_val, yval = create_dataset(val_data, time_step)\n",
        "X_test, ytest = create_dataset(test_data, time_step)"
      ],
      "metadata": {
        "id": "WJrVtYgc0vP3"
      },
      "execution_count": 7,
      "outputs": []
    },
    {
      "cell_type": "code",
      "source": [
        "# 7. Reshape input to be [samples, time steps, features] which is required for LSTM\n",
        "X_train =X_train.reshape(X_train.shape[0],X_train.shape[1] , 1)\n",
        "X_test = X_test.reshape(X_test.shape[0],X_test.shape[1] , 1)\n",
        "X_val = X_val.reshape(X_val.shape[0],X_val.shape[1] , 1)"
      ],
      "metadata": {
        "id": "EjTwoA980x72"
      },
      "execution_count": 8,
      "outputs": []
    },
    {
      "cell_type": "code",
      "source": [
        "# 8. Define GRU Model\n",
        "\n",
        "model = Sequential()\n",
        "model.add(GRU(64, input_shape=(time_step, 1)))\n",
        "model.add(Dense(1))\n",
        "model.compile(optimizer='adam', loss='mean_squared_error')"
      ],
      "metadata": {
        "id": "XbRI2TJP01l5"
      },
      "execution_count": 9,
      "outputs": []
    },
    {
      "cell_type": "code",
      "source": [
        "# 9. Fit mô hình với dữ liệu train\n",
        "model.fit(X_train,y_train,validation_data=(X_test,ytest),epochs=100,batch_size=40,verbose=1)"
      ],
      "metadata": {
        "id": "kdjAZdkn05IH",
        "colab": {
          "base_uri": "https://localhost:8080/"
        },
        "outputId": "ee90f95d-f01a-4b2a-b18c-161ac2ab37a2"
      },
      "execution_count": 10,
      "outputs": [
        {
          "output_type": "stream",
          "name": "stdout",
          "text": [
            "Epoch 1/100\n",
            "21/21 [==============================] - 9s 189ms/step - loss: 0.0843 - val_loss: 0.0220\n",
            "Epoch 2/100\n",
            "21/21 [==============================] - 1s 70ms/step - loss: 0.0145 - val_loss: 0.0019\n",
            "Epoch 3/100\n",
            "21/21 [==============================] - 1s 55ms/step - loss: 0.0030 - val_loss: 0.0016\n",
            "Epoch 4/100\n",
            "21/21 [==============================] - 1s 58ms/step - loss: 9.3160e-04 - val_loss: 0.0017\n",
            "Epoch 5/100\n",
            "21/21 [==============================] - 1s 48ms/step - loss: 8.6042e-04 - val_loss: 0.0015\n",
            "Epoch 6/100\n",
            "21/21 [==============================] - 1s 53ms/step - loss: 7.6739e-04 - val_loss: 0.0015\n",
            "Epoch 7/100\n",
            "21/21 [==============================] - 1s 58ms/step - loss: 7.3844e-04 - val_loss: 0.0015\n",
            "Epoch 8/100\n",
            "21/21 [==============================] - 1s 46ms/step - loss: 7.2458e-04 - val_loss: 0.0014\n",
            "Epoch 9/100\n",
            "21/21 [==============================] - 1s 47ms/step - loss: 6.9943e-04 - val_loss: 0.0014\n",
            "Epoch 10/100\n",
            "21/21 [==============================] - 1s 25ms/step - loss: 6.7985e-04 - val_loss: 0.0014\n",
            "Epoch 11/100\n",
            "21/21 [==============================] - 0s 24ms/step - loss: 6.6725e-04 - val_loss: 0.0014\n",
            "Epoch 12/100\n",
            "21/21 [==============================] - 1s 25ms/step - loss: 6.5074e-04 - val_loss: 0.0013\n",
            "Epoch 13/100\n",
            "21/21 [==============================] - 1s 25ms/step - loss: 6.2904e-04 - val_loss: 0.0013\n",
            "Epoch 14/100\n",
            "21/21 [==============================] - 1s 25ms/step - loss: 6.1846e-04 - val_loss: 0.0012\n",
            "Epoch 15/100\n",
            "21/21 [==============================] - 1s 33ms/step - loss: 5.9842e-04 - val_loss: 0.0012\n",
            "Epoch 16/100\n",
            "21/21 [==============================] - 1s 37ms/step - loss: 5.8385e-04 - val_loss: 0.0012\n",
            "Epoch 17/100\n",
            "21/21 [==============================] - 1s 39ms/step - loss: 5.7803e-04 - val_loss: 0.0012\n",
            "Epoch 18/100\n",
            "21/21 [==============================] - 1s 38ms/step - loss: 5.6597e-04 - val_loss: 0.0012\n",
            "Epoch 19/100\n",
            "21/21 [==============================] - 1s 38ms/step - loss: 5.6233e-04 - val_loss: 0.0011\n",
            "Epoch 20/100\n",
            "21/21 [==============================] - 1s 36ms/step - loss: 5.6049e-04 - val_loss: 0.0011\n",
            "Epoch 21/100\n",
            "21/21 [==============================] - 1s 26ms/step - loss: 5.3778e-04 - val_loss: 0.0011\n",
            "Epoch 22/100\n",
            "21/21 [==============================] - 1s 25ms/step - loss: 5.3289e-04 - val_loss: 0.0011\n",
            "Epoch 23/100\n",
            "21/21 [==============================] - 1s 25ms/step - loss: 5.3939e-04 - val_loss: 0.0011\n",
            "Epoch 24/100\n",
            "21/21 [==============================] - 1s 25ms/step - loss: 5.2784e-04 - val_loss: 0.0011\n",
            "Epoch 25/100\n",
            "21/21 [==============================] - 1s 25ms/step - loss: 5.1880e-04 - val_loss: 0.0011\n",
            "Epoch 26/100\n",
            "21/21 [==============================] - 1s 24ms/step - loss: 5.0375e-04 - val_loss: 0.0011\n",
            "Epoch 27/100\n",
            "21/21 [==============================] - 1s 25ms/step - loss: 4.9703e-04 - val_loss: 0.0010\n",
            "Epoch 28/100\n",
            "21/21 [==============================] - 1s 24ms/step - loss: 4.9170e-04 - val_loss: 0.0010\n",
            "Epoch 29/100\n",
            "21/21 [==============================] - 1s 25ms/step - loss: 4.8734e-04 - val_loss: 0.0010\n",
            "Epoch 30/100\n",
            "21/21 [==============================] - 1s 25ms/step - loss: 5.2109e-04 - val_loss: 9.9573e-04\n",
            "Epoch 31/100\n",
            "21/21 [==============================] - 1s 24ms/step - loss: 4.8076e-04 - val_loss: 0.0010\n",
            "Epoch 32/100\n",
            "21/21 [==============================] - 1s 25ms/step - loss: 5.1714e-04 - val_loss: 0.0010\n",
            "Epoch 33/100\n",
            "21/21 [==============================] - 1s 25ms/step - loss: 4.7396e-04 - val_loss: 9.8411e-04\n",
            "Epoch 34/100\n",
            "21/21 [==============================] - 1s 24ms/step - loss: 4.7924e-04 - val_loss: 9.6701e-04\n",
            "Epoch 35/100\n",
            "21/21 [==============================] - 1s 25ms/step - loss: 4.7526e-04 - val_loss: 9.7826e-04\n",
            "Epoch 36/100\n",
            "21/21 [==============================] - 1s 25ms/step - loss: 4.8241e-04 - val_loss: 0.0010\n",
            "Epoch 37/100\n",
            "21/21 [==============================] - 1s 25ms/step - loss: 4.6002e-04 - val_loss: 9.3307e-04\n",
            "Epoch 38/100\n",
            "21/21 [==============================] - 1s 24ms/step - loss: 4.5541e-04 - val_loss: 9.4913e-04\n",
            "Epoch 39/100\n",
            "21/21 [==============================] - 1s 26ms/step - loss: 4.5283e-04 - val_loss: 9.4570e-04\n",
            "Epoch 40/100\n",
            "21/21 [==============================] - 1s 37ms/step - loss: 4.5314e-04 - val_loss: 0.0010\n",
            "Epoch 41/100\n",
            "21/21 [==============================] - 1s 39ms/step - loss: 5.0613e-04 - val_loss: 9.1471e-04\n",
            "Epoch 42/100\n",
            "21/21 [==============================] - 1s 37ms/step - loss: 4.4538e-04 - val_loss: 9.1252e-04\n",
            "Epoch 43/100\n",
            "21/21 [==============================] - 1s 37ms/step - loss: 4.7321e-04 - val_loss: 9.1728e-04\n",
            "Epoch 44/100\n",
            "21/21 [==============================] - 1s 37ms/step - loss: 4.3649e-04 - val_loss: 9.0893e-04\n",
            "Epoch 45/100\n",
            "21/21 [==============================] - 1s 33ms/step - loss: 4.4202e-04 - val_loss: 9.9086e-04\n",
            "Epoch 46/100\n",
            "21/21 [==============================] - 1s 26ms/step - loss: 4.5246e-04 - val_loss: 8.9694e-04\n",
            "Epoch 47/100\n",
            "21/21 [==============================] - 1s 25ms/step - loss: 4.4501e-04 - val_loss: 8.9323e-04\n",
            "Epoch 48/100\n",
            "21/21 [==============================] - 1s 26ms/step - loss: 4.2900e-04 - val_loss: 9.1296e-04\n",
            "Epoch 49/100\n",
            "21/21 [==============================] - 1s 25ms/step - loss: 4.4276e-04 - val_loss: 8.6325e-04\n",
            "Epoch 50/100\n",
            "21/21 [==============================] - 1s 25ms/step - loss: 4.3725e-04 - val_loss: 9.8648e-04\n",
            "Epoch 51/100\n",
            "21/21 [==============================] - 1s 25ms/step - loss: 4.3473e-04 - val_loss: 8.7306e-04\n",
            "Epoch 52/100\n",
            "21/21 [==============================] - 1s 25ms/step - loss: 4.2864e-04 - val_loss: 8.4875e-04\n",
            "Epoch 53/100\n",
            "21/21 [==============================] - 1s 25ms/step - loss: 4.3495e-04 - val_loss: 9.1639e-04\n",
            "Epoch 54/100\n",
            "21/21 [==============================] - 1s 24ms/step - loss: 4.1931e-04 - val_loss: 8.5005e-04\n",
            "Epoch 55/100\n",
            "21/21 [==============================] - 1s 26ms/step - loss: 4.3920e-04 - val_loss: 8.4184e-04\n",
            "Epoch 56/100\n",
            "21/21 [==============================] - 1s 25ms/step - loss: 4.3052e-04 - val_loss: 9.9765e-04\n",
            "Epoch 57/100\n",
            "21/21 [==============================] - 1s 25ms/step - loss: 4.1965e-04 - val_loss: 8.5582e-04\n",
            "Epoch 58/100\n",
            "21/21 [==============================] - 1s 25ms/step - loss: 4.5702e-04 - val_loss: 8.4244e-04\n",
            "Epoch 59/100\n",
            "21/21 [==============================] - 1s 25ms/step - loss: 4.2121e-04 - val_loss: 8.3019e-04\n",
            "Epoch 60/100\n",
            "21/21 [==============================] - 1s 24ms/step - loss: 4.2290e-04 - val_loss: 9.2205e-04\n",
            "Epoch 61/100\n",
            "21/21 [==============================] - 1s 25ms/step - loss: 4.3329e-04 - val_loss: 8.8650e-04\n",
            "Epoch 62/100\n",
            "21/21 [==============================] - 1s 25ms/step - loss: 4.1205e-04 - val_loss: 8.1153e-04\n",
            "Epoch 63/100\n",
            "21/21 [==============================] - 1s 26ms/step - loss: 4.1001e-04 - val_loss: 8.1266e-04\n",
            "Epoch 64/100\n",
            "21/21 [==============================] - 1s 33ms/step - loss: 4.0491e-04 - val_loss: 8.0873e-04\n",
            "Epoch 65/100\n",
            "21/21 [==============================] - 1s 38ms/step - loss: 4.1549e-04 - val_loss: 8.2427e-04\n",
            "Epoch 66/100\n",
            "21/21 [==============================] - 1s 37ms/step - loss: 4.0757e-04 - val_loss: 8.0337e-04\n",
            "Epoch 67/100\n",
            "21/21 [==============================] - 1s 39ms/step - loss: 4.3684e-04 - val_loss: 9.1342e-04\n",
            "Epoch 68/100\n",
            "21/21 [==============================] - 1s 37ms/step - loss: 4.1394e-04 - val_loss: 8.4738e-04\n",
            "Epoch 69/100\n",
            "21/21 [==============================] - 1s 36ms/step - loss: 4.0069e-04 - val_loss: 8.1534e-04\n",
            "Epoch 70/100\n",
            "21/21 [==============================] - 1s 26ms/step - loss: 4.1790e-04 - val_loss: 8.0173e-04\n",
            "Epoch 71/100\n",
            "21/21 [==============================] - 1s 25ms/step - loss: 4.0714e-04 - val_loss: 7.9378e-04\n",
            "Epoch 72/100\n",
            "21/21 [==============================] - 1s 26ms/step - loss: 4.1712e-04 - val_loss: 9.1980e-04\n",
            "Epoch 73/100\n",
            "21/21 [==============================] - 1s 24ms/step - loss: 4.4699e-04 - val_loss: 8.9135e-04\n",
            "Epoch 74/100\n",
            "21/21 [==============================] - 1s 25ms/step - loss: 4.0527e-04 - val_loss: 7.9204e-04\n",
            "Epoch 75/100\n",
            "21/21 [==============================] - 1s 24ms/step - loss: 4.0362e-04 - val_loss: 7.9359e-04\n",
            "Epoch 76/100\n",
            "21/21 [==============================] - 1s 26ms/step - loss: 3.9411e-04 - val_loss: 7.8204e-04\n",
            "Epoch 77/100\n",
            "21/21 [==============================] - 1s 24ms/step - loss: 4.0373e-04 - val_loss: 8.7028e-04\n",
            "Epoch 78/100\n",
            "21/21 [==============================] - 1s 25ms/step - loss: 4.0524e-04 - val_loss: 8.2254e-04\n",
            "Epoch 79/100\n",
            "21/21 [==============================] - 1s 26ms/step - loss: 4.0892e-04 - val_loss: 9.0704e-04\n",
            "Epoch 80/100\n",
            "21/21 [==============================] - 1s 25ms/step - loss: 4.1044e-04 - val_loss: 8.2751e-04\n",
            "Epoch 81/100\n",
            "21/21 [==============================] - 1s 25ms/step - loss: 4.1131e-04 - val_loss: 7.6927e-04\n",
            "Epoch 82/100\n",
            "21/21 [==============================] - 1s 26ms/step - loss: 4.1241e-04 - val_loss: 7.8991e-04\n",
            "Epoch 83/100\n",
            "21/21 [==============================] - 1s 25ms/step - loss: 4.0165e-04 - val_loss: 8.0294e-04\n",
            "Epoch 84/100\n",
            "21/21 [==============================] - 1s 25ms/step - loss: 4.0980e-04 - val_loss: 7.6624e-04\n",
            "Epoch 85/100\n",
            "21/21 [==============================] - 1s 24ms/step - loss: 4.0777e-04 - val_loss: 8.5577e-04\n",
            "Epoch 86/100\n",
            "21/21 [==============================] - 1s 24ms/step - loss: 3.9275e-04 - val_loss: 7.6919e-04\n",
            "Epoch 87/100\n",
            "21/21 [==============================] - 1s 25ms/step - loss: 3.8505e-04 - val_loss: 8.3716e-04\n",
            "Epoch 88/100\n",
            "21/21 [==============================] - 1s 28ms/step - loss: 4.0518e-04 - val_loss: 8.7224e-04\n",
            "Epoch 89/100\n",
            "21/21 [==============================] - 1s 38ms/step - loss: 4.0347e-04 - val_loss: 7.8213e-04\n",
            "Epoch 90/100\n",
            "21/21 [==============================] - 1s 38ms/step - loss: 3.9057e-04 - val_loss: 7.6636e-04\n",
            "Epoch 91/100\n",
            "21/21 [==============================] - 1s 37ms/step - loss: 3.8902e-04 - val_loss: 7.8513e-04\n",
            "Epoch 92/100\n",
            "21/21 [==============================] - 1s 37ms/step - loss: 4.2413e-04 - val_loss: 9.1528e-04\n",
            "Epoch 93/100\n",
            "21/21 [==============================] - 1s 38ms/step - loss: 4.1678e-04 - val_loss: 8.4389e-04\n",
            "Epoch 94/100\n",
            "21/21 [==============================] - 1s 31ms/step - loss: 4.0761e-04 - val_loss: 7.5460e-04\n",
            "Epoch 95/100\n",
            "21/21 [==============================] - 1s 25ms/step - loss: 4.4496e-04 - val_loss: 7.5294e-04\n",
            "Epoch 96/100\n",
            "21/21 [==============================] - 1s 25ms/step - loss: 4.0099e-04 - val_loss: 7.7985e-04\n",
            "Epoch 97/100\n",
            "21/21 [==============================] - 1s 25ms/step - loss: 3.9040e-04 - val_loss: 7.4714e-04\n",
            "Epoch 98/100\n",
            "21/21 [==============================] - 1s 25ms/step - loss: 4.1802e-04 - val_loss: 7.9491e-04\n",
            "Epoch 99/100\n",
            "21/21 [==============================] - 1s 25ms/step - loss: 3.8164e-04 - val_loss: 8.0060e-04\n",
            "Epoch 100/100\n",
            "21/21 [==============================] - 1s 25ms/step - loss: 3.8412e-04 - val_loss: 8.4231e-04\n"
          ]
        },
        {
          "output_type": "execute_result",
          "data": {
            "text/plain": [
              "<keras.callbacks.History at 0x7f06e9c62020>"
            ]
          },
          "metadata": {},
          "execution_count": 10
        }
      ]
    },
    {
      "cell_type": "code",
      "source": [
        "# 10. Dự báo dữ liệu test, val\n",
        "train_predict=model.predict(X_train)\n",
        "y_pred=model.predict(X_test)\n",
        "y_pred_val=model.predict(X_val)\n"
      ],
      "metadata": {
        "id": "I0D55k2u1JBd",
        "colab": {
          "base_uri": "https://localhost:8080/"
        },
        "outputId": "703fa5e2-ce41-4301-b9cf-82fefe196168"
      },
      "execution_count": 11,
      "outputs": [
        {
          "output_type": "stream",
          "name": "stdout",
          "text": [
            "27/27 [==============================] - 1s 7ms/step\n",
            "3/3 [==============================] - 0s 9ms/step\n",
            "3/3 [==============================] - 0s 7ms/step\n"
          ]
        }
      ]
    },
    {
      "cell_type": "code",
      "source": [
        "# 11. Chuẩn hóa dữ liệu y_pred, y_pred_val\n",
        "train_predict=scaler.inverse_transform(train_predict)\n",
        "y_pred=scaler.inverse_transform(y_pred)\n",
        "y_pred_val=scaler.inverse_transform(y_pred_val)\n",
        "original_ytest = scaler.inverse_transform(ytest.reshape(-1,1)) \n",
        "original_yval = scaler.inverse_transform(yval.reshape(-1,1)) "
      ],
      "metadata": {
        "id": "twGDWDtNU7u5"
      },
      "execution_count": 12,
      "outputs": []
    },
    {
      "cell_type": "code",
      "source": [
        "# 12. Đánh giá độ chính xác thuật toán bằng RMSE\n",
        "valid_rmse = np.sqrt(np.mean((y_pred_val - original_yval)**2))\n",
        "test_rmse = np.sqrt(np.mean((y_pred - original_ytest)**2))\n",
        "print(f\"Validation RMSE: {valid_rmse:.2f}\")\n",
        "print(f\"Testing RMSE: {test_rmse:.2f}\")"
      ],
      "metadata": {
        "id": "CyTTUHma3aEw",
        "colab": {
          "base_uri": "https://localhost:8080/"
        },
        "outputId": "965adfe7-ed86-4666-a87a-20a0c96c566a"
      },
      "execution_count": 13,
      "outputs": [
        {
          "output_type": "stream",
          "name": "stdout",
          "text": [
            "Validation RMSE: 572.26\n",
            "Testing RMSE: 828.60\n"
          ]
        }
      ]
    },
    {
      "cell_type": "code",
      "source": [
        "# 13. Đánh giá độ chính xác thuật toán bằng MAE\n",
        "valid_mae = mean_absolute_error(original_yval, y_pred_val)\n",
        "test_mae = mean_absolute_error(original_ytest, y_pred)\n",
        "print(f\"Validation MAE: {valid_mae:.2f}\")\n",
        "print(f\"Testing MAE: {test_mae:.2f}\")"
      ],
      "metadata": {
        "id": "NeSJdDlCt2nX",
        "colab": {
          "base_uri": "https://localhost:8080/"
        },
        "outputId": "63b2dedb-feb7-4ce6-b149-f23304d732df"
      },
      "execution_count": 14,
      "outputs": [
        {
          "output_type": "stream",
          "name": "stdout",
          "text": [
            "Validation MAE: 434.58\n",
            "Testing MAE: 685.32\n"
          ]
        }
      ]
    },
    {
      "cell_type": "code",
      "source": [
        "# 14. Đánh giá độ chính xác thuật toán bằng MAPE\n",
        "valid_mape = mean_absolute_percentage_error(original_yval, y_pred_val)\n",
        "test_mape = mean_absolute_percentage_error(original_ytest,y_pred)\n",
        "print(f\"Validation MAPE: {valid_mape* 100:.2f}%\")\n",
        "print(f\"Testing MAPE: {test_mape*100:.2f}%\")"
      ],
      "metadata": {
        "id": "QZLaPLQyxHxJ",
        "colab": {
          "base_uri": "https://localhost:8080/"
        },
        "outputId": "4d0a6319-8d26-4298-e4f7-dd42078c1564"
      },
      "execution_count": 15,
      "outputs": [
        {
          "output_type": "stream",
          "name": "stdout",
          "text": [
            "Validation MAPE: 1.70%\n",
            "Testing MAPE: 3.73%\n"
          ]
        }
      ]
    },
    {
      "cell_type": "code",
      "source": [
        "# 14.Vẽ hình\n",
        "plt.figure(figsize=(16,9))\n",
        "plt.ylabel('Closing Price');\n",
        "plt.xlabel('Date');\n",
        "plt.title('GRU STB 8-1-1')\n",
        "train_index = df[:train_size].index\n",
        "plt.plot(train_index,scaler.inverse_transform(train_data))\n",
        "#test\n",
        "test_index = df[train_size:train_size+test_size].index\n",
        "plt.plot(test_index,scaler.inverse_transform(test_data))\n",
        "#test predict\n",
        "test_predict_index = df[train_size+41:train_size+test_size].index\n",
        "plt.plot(test_predict_index,(y_pred))\n",
        "#val\n",
        "val_index = df[train_size+test_size:train_size+test_size+val_size].index\n",
        "plt.plot(val_index,scaler.inverse_transform(val_data))\n",
        "#val predict\n",
        "val_predict_index = df[train_size+test_size+41:train_size+test_size+val_size].index\n",
        "plt.plot(val_predict_index,y_pred_val)\n",
        "#prediect_data_index = pd.RangeIndex(start=len(df)-1, stop=len(df)+29, step=1)\n",
        "#plt.plot(prediect_data_index,scaler.inverse_transform(lst_output))\n",
        "plt.legend(['Train','Test','Predict','Validate','ValidatePred'])\n",
        "plt.show()"
      ],
      "metadata": {
        "id": "R95H9WzX3WKu",
        "colab": {
          "base_uri": "https://localhost:8080/",
          "height": 518
        },
        "outputId": "8d969e78-f384-481e-dc5b-c928b88355e2"
      },
      "execution_count": 16,
      "outputs": [
        {
          "output_type": "display_data",
          "data": {
            "text/plain": [
              "<Figure size 1600x900 with 1 Axes>"
            ],
            "image/png": "[encoded data removed]"
          },
          "metadata": {}
        }
      ]
    },
    {
      "cell_type": "code",
      "source": [],
      "metadata": {
        "id": "q6n9e-rNbTk5"
      },
      "execution_count": 16,
      "outputs": []
    }
  ]
}