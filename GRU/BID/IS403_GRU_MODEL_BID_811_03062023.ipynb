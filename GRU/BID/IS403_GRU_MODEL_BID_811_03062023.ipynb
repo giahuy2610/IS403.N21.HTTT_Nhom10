{
  "nbformat": 4,
  "nbformat_minor": 0,
  "metadata": {
    "colab": {
      "provenance": [],
      "gpuType": "T4",
      "toc_visible": true
    },
    "kernelspec": {
      "name": "python3",
      "display_name": "Python 3"
    },
    "language_info": {
      "name": "python"
    },
    "accelerator": "GPU",
    "gpuClass": "standard"
  },
  "cells": [
    {
      "cell_type": "code",
      "execution_count": 1,
      "metadata": {
        "id": "hLWR6fTVXs2N",
        "colab": {
          "base_uri": "https://localhost:8080/"
        },
        "outputId": "5d29bae9-d668-4d9c-cc2c-c2edb8f1795f"
      },
      "outputs": [
        {
          "output_type": "stream",
          "name": "stdout",
          "text": [
            "Drive already mounted at /content/drive; to attempt to forcibly remount, call drive.mount(\"/content/drive\", force_remount=True).\n"
          ]
        }
      ],
      "source": [
        "# 1. Import thư viện cần thiết\n",
        "from google.colab import drive\n",
        "drive.mount('/content/drive')\n",
        "import numpy as np\n",
        "import pandas as pd\n",
        "import matplotlib.pyplot as plt\n",
        "from sklearn.preprocessing import MinMaxScaler\n",
        "from keras.models import Sequential\n",
        "from keras.layers import Dense, GRU\n",
        "\n",
        "from sklearn.metrics import  mean_absolute_percentage_error, mean_absolute_error"
      ]
    },
    {
      "cell_type": "code",
      "source": [
        "# 2. Đọc file csv và gắng index với giá Close\n",
        "df = pd.read_csv('/content/drive/MyDrive/StockData/BID-Historical-Data.csv',index_col=0,parse_dates=True).sort_values(by='Date',ascending=True)\n",
        "df['Price']=df['Price'].replace(',','',regex=True).astype(float)\n",
        "\n",
        "df = df.rename(columns={'Price': 'Close'})\n",
        "df.head()\n"
      ],
      "metadata": {
        "id": "QhNDy9MLYRYb",
        "colab": {
          "base_uri": "https://localhost:8080/",
          "height": 238
        },
        "outputId": "659fca7f-afb1-4585-d0a0-4b51effbbe01"
      },
      "execution_count": 2,
      "outputs": [
        {
          "output_type": "execute_result",
          "data": {
            "text/plain": [
              "              Close      Open      High       Low     Vol. Change %\n",
              "Date                                                               \n",
              "2019-01-02  25639.0  26,327.8  26,327.8  25,600.7    1.01M   -2.62%\n",
              "2019-01-03  24491.0  25,639.0  25,868.6  24,491.0    1.39M   -4.48%\n",
              "2019-01-04  24146.6  24,108.3  24,452.7  23,572.6    1.83M   -1.41%\n",
              "2019-01-07  24720.6  24,491.0  25,256.3  24,491.0    1.01M    2.38%\n",
              "2019-01-08  24491.0  24,950.2  24,950.2  24,414.4  702.48K   -0.93%"
            ],
            "text/html": [
              "\n",
              "  <div id=\"df-5ee4959a-aa8b-4cc4-b347-485b08551c31\">\n",
              "    <div class=\"colab-df-container\">\n",
              "      <div>\n",
              "<style scoped>\n",
              "    .dataframe tbody tr th:only-of-type {\n",
              "        vertical-align: middle;\n",
              "    }\n",
              "\n",
              "    .dataframe tbody tr th {\n",
              "        vertical-align: top;\n",
              "    }\n",
              "\n",
              "    .dataframe thead th {\n",
              "        text-align: right;\n",
              "    }\n",
              "</style>\n",
              "<table border=\"1\" class=\"dataframe\">\n",
              "  <thead>\n",
              "    <tr style=\"text-align: right;\">\n",
              "      <th></th>\n",
              "      <th>Close</th>\n",
              "      <th>Open</th>\n",
              "      <th>High</th>\n",
              "      <th>Low</th>\n",
              "      <th>Vol.</th>\n",
              "      <th>Change %</th>\n",
              "    </tr>\n",
              "    <tr>\n",
              "      <th>Date</th>\n",
              "      <th></th>\n",
              "      <th></th>\n",
              "      <th></th>\n",
              "      <th></th>\n",
              "      <th></th>\n",
              "      <th></th>\n",
              "    </tr>\n",
              "  </thead>\n",
              "  <tbody>\n",
              "    <tr>\n",
              "      <th>2019-01-02</th>\n",
              "      <td>25639.0</td>\n",
              "      <td>26,327.8</td>\n",
              "      <td>26,327.8</td>\n",
              "      <td>25,600.7</td>\n",
              "      <td>1.01M</td>\n",
              "      <td>-2.62%</td>\n",
              "    </tr>\n",
              "    <tr>\n",
              "      <th>2019-01-03</th>\n",
              "      <td>24491.0</td>\n",
              "      <td>25,639.0</td>\n",
              "      <td>25,868.6</td>\n",
              "      <td>24,491.0</td>\n",
              "      <td>1.39M</td>\n",
              "      <td>-4.48%</td>\n",
              "    </tr>\n",
              "    <tr>\n",
              "      <th>2019-01-04</th>\n",
              "      <td>24146.6</td>\n",
              "      <td>24,108.3</td>\n",
              "      <td>24,452.7</td>\n",
              "      <td>23,572.6</td>\n",
              "      <td>1.83M</td>\n",
              "      <td>-1.41%</td>\n",
              "    </tr>\n",
              "    <tr>\n",
              "      <th>2019-01-07</th>\n",
              "      <td>24720.6</td>\n",
              "      <td>24,491.0</td>\n",
              "      <td>25,256.3</td>\n",
              "      <td>24,491.0</td>\n",
              "      <td>1.01M</td>\n",
              "      <td>2.38%</td>\n",
              "    </tr>\n",
              "    <tr>\n",
              "      <th>2019-01-08</th>\n",
              "      <td>24491.0</td>\n",
              "      <td>24,950.2</td>\n",
              "      <td>24,950.2</td>\n",
              "      <td>24,414.4</td>\n",
              "      <td>702.48K</td>\n",
              "      <td>-0.93%</td>\n",
              "    </tr>\n",
              "  </tbody>\n",
              "</table>\n",
              "</div>\n",
              "      <button class=\"colab-df-convert\" onclick=\"convertToInteractive('df-5ee4959a-aa8b-4cc4-b347-485b08551c31')\"\n",
              "              title=\"Convert this dataframe to an interactive table.\"\n",
              "              style=\"display:none;\">\n",
              "        \n",
              "  <svg xmlns=\"http://www.w3.org/2000/svg\" height=\"24px\"viewBox=\"0 0 24 24\"\n",
              "       width=\"24px\">\n",
              "    <path d=\"M0 0h24v24H0V0z\" fill=\"none\"/>\n",
              "    <path d=\"M18.56 5.44l.94 2.06.94-2.06 2.06-.94-2.06-.94-.94-2.06-.94 2.06-2.06.94zm-11 1L8.5 8.5l.94-2.06 2.06-.94-2.06-.94L8.5 2.5l-.94 2.06-2.06.94zm10 10l.94 2.06.94-2.06 2.06-.94-2.06-.94-.94-2.06-.94 2.06-2.06.94z\"/><path d=\"M17.41 7.96l-1.37-1.37c-.4-.4-.92-.59-1.43-.59-.52 0-1.04.2-1.43.59L10.3 9.45l-7.72 7.72c-.78.78-.78 2.05 0 2.83L4 21.41c.39.39.9.59 1.41.59.51 0 1.02-.2 1.41-.59l7.78-7.78 2.81-2.81c.8-.78.8-2.07 0-2.86zM5.41 20L4 18.59l7.72-7.72 1.47 1.35L5.41 20z\"/>\n",
              "  </svg>\n",
              "      </button>\n",
              "      \n",
              "  <style>\n",
              "    .colab-df-container {\n",
              "      display:flex;\n",
              "      flex-wrap:wrap;\n",
              "      gap: 12px;\n",
              "    }\n",
              "\n",
              "    .colab-df-convert {\n",
              "      background-color: #E8F0FE;\n",
              "      border: none;\n",
              "      border-radius: 50%;\n",
              "      cursor: pointer;\n",
              "      display: none;\n",
              "      fill: #1967D2;\n",
              "      height: 32px;\n",
              "      padding: 0 0 0 0;\n",
              "      width: 32px;\n",
              "    }\n",
              "\n",
              "    .colab-df-convert:hover {\n",
              "      background-color: #E2EBFA;\n",
              "      box-shadow: 0px 1px 2px rgba(60, 64, 67, 0.3), 0px 1px 3px 1px rgba(60, 64, 67, 0.15);\n",
              "      fill: #174EA6;\n",
              "    }\n",
              "\n",
              "    [theme=dark] .colab-df-convert {\n",
              "      background-color: #3B4455;\n",
              "      fill: #D2E3FC;\n",
              "    }\n",
              "\n",
              "    [theme=dark] .colab-df-convert:hover {\n",
              "      background-color: #434B5C;\n",
              "      box-shadow: 0px 1px 3px 1px rgba(0, 0, 0, 0.15);\n",
              "      filter: drop-shadow(0px 1px 2px rgba(0, 0, 0, 0.3));\n",
              "      fill: #FFFFFF;\n",
              "    }\n",
              "  </style>\n",
              "\n",
              "      <script>\n",
              "        const buttonEl =\n",
              "          document.querySelector('#df-5ee4959a-aa8b-4cc4-b347-485b08551c31 button.colab-df-convert');\n",
              "        buttonEl.style.display =\n",
              "          google.colab.kernel.accessAllowed ? 'block' : 'none';\n",
              "\n",
              "        async function convertToInteractive(key) {\n",
              "          const element = document.querySelector('#df-5ee4959a-aa8b-4cc4-b347-485b08551c31');\n",
              "          const dataTable =\n",
              "            await google.colab.kernel.invokeFunction('convertToInteractive',\n",
              "                                                     [key], {});\n",
              "          if (!dataTable) return;\n",
              "\n",
              "          const docLinkHtml = 'Like what you see? Visit the ' +\n",
              "            '<a target=\"_blank\" href=https://colab.research.google.com/notebooks/data_table.ipynb>data table notebook</a>'\n",
              "            + ' to learn more about interactive tables.';\n",
              "          element.innerHTML = '';\n",
              "          dataTable['output_type'] = 'display_data';\n",
              "          await google.colab.output.renderOutput(dataTable, element);\n",
              "          const docLink = document.createElement('div');\n",
              "          docLink.innerHTML = docLinkHtml;\n",
              "          element.appendChild(docLink);\n",
              "        }\n",
              "      </script>\n",
              "    </div>\n",
              "  </div>\n",
              "  "
            ]
          },
          "metadata": {},
          "execution_count": 2
        }
      ]
    },
    {
      "cell_type": "code",
      "source": [
        "df1 = df[['Close']]\n",
        "df1"
      ],
      "metadata": {
        "colab": {
          "base_uri": "https://localhost:8080/",
          "height": 455
        },
        "id": "f7a-DQOW5Kb_",
        "outputId": "062d55c9-88d8-4bb6-f496-e8f9285f696c"
      },
      "execution_count": 3,
      "outputs": [
        {
          "output_type": "execute_result",
          "data": {
            "text/plain": [
              "              Close\n",
              "Date               \n",
              "2019-01-02  25639.0\n",
              "2019-01-03  24491.0\n",
              "2019-01-04  24146.6\n",
              "2019-01-07  24720.6\n",
              "2019-01-08  24491.0\n",
              "...             ...\n",
              "2023-05-26  43400.0\n",
              "2023-05-29  43900.0\n",
              "2023-05-30  43800.0\n",
              "2023-05-31  44000.0\n",
              "2023-06-01  43700.0\n",
              "\n",
              "[1101 rows x 1 columns]"
            ],
            "text/html": [
              "\n",
              "  <div id=\"df-db1797fa-c842-49f9-9516-c484ed0659eb\">\n",
              "    <div class=\"colab-df-container\">\n",
              "      <div>\n",
              "<style scoped>\n",
              "    .dataframe tbody tr th:only-of-type {\n",
              "        vertical-align: middle;\n",
              "    }\n",
              "\n",
              "    .dataframe tbody tr th {\n",
              "        vertical-align: top;\n",
              "    }\n",
              "\n",
              "    .dataframe thead th {\n",
              "        text-align: right;\n",
              "    }\n",
              "</style>\n",
              "<table border=\"1\" class=\"dataframe\">\n",
              "  <thead>\n",
              "    <tr style=\"text-align: right;\">\n",
              "      <th></th>\n",
              "      <th>Close</th>\n",
              "    </tr>\n",
              "    <tr>\n",
              "      <th>Date</th>\n",
              "      <th></th>\n",
              "    </tr>\n",
              "  </thead>\n",
              "  <tbody>\n",
              "    <tr>\n",
              "      <th>2019-01-02</th>\n",
              "      <td>25639.0</td>\n",
              "    </tr>\n",
              "    <tr>\n",
              "      <th>2019-01-03</th>\n",
              "      <td>24491.0</td>\n",
              "    </tr>\n",
              "    <tr>\n",
              "      <th>2019-01-04</th>\n",
              "      <td>24146.6</td>\n",
              "    </tr>\n",
              "    <tr>\n",
              "      <th>2019-01-07</th>\n",
              "      <td>24720.6</td>\n",
              "    </tr>\n",
              "    <tr>\n",
              "      <th>2019-01-08</th>\n",
              "      <td>24491.0</td>\n",
              "    </tr>\n",
              "    <tr>\n",
              "      <th>...</th>\n",
              "      <td>...</td>\n",
              "    </tr>\n",
              "    <tr>\n",
              "      <th>2023-05-26</th>\n",
              "      <td>43400.0</td>\n",
              "    </tr>\n",
              "    <tr>\n",
              "      <th>2023-05-29</th>\n",
              "      <td>43900.0</td>\n",
              "    </tr>\n",
              "    <tr>\n",
              "      <th>2023-05-30</th>\n",
              "      <td>43800.0</td>\n",
              "    </tr>\n",
              "    <tr>\n",
              "      <th>2023-05-31</th>\n",
              "      <td>44000.0</td>\n",
              "    </tr>\n",
              "    <tr>\n",
              "      <th>2023-06-01</th>\n",
              "      <td>43700.0</td>\n",
              "    </tr>\n",
              "  </tbody>\n",
              "</table>\n",
              "<p>1101 rows × 1 columns</p>\n",
              "</div>\n",
              "      <button class=\"colab-df-convert\" onclick=\"convertToInteractive('df-db1797fa-c842-49f9-9516-c484ed0659eb')\"\n",
              "              title=\"Convert this dataframe to an interactive table.\"\n",
              "              style=\"display:none;\">\n",
              "        \n",
              "  <svg xmlns=\"http://www.w3.org/2000/svg\" height=\"24px\"viewBox=\"0 0 24 24\"\n",
              "       width=\"24px\">\n",
              "    <path d=\"M0 0h24v24H0V0z\" fill=\"none\"/>\n",
              "    <path d=\"M18.56 5.44l.94 2.06.94-2.06 2.06-.94-2.06-.94-.94-2.06-.94 2.06-2.06.94zm-11 1L8.5 8.5l.94-2.06 2.06-.94-2.06-.94L8.5 2.5l-.94 2.06-2.06.94zm10 10l.94 2.06.94-2.06 2.06-.94-2.06-.94-.94-2.06-.94 2.06-2.06.94z\"/><path d=\"M17.41 7.96l-1.37-1.37c-.4-.4-.92-.59-1.43-.59-.52 0-1.04.2-1.43.59L10.3 9.45l-7.72 7.72c-.78.78-.78 2.05 0 2.83L4 21.41c.39.39.9.59 1.41.59.51 0 1.02-.2 1.41-.59l7.78-7.78 2.81-2.81c.8-.78.8-2.07 0-2.86zM5.41 20L4 18.59l7.72-7.72 1.47 1.35L5.41 20z\"/>\n",
              "  </svg>\n",
              "      </button>\n",
              "      \n",
              "  <style>\n",
              "    .colab-df-container {\n",
              "      display:flex;\n",
              "      flex-wrap:wrap;\n",
              "      gap: 12px;\n",
              "    }\n",
              "\n",
              "    .colab-df-convert {\n",
              "      background-color: #E8F0FE;\n",
              "      border: none;\n",
              "      border-radius: 50%;\n",
              "      cursor: pointer;\n",
              "      display: none;\n",
              "      fill: #1967D2;\n",
              "      height: 32px;\n",
              "      padding: 0 0 0 0;\n",
              "      width: 32px;\n",
              "    }\n",
              "\n",
              "    .colab-df-convert:hover {\n",
              "      background-color: #E2EBFA;\n",
              "      box-shadow: 0px 1px 2px rgba(60, 64, 67, 0.3), 0px 1px 3px 1px rgba(60, 64, 67, 0.15);\n",
              "      fill: #174EA6;\n",
              "    }\n",
              "\n",
              "    [theme=dark] .colab-df-convert {\n",
              "      background-color: #3B4455;\n",
              "      fill: #D2E3FC;\n",
              "    }\n",
              "\n",
              "    [theme=dark] .colab-df-convert:hover {\n",
              "      background-color: #434B5C;\n",
              "      box-shadow: 0px 1px 3px 1px rgba(0, 0, 0, 0.15);\n",
              "      filter: drop-shadow(0px 1px 2px rgba(0, 0, 0, 0.3));\n",
              "      fill: #FFFFFF;\n",
              "    }\n",
              "  </style>\n",
              "\n",
              "      <script>\n",
              "        const buttonEl =\n",
              "          document.querySelector('#df-db1797fa-c842-49f9-9516-c484ed0659eb button.colab-df-convert');\n",
              "        buttonEl.style.display =\n",
              "          google.colab.kernel.accessAllowed ? 'block' : 'none';\n",
              "\n",
              "        async function convertToInteractive(key) {\n",
              "          const element = document.querySelector('#df-db1797fa-c842-49f9-9516-c484ed0659eb');\n",
              "          const dataTable =\n",
              "            await google.colab.kernel.invokeFunction('convertToInteractive',\n",
              "                                                     [key], {});\n",
              "          if (!dataTable) return;\n",
              "\n",
              "          const docLinkHtml = 'Like what you see? Visit the ' +\n",
              "            '<a target=\"_blank\" href=https://colab.research.google.com/notebooks/data_table.ipynb>data table notebook</a>'\n",
              "            + ' to learn more about interactive tables.';\n",
              "          element.innerHTML = '';\n",
              "          dataTable['output_type'] = 'display_data';\n",
              "          await google.colab.output.renderOutput(dataTable, element);\n",
              "          const docLink = document.createElement('div');\n",
              "          docLink.innerHTML = docLinkHtml;\n",
              "          element.appendChild(docLink);\n",
              "        }\n",
              "      </script>\n",
              "    </div>\n",
              "  </div>\n",
              "  "
            ]
          },
          "metadata": {},
          "execution_count": 3
        }
      ]
    },
    {
      "cell_type": "code",
      "source": [
        "# 3. Scaler data\n",
        "scaler=MinMaxScaler()\n",
        "df1=scaler.fit_transform(np.array(df1).reshape(-1,1))"
      ],
      "metadata": {
        "id": "oJhPlK65Zw7k"
      },
      "execution_count": 4,
      "outputs": []
    },
    {
      "cell_type": "code",
      "source": [
        "# 4. Chia train test val theo tỉ lệ 8-1-1\n",
        "train_size = int(0.8 * len(df1))\n",
        "test_size = int(0.1 * len(df1))\n",
        "val_size = len(df1) - train_size - test_size\n",
        "\n",
        "train_data = df1[:train_size]\n",
        "test_data = df1[train_size:train_size+test_size]\n",
        "val_data = df1[train_size+test_size:]"
      ],
      "metadata": {
        "id": "sL4-viIP0gWE"
      },
      "execution_count": 5,
      "outputs": []
    },
    {
      "cell_type": "code",
      "source": [
        "# 5. Hàm Create Dataset\n",
        "#window sliding\n",
        "def create_dataset(dataset, time_step=1):\n",
        "\tdataX, dataY = [], []\n",
        "\tfor i in range(len(dataset)-time_step-1):\n",
        "\t\ta = dataset[i:(i+time_step), 0]   \n",
        "\t\tdataX.append(a)\n",
        "\t\tdataY.append(dataset[i + time_step, 0])\n",
        "\treturn np.array(dataX),np.array(dataY)"
      ],
      "metadata": {
        "id": "h2OK4VKH0r1M"
      },
      "execution_count": 6,
      "outputs": []
    },
    {
      "cell_type": "code",
      "source": [
        "#6. Reshape into X=t,t+1,t+2..t+39 and Y=t+40\n",
        "time_step = 40\n",
        "X_train, y_train = create_dataset(train_data, time_step)\n",
        "X_val, yval = create_dataset(val_data, time_step)\n",
        "X_test, ytest = create_dataset(test_data, time_step)"
      ],
      "metadata": {
        "id": "WJrVtYgc0vP3"
      },
      "execution_count": 7,
      "outputs": []
    },
    {
      "cell_type": "code",
      "source": [
        "# 7. Reshape input to be [samples, time steps, features] which is required for LSTM\n",
        "X_train =X_train.reshape(X_train.shape[0],X_train.shape[1] , 1)\n",
        "X_test = X_test.reshape(X_test.shape[0],X_test.shape[1] , 1)\n",
        "X_val = X_val.reshape(X_val.shape[0],X_val.shape[1] , 1)"
      ],
      "metadata": {
        "id": "EjTwoA980x72"
      },
      "execution_count": 8,
      "outputs": []
    },
    {
      "cell_type": "code",
      "source": [
        "# 8. Define GRU Model\n",
        "\n",
        "model = Sequential()\n",
        "model.add(GRU(64, input_shape=(time_step, 1)))\n",
        "model.add(Dense(1))\n",
        "model.compile(optimizer='adam', loss='mean_squared_error')"
      ],
      "metadata": {
        "id": "XbRI2TJP01l5"
      },
      "execution_count": 9,
      "outputs": []
    },
    {
      "cell_type": "code",
      "source": [
        "# 9. Fit mô hình với dữ liệu train\n",
        "model.fit(X_train,y_train,validation_data=(X_test,ytest),epochs=100,batch_size=40,verbose=1)"
      ],
      "metadata": {
        "id": "kdjAZdkn05IH",
        "colab": {
          "base_uri": "https://localhost:8080/"
        },
        "outputId": "05218bea-edc8-4c7a-cc6f-838f0142960a"
      },
      "execution_count": 10,
      "outputs": [
        {
          "output_type": "stream",
          "name": "stdout",
          "text": [
            "Epoch 1/100\n",
            "21/21 [==============================] - 7s 100ms/step - loss: 0.0400 - val_loss: 0.0060\n",
            "Epoch 2/100\n",
            "21/21 [==============================] - 1s 44ms/step - loss: 0.0069 - val_loss: 0.0037\n",
            "Epoch 3/100\n",
            "21/21 [==============================] - 1s 48ms/step - loss: 0.0035 - val_loss: 0.0034\n",
            "Epoch 4/100\n",
            "21/21 [==============================] - 1s 57ms/step - loss: 0.0022 - val_loss: 0.0029\n",
            "Epoch 5/100\n",
            "21/21 [==============================] - 1s 66ms/step - loss: 0.0018 - val_loss: 0.0029\n",
            "Epoch 6/100\n",
            "21/21 [==============================] - 2s 73ms/step - loss: 0.0017 - val_loss: 0.0027\n",
            "Epoch 7/100\n",
            "21/21 [==============================] - 2s 72ms/step - loss: 0.0016 - val_loss: 0.0026\n",
            "Epoch 8/100\n",
            "21/21 [==============================] - 1s 47ms/step - loss: 0.0015 - val_loss: 0.0025\n",
            "Epoch 9/100\n",
            "21/21 [==============================] - 1s 54ms/step - loss: 0.0015 - val_loss: 0.0025\n",
            "Epoch 10/100\n",
            "21/21 [==============================] - 1s 60ms/step - loss: 0.0014 - val_loss: 0.0024\n",
            "Epoch 11/100\n",
            "21/21 [==============================] - 1s 42ms/step - loss: 0.0014 - val_loss: 0.0024\n",
            "Epoch 12/100\n",
            "21/21 [==============================] - 1s 54ms/step - loss: 0.0013 - val_loss: 0.0024\n",
            "Epoch 13/100\n",
            "21/21 [==============================] - 1s 25ms/step - loss: 0.0013 - val_loss: 0.0023\n",
            "Epoch 14/100\n",
            "21/21 [==============================] - 0s 23ms/step - loss: 0.0013 - val_loss: 0.0022\n",
            "Epoch 15/100\n",
            "21/21 [==============================] - 0s 22ms/step - loss: 0.0012 - val_loss: 0.0022\n",
            "Epoch 16/100\n",
            "21/21 [==============================] - 0s 23ms/step - loss: 0.0012 - val_loss: 0.0022\n",
            "Epoch 17/100\n",
            "21/21 [==============================] - 0s 22ms/step - loss: 0.0012 - val_loss: 0.0021\n",
            "Epoch 18/100\n",
            "21/21 [==============================] - 0s 23ms/step - loss: 0.0012 - val_loss: 0.0021\n",
            "Epoch 19/100\n",
            "21/21 [==============================] - 0s 22ms/step - loss: 0.0012 - val_loss: 0.0021\n",
            "Epoch 20/100\n",
            "21/21 [==============================] - 0s 24ms/step - loss: 0.0011 - val_loss: 0.0021\n",
            "Epoch 21/100\n",
            "21/21 [==============================] - 1s 30ms/step - loss: 0.0011 - val_loss: 0.0021\n",
            "Epoch 22/100\n",
            "21/21 [==============================] - 1s 37ms/step - loss: 0.0011 - val_loss: 0.0021\n",
            "Epoch 23/100\n",
            "21/21 [==============================] - 1s 37ms/step - loss: 0.0011 - val_loss: 0.0020\n",
            "Epoch 24/100\n",
            "21/21 [==============================] - 1s 36ms/step - loss: 0.0011 - val_loss: 0.0021\n",
            "Epoch 25/100\n",
            "21/21 [==============================] - 1s 37ms/step - loss: 0.0011 - val_loss: 0.0020\n",
            "Epoch 26/100\n",
            "21/21 [==============================] - 1s 38ms/step - loss: 0.0010 - val_loss: 0.0020\n",
            "Epoch 27/100\n",
            "21/21 [==============================] - 1s 25ms/step - loss: 0.0010 - val_loss: 0.0020\n",
            "Epoch 28/100\n",
            "21/21 [==============================] - 1s 24ms/step - loss: 0.0010 - val_loss: 0.0020\n",
            "Epoch 29/100\n",
            "21/21 [==============================] - 0s 23ms/step - loss: 0.0010 - val_loss: 0.0019\n",
            "Epoch 30/100\n",
            "21/21 [==============================] - 1s 24ms/step - loss: 0.0010 - val_loss: 0.0020\n",
            "Epoch 31/100\n",
            "21/21 [==============================] - 0s 23ms/step - loss: 0.0010 - val_loss: 0.0019\n",
            "Epoch 32/100\n",
            "21/21 [==============================] - 0s 24ms/step - loss: 0.0010 - val_loss: 0.0019\n",
            "Epoch 33/100\n",
            "21/21 [==============================] - 0s 22ms/step - loss: 0.0010 - val_loss: 0.0021\n",
            "Epoch 34/100\n",
            "21/21 [==============================] - 0s 24ms/step - loss: 0.0010 - val_loss: 0.0019\n",
            "Epoch 35/100\n",
            "21/21 [==============================] - 0s 23ms/step - loss: 9.7724e-04 - val_loss: 0.0019\n",
            "Epoch 36/100\n",
            "21/21 [==============================] - 0s 24ms/step - loss: 0.0010 - val_loss: 0.0019\n",
            "Epoch 37/100\n",
            "21/21 [==============================] - 0s 22ms/step - loss: 9.8083e-04 - val_loss: 0.0020\n",
            "Epoch 38/100\n",
            "21/21 [==============================] - 0s 23ms/step - loss: 9.8932e-04 - val_loss: 0.0019\n",
            "Epoch 39/100\n",
            "21/21 [==============================] - 0s 23ms/step - loss: 9.6476e-04 - val_loss: 0.0020\n",
            "Epoch 40/100\n",
            "21/21 [==============================] - 0s 23ms/step - loss: 9.8836e-04 - val_loss: 0.0019\n",
            "Epoch 41/100\n",
            "21/21 [==============================] - 0s 23ms/step - loss: 0.0010 - val_loss: 0.0019\n",
            "Epoch 42/100\n",
            "21/21 [==============================] - 0s 23ms/step - loss: 9.5793e-04 - val_loss: 0.0019\n",
            "Epoch 43/100\n",
            "21/21 [==============================] - 0s 22ms/step - loss: 9.6736e-04 - val_loss: 0.0019\n",
            "Epoch 44/100\n",
            "21/21 [==============================] - 0s 23ms/step - loss: 9.4169e-04 - val_loss: 0.0020\n",
            "Epoch 45/100\n",
            "21/21 [==============================] - 0s 22ms/step - loss: 0.0010 - val_loss: 0.0021\n",
            "Epoch 46/100\n",
            "21/21 [==============================] - 0s 23ms/step - loss: 0.0010 - val_loss: 0.0018\n",
            "Epoch 47/100\n",
            "21/21 [==============================] - 1s 25ms/step - loss: 9.3665e-04 - val_loss: 0.0018\n",
            "Epoch 48/100\n",
            "21/21 [==============================] - 1s 37ms/step - loss: 9.4063e-04 - val_loss: 0.0018\n",
            "Epoch 49/100\n",
            "21/21 [==============================] - 1s 37ms/step - loss: 9.3073e-04 - val_loss: 0.0018\n",
            "Epoch 50/100\n",
            "21/21 [==============================] - 1s 37ms/step - loss: 9.2624e-04 - val_loss: 0.0018\n",
            "Epoch 51/100\n",
            "21/21 [==============================] - 1s 38ms/step - loss: 9.2832e-04 - val_loss: 0.0018\n",
            "Epoch 52/100\n",
            "21/21 [==============================] - 1s 37ms/step - loss: 9.4955e-04 - val_loss: 0.0018\n",
            "Epoch 53/100\n",
            "21/21 [==============================] - 1s 29ms/step - loss: 9.9455e-04 - val_loss: 0.0019\n",
            "Epoch 54/100\n",
            "21/21 [==============================] - 0s 24ms/step - loss: 0.0010 - val_loss: 0.0020\n",
            "Epoch 55/100\n",
            "21/21 [==============================] - 0s 23ms/step - loss: 9.9641e-04 - val_loss: 0.0020\n",
            "Epoch 56/100\n",
            "21/21 [==============================] - 1s 24ms/step - loss: 9.4179e-04 - val_loss: 0.0018\n",
            "Epoch 57/100\n",
            "21/21 [==============================] - 0s 22ms/step - loss: 9.3969e-04 - val_loss: 0.0018\n",
            "Epoch 58/100\n",
            "21/21 [==============================] - 0s 24ms/step - loss: 8.9809e-04 - val_loss: 0.0019\n",
            "Epoch 59/100\n",
            "21/21 [==============================] - 0s 23ms/step - loss: 9.2913e-04 - val_loss: 0.0018\n",
            "Epoch 60/100\n",
            "21/21 [==============================] - 1s 24ms/step - loss: 9.0838e-04 - val_loss: 0.0018\n",
            "Epoch 61/100\n",
            "21/21 [==============================] - 0s 23ms/step - loss: 9.0952e-04 - val_loss: 0.0018\n",
            "Epoch 62/100\n",
            "21/21 [==============================] - 0s 23ms/step - loss: 9.0298e-04 - val_loss: 0.0019\n",
            "Epoch 63/100\n",
            "21/21 [==============================] - 0s 23ms/step - loss: 9.3086e-04 - val_loss: 0.0018\n",
            "Epoch 64/100\n",
            "21/21 [==============================] - 0s 23ms/step - loss: 9.2372e-04 - val_loss: 0.0018\n",
            "Epoch 65/100\n",
            "21/21 [==============================] - 0s 22ms/step - loss: 9.2428e-04 - val_loss: 0.0019\n",
            "Epoch 66/100\n",
            "21/21 [==============================] - 0s 23ms/step - loss: 9.5273e-04 - val_loss: 0.0018\n",
            "Epoch 67/100\n",
            "21/21 [==============================] - 0s 22ms/step - loss: 9.1347e-04 - val_loss: 0.0018\n",
            "Epoch 68/100\n",
            "21/21 [==============================] - 1s 24ms/step - loss: 9.0675e-04 - val_loss: 0.0019\n",
            "Epoch 69/100\n",
            "21/21 [==============================] - 0s 23ms/step - loss: 9.2054e-04 - val_loss: 0.0019\n",
            "Epoch 70/100\n",
            "21/21 [==============================] - 0s 23ms/step - loss: 9.1629e-04 - val_loss: 0.0020\n",
            "Epoch 71/100\n",
            "21/21 [==============================] - 0s 23ms/step - loss: 9.3184e-04 - val_loss: 0.0018\n",
            "Epoch 72/100\n",
            "21/21 [==============================] - 1s 24ms/step - loss: 8.9306e-04 - val_loss: 0.0018\n",
            "Epoch 73/100\n",
            "21/21 [==============================] - 1s 27ms/step - loss: 9.0099e-04 - val_loss: 0.0019\n",
            "Epoch 74/100\n",
            "21/21 [==============================] - 1s 38ms/step - loss: 9.3356e-04 - val_loss: 0.0018\n",
            "Epoch 75/100\n",
            "21/21 [==============================] - 1s 37ms/step - loss: 9.0636e-04 - val_loss: 0.0019\n",
            "Epoch 76/100\n",
            "21/21 [==============================] - 1s 37ms/step - loss: 9.3347e-04 - val_loss: 0.0018\n",
            "Epoch 77/100\n",
            "21/21 [==============================] - 1s 38ms/step - loss: 8.9976e-04 - val_loss: 0.0019\n",
            "Epoch 78/100\n",
            "21/21 [==============================] - 1s 37ms/step - loss: 9.2168e-04 - val_loss: 0.0018\n",
            "Epoch 79/100\n",
            "21/21 [==============================] - 1s 34ms/step - loss: 9.3011e-04 - val_loss: 0.0018\n",
            "Epoch 80/100\n",
            "21/21 [==============================] - 1s 24ms/step - loss: 9.2436e-04 - val_loss: 0.0018\n",
            "Epoch 81/100\n",
            "21/21 [==============================] - 0s 23ms/step - loss: 8.7949e-04 - val_loss: 0.0018\n",
            "Epoch 82/100\n",
            "21/21 [==============================] - 1s 24ms/step - loss: 8.8626e-04 - val_loss: 0.0018\n",
            "Epoch 83/100\n",
            "21/21 [==============================] - 0s 23ms/step - loss: 8.7804e-04 - val_loss: 0.0018\n",
            "Epoch 84/100\n",
            "21/21 [==============================] - 1s 25ms/step - loss: 8.8504e-04 - val_loss: 0.0018\n",
            "Epoch 85/100\n",
            "21/21 [==============================] - 0s 24ms/step - loss: 9.2171e-04 - val_loss: 0.0019\n",
            "Epoch 86/100\n",
            "21/21 [==============================] - 1s 24ms/step - loss: 8.8219e-04 - val_loss: 0.0019\n",
            "Epoch 87/100\n",
            "21/21 [==============================] - 0s 23ms/step - loss: 8.9897e-04 - val_loss: 0.0018\n",
            "Epoch 88/100\n",
            "21/21 [==============================] - 1s 25ms/step - loss: 9.4503e-04 - val_loss: 0.0023\n",
            "Epoch 89/100\n",
            "21/21 [==============================] - 1s 24ms/step - loss: 9.8388e-04 - val_loss: 0.0019\n",
            "Epoch 90/100\n",
            "21/21 [==============================] - 1s 24ms/step - loss: 8.9665e-04 - val_loss: 0.0018\n",
            "Epoch 91/100\n",
            "21/21 [==============================] - 0s 23ms/step - loss: 8.7379e-04 - val_loss: 0.0018\n",
            "Epoch 92/100\n",
            "21/21 [==============================] - 1s 24ms/step - loss: 8.9189e-04 - val_loss: 0.0019\n",
            "Epoch 93/100\n",
            "21/21 [==============================] - 0s 24ms/step - loss: 9.1681e-04 - val_loss: 0.0020\n",
            "Epoch 94/100\n",
            "21/21 [==============================] - 0s 24ms/step - loss: 9.5533e-04 - val_loss: 0.0018\n",
            "Epoch 95/100\n",
            "21/21 [==============================] - 0s 23ms/step - loss: 8.7085e-04 - val_loss: 0.0019\n",
            "Epoch 96/100\n",
            "21/21 [==============================] - 0s 24ms/step - loss: 9.0617e-04 - val_loss: 0.0018\n",
            "Epoch 97/100\n",
            "21/21 [==============================] - 0s 23ms/step - loss: 8.6782e-04 - val_loss: 0.0018\n",
            "Epoch 98/100\n",
            "21/21 [==============================] - 0s 24ms/step - loss: 8.7182e-04 - val_loss: 0.0018\n",
            "Epoch 99/100\n",
            "21/21 [==============================] - 1s 32ms/step - loss: 8.8940e-04 - val_loss: 0.0019\n",
            "Epoch 100/100\n",
            "21/21 [==============================] - 1s 39ms/step - loss: 8.9790e-04 - val_loss: 0.0020\n"
          ]
        },
        {
          "output_type": "execute_result",
          "data": {
            "text/plain": [
              "<keras.callbacks.History at 0x7fcfd1a55090>"
            ]
          },
          "metadata": {},
          "execution_count": 10
        }
      ]
    },
    {
      "cell_type": "code",
      "source": [
        "# 10. Dự báo dữ liệu test, val\n",
        "train_predict=model.predict(X_train)\n",
        "y_pred=model.predict(X_test)\n",
        "y_pred_val=model.predict(X_val)\n"
      ],
      "metadata": {
        "id": "I0D55k2u1JBd",
        "colab": {
          "base_uri": "https://localhost:8080/"
        },
        "outputId": "3eed4ae7-d614-4ce6-927b-a3f68466d666"
      },
      "execution_count": 11,
      "outputs": [
        {
          "output_type": "stream",
          "name": "stdout",
          "text": [
            "27/27 [==============================] - 1s 9ms/step\n",
            "3/3 [==============================] - 0s 10ms/step\n",
            "3/3 [==============================] - 0s 10ms/step\n"
          ]
        }
      ]
    },
    {
      "cell_type": "code",
      "source": [
        "# 11. Chuẩn hóa dữ liệu y_pred, y_pred_val\n",
        "train_predict=scaler.inverse_transform(train_predict)\n",
        "y_pred=scaler.inverse_transform(y_pred)\n",
        "y_pred_val=scaler.inverse_transform(y_pred_val)\n",
        "original_ytest = scaler.inverse_transform(ytest.reshape(-1,1)) \n",
        "original_yval = scaler.inverse_transform(yval.reshape(-1,1)) "
      ],
      "metadata": {
        "id": "twGDWDtNU7u5"
      },
      "execution_count": 12,
      "outputs": []
    },
    {
      "cell_type": "code",
      "source": [
        "# 12. Đánh giá độ chính xác thuật toán bằng RMSE\n",
        "valid_rmse = np.sqrt(np.mean((y_pred_val - original_yval)**2))\n",
        "test_rmse = np.sqrt(np.mean((y_pred - original_ytest)**2))\n",
        "print(f\"Validation RMSE: {valid_rmse:.2f}\")\n",
        "print(f\"Testing RMSE: {test_rmse:.2f}\")"
      ],
      "metadata": {
        "id": "CyTTUHma3aEw",
        "colab": {
          "base_uri": "https://localhost:8080/"
        },
        "outputId": "db2baf10-1615-421e-d3f9-efffb584c7f7"
      },
      "execution_count": 13,
      "outputs": [
        {
          "output_type": "stream",
          "name": "stdout",
          "text": [
            "Validation RMSE: 903.45\n",
            "Testing RMSE: 1149.29\n"
          ]
        }
      ]
    },
    {
      "cell_type": "code",
      "source": [
        "# 13. Đánh giá độ chính xác thuật toán bằng MAE\n",
        "valid_mae = mean_absolute_error(original_yval, y_pred_val)\n",
        "test_mae = mean_absolute_error(original_ytest, y_pred)\n",
        "print(f\"Validation MAE: {valid_mae:.2f}\")\n",
        "print(f\"Testing MAE: {test_mae:.2f}\")"
      ],
      "metadata": {
        "id": "NeSJdDlCt2nX",
        "colab": {
          "base_uri": "https://localhost:8080/"
        },
        "outputId": "23bb8a4e-c32d-49ef-f634-dbd91d105118"
      },
      "execution_count": 14,
      "outputs": [
        {
          "output_type": "stream",
          "name": "stdout",
          "text": [
            "Validation MAE: 736.79\n",
            "Testing MAE: 907.18\n"
          ]
        }
      ]
    },
    {
      "cell_type": "code",
      "source": [
        "# 14. Đánh giá độ chính xác thuật toán bằng MAPE\n",
        "valid_mape = mean_absolute_percentage_error(original_yval, y_pred_val)\n",
        "test_mape = mean_absolute_percentage_error(original_ytest,y_pred)\n",
        "print(f\"Validation MAPE: {valid_mape* 100:.2f}%\")\n",
        "print(f\"Testing MAPE: {test_mape*100:.2f}%\")"
      ],
      "metadata": {
        "id": "QZLaPLQyxHxJ",
        "colab": {
          "base_uri": "https://localhost:8080/"
        },
        "outputId": "1a1b313c-0b3d-4c5c-e658-1e75b21603d2"
      },
      "execution_count": 15,
      "outputs": [
        {
          "output_type": "stream",
          "name": "stdout",
          "text": [
            "Validation MAPE: 1.62%\n",
            "Testing MAPE: 2.61%\n"
          ]
        }
      ]
    },
    {
      "cell_type": "code",
      "source": [
        "# 14.Vẽ hình\n",
        "plt.figure(figsize=(16,9))\n",
        "plt.ylabel('Closing Price');\n",
        "plt.xlabel('Date');\n",
        "plt.title('GRU BID 8-1-1')\n",
        "train_index = df[:train_size].index\n",
        "plt.plot(train_index,scaler.inverse_transform(train_data))\n",
        "#test\n",
        "test_index = df[train_size:train_size+test_size].index\n",
        "plt.plot(test_index,scaler.inverse_transform(test_data))\n",
        "#test predict\n",
        "test_predict_index = df[train_size+41:train_size+test_size].index\n",
        "plt.plot(test_predict_index,(y_pred))\n",
        "#val\n",
        "val_index = df[train_size+test_size:train_size+test_size+val_size].index\n",
        "plt.plot(val_index,scaler.inverse_transform(val_data))\n",
        "#val predict\n",
        "val_predict_index = df[train_size+test_size+41:train_size+test_size+val_size].index\n",
        "plt.plot(val_predict_index,y_pred_val)\n",
        "#prediect_data_index = pd.RangeIndex(start=len(df)-1, stop=len(df)+29, step=1)\n",
        "#plt.plot(prediect_data_index,scaler.inverse_transform(lst_output))\n",
        "plt.legend(['Train','Test','Predict','Validate','ValidatePred'])\n",
        "plt.show()"
      ],
      "metadata": {
        "id": "R95H9WzX3WKu",
        "colab": {
          "base_uri": "https://localhost:8080/",
          "height": 795
        },
        "outputId": "d426a5a8-c3bb-448f-da0f-f1859975bd37"
      },
      "execution_count": 16,
      "outputs": [
        {
          "output_type": "display_data",
          "data": {
            "text/plain": [
              "<Figure size 1600x900 with 1 Axes>"
            ],
            "image/png": "[encoded data removed]"
          },
          "metadata": {}
        }
      ]
    },
    {
      "cell_type": "code",
      "source": [],
      "metadata": {
        "id": "q6n9e-rNbTk5"
      },
      "execution_count": 16,
      "outputs": []
    }
  ]
}