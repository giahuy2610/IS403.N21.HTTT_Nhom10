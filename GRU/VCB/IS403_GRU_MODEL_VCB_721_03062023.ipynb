{
  "nbformat": 4,
  "nbformat_minor": 0,
  "metadata": {
    "colab": {
      "provenance": [],
      "gpuType": "T4",
      "toc_visible": true
    },
    "kernelspec": {
      "name": "python3",
      "display_name": "Python 3"
    },
    "language_info": {
      "name": "python"
    },
    "accelerator": "GPU",
    "gpuClass": "standard"
  },
  "cells": [
    {
      "cell_type": "code",
      "execution_count": 1,
      "metadata": {
        "id": "hLWR6fTVXs2N",
        "colab": {
          "base_uri": "https://localhost:8080/"
        },
        "outputId": "3b78f8b6-bc04-44df-f789-967dc65290a1"
      },
      "outputs": [
        {
          "output_type": "stream",
          "name": "stdout",
          "text": [
            "Drive already mounted at /content/drive; to attempt to forcibly remount, call drive.mount(\"/content/drive\", force_remount=True).\n"
          ]
        }
      ],
      "source": [
        "# 1. Import thư viện cần thiết\n",
        "from google.colab import drive\n",
        "drive.mount('/content/drive')\n",
        "import numpy as np\n",
        "import pandas as pd\n",
        "import matplotlib.pyplot as plt\n",
        "from sklearn.preprocessing import MinMaxScaler\n",
        "from keras.models import Sequential\n",
        "from keras.layers import Dense, GRU\n",
        "\n",
        "from sklearn.metrics import  mean_absolute_percentage_error, mean_absolute_error"
      ]
    },
    {
      "cell_type": "code",
      "source": [
        "# 2. Đọc file csv và gắng index với giá Close\n",
        "df = pd.read_csv('/content/drive/MyDrive/StockData/VCB-Historical-Data.csv',index_col=0,parse_dates=True).sort_values(by='Date',ascending=True)\n",
        "df['Price']=df['Price'].replace(',','',regex=True).astype(float)\n",
        "\n",
        "df = df.rename(columns={'Price': 'Close'})\n",
        "df.head()\n"
      ],
      "metadata": {
        "id": "QhNDy9MLYRYb",
        "colab": {
          "base_uri": "https://localhost:8080/",
          "height": 238
        },
        "outputId": "4ad6c87a-74e1-4d17-9484-afaa1b7fa239"
      },
      "execution_count": 2,
      "outputs": [
        {
          "output_type": "execute_result",
          "data": {
            "text/plain": [
              "              Close    Open    High     Low   Vol. Change %\n",
              "Date                                                       \n",
              "2019-01-02  41161.0  41,391  41,698  41,084  1.38M    0.19%\n",
              "2019-01-03  41161.0  41,468  41,545  40,470  1.37M    0.00%\n",
              "2019-01-04  41775.0  40,931  41,775  40,393  1.67M    1.49%\n",
              "2019-01-07  41929.0  42,466  42,620  41,852  1.50M    0.37%\n",
              "2019-01-08  42236.0  42,236  42,390  41,852  1.68M    0.73%"
            ],
            "text/html": [
              "\n",
              "  <div id=\"df-9eedae6f-b713-4d3d-b540-4b55a0e69dd6\">\n",
              "    <div class=\"colab-df-container\">\n",
              "      <div>\n",
              "<style scoped>\n",
              "    .dataframe tbody tr th:only-of-type {\n",
              "        vertical-align: middle;\n",
              "    }\n",
              "\n",
              "    .dataframe tbody tr th {\n",
              "        vertical-align: top;\n",
              "    }\n",
              "\n",
              "    .dataframe thead th {\n",
              "        text-align: right;\n",
              "    }\n",
              "</style>\n",
              "<table border=\"1\" class=\"dataframe\">\n",
              "  <thead>\n",
              "    <tr style=\"text-align: right;\">\n",
              "      <th></th>\n",
              "      <th>Close</th>\n",
              "      <th>Open</th>\n",
              "      <th>High</th>\n",
              "      <th>Low</th>\n",
              "      <th>Vol.</th>\n",
              "      <th>Change %</th>\n",
              "    </tr>\n",
              "    <tr>\n",
              "      <th>Date</th>\n",
              "      <th></th>\n",
              "      <th></th>\n",
              "      <th></th>\n",
              "      <th></th>\n",
              "      <th></th>\n",
              "      <th></th>\n",
              "    </tr>\n",
              "  </thead>\n",
              "  <tbody>\n",
              "    <tr>\n",
              "      <th>2019-01-02</th>\n",
              "      <td>41161.0</td>\n",
              "      <td>41,391</td>\n",
              "      <td>41,698</td>\n",
              "      <td>41,084</td>\n",
              "      <td>1.38M</td>\n",
              "      <td>0.19%</td>\n",
              "    </tr>\n",
              "    <tr>\n",
              "      <th>2019-01-03</th>\n",
              "      <td>41161.0</td>\n",
              "      <td>41,468</td>\n",
              "      <td>41,545</td>\n",
              "      <td>40,470</td>\n",
              "      <td>1.37M</td>\n",
              "      <td>0.00%</td>\n",
              "    </tr>\n",
              "    <tr>\n",
              "      <th>2019-01-04</th>\n",
              "      <td>41775.0</td>\n",
              "      <td>40,931</td>\n",
              "      <td>41,775</td>\n",
              "      <td>40,393</td>\n",
              "      <td>1.67M</td>\n",
              "      <td>1.49%</td>\n",
              "    </tr>\n",
              "    <tr>\n",
              "      <th>2019-01-07</th>\n",
              "      <td>41929.0</td>\n",
              "      <td>42,466</td>\n",
              "      <td>42,620</td>\n",
              "      <td>41,852</td>\n",
              "      <td>1.50M</td>\n",
              "      <td>0.37%</td>\n",
              "    </tr>\n",
              "    <tr>\n",
              "      <th>2019-01-08</th>\n",
              "      <td>42236.0</td>\n",
              "      <td>42,236</td>\n",
              "      <td>42,390</td>\n",
              "      <td>41,852</td>\n",
              "      <td>1.68M</td>\n",
              "      <td>0.73%</td>\n",
              "    </tr>\n",
              "  </tbody>\n",
              "</table>\n",
              "</div>\n",
              "      <button class=\"colab-df-convert\" onclick=\"convertToInteractive('df-9eedae6f-b713-4d3d-b540-4b55a0e69dd6')\"\n",
              "              title=\"Convert this dataframe to an interactive table.\"\n",
              "              style=\"display:none;\">\n",
              "        \n",
              "  <svg xmlns=\"http://www.w3.org/2000/svg\" height=\"24px\"viewBox=\"0 0 24 24\"\n",
              "       width=\"24px\">\n",
              "    <path d=\"M0 0h24v24H0V0z\" fill=\"none\"/>\n",
              "    <path d=\"M18.56 5.44l.94 2.06.94-2.06 2.06-.94-2.06-.94-.94-2.06-.94 2.06-2.06.94zm-11 1L8.5 8.5l.94-2.06 2.06-.94-2.06-.94L8.5 2.5l-.94 2.06-2.06.94zm10 10l.94 2.06.94-2.06 2.06-.94-2.06-.94-.94-2.06-.94 2.06-2.06.94z\"/><path d=\"M17.41 7.96l-1.37-1.37c-.4-.4-.92-.59-1.43-.59-.52 0-1.04.2-1.43.59L10.3 9.45l-7.72 7.72c-.78.78-.78 2.05 0 2.83L4 21.41c.39.39.9.59 1.41.59.51 0 1.02-.2 1.41-.59l7.78-7.78 2.81-2.81c.8-.78.8-2.07 0-2.86zM5.41 20L4 18.59l7.72-7.72 1.47 1.35L5.41 20z\"/>\n",
              "  </svg>\n",
              "      </button>\n",
              "      \n",
              "  <style>\n",
              "    .colab-df-container {\n",
              "      display:flex;\n",
              "      flex-wrap:wrap;\n",
              "      gap: 12px;\n",
              "    }\n",
              "\n",
              "    .colab-df-convert {\n",
              "      background-color: #E8F0FE;\n",
              "      border: none;\n",
              "      border-radius: 50%;\n",
              "      cursor: pointer;\n",
              "      display: none;\n",
              "      fill: #1967D2;\n",
              "      height: 32px;\n",
              "      padding: 0 0 0 0;\n",
              "      width: 32px;\n",
              "    }\n",
              "\n",
              "    .colab-df-convert:hover {\n",
              "      background-color: #E2EBFA;\n",
              "      box-shadow: 0px 1px 2px rgba(60, 64, 67, 0.3), 0px 1px 3px 1px rgba(60, 64, 67, 0.15);\n",
              "      fill: #174EA6;\n",
              "    }\n",
              "\n",
              "    [theme=dark] .colab-df-convert {\n",
              "      background-color: #3B4455;\n",
              "      fill: #D2E3FC;\n",
              "    }\n",
              "\n",
              "    [theme=dark] .colab-df-convert:hover {\n",
              "      background-color: #434B5C;\n",
              "      box-shadow: 0px 1px 3px 1px rgba(0, 0, 0, 0.15);\n",
              "      filter: drop-shadow(0px 1px 2px rgba(0, 0, 0, 0.3));\n",
              "      fill: #FFFFFF;\n",
              "    }\n",
              "  </style>\n",
              "\n",
              "      <script>\n",
              "        const buttonEl =\n",
              "          document.querySelector('#df-9eedae6f-b713-4d3d-b540-4b55a0e69dd6 button.colab-df-convert');\n",
              "        buttonEl.style.display =\n",
              "          google.colab.kernel.accessAllowed ? 'block' : 'none';\n",
              "\n",
              "        async function convertToInteractive(key) {\n",
              "          const element = document.querySelector('#df-9eedae6f-b713-4d3d-b540-4b55a0e69dd6');\n",
              "          const dataTable =\n",
              "            await google.colab.kernel.invokeFunction('convertToInteractive',\n",
              "                                                     [key], {});\n",
              "          if (!dataTable) return;\n",
              "\n",
              "          const docLinkHtml = 'Like what you see? Visit the ' +\n",
              "            '<a target=\"_blank\" href=https://colab.research.google.com/notebooks/data_table.ipynb>data table notebook</a>'\n",
              "            + ' to learn more about interactive tables.';\n",
              "          element.innerHTML = '';\n",
              "          dataTable['output_type'] = 'display_data';\n",
              "          await google.colab.output.renderOutput(dataTable, element);\n",
              "          const docLink = document.createElement('div');\n",
              "          docLink.innerHTML = docLinkHtml;\n",
              "          element.appendChild(docLink);\n",
              "        }\n",
              "      </script>\n",
              "    </div>\n",
              "  </div>\n",
              "  "
            ]
          },
          "metadata": {},
          "execution_count": 2
        }
      ]
    },
    {
      "cell_type": "code",
      "source": [
        "df1 = df[['Close']]\n",
        "df1"
      ],
      "metadata": {
        "colab": {
          "base_uri": "https://localhost:8080/",
          "height": 455
        },
        "id": "f7a-DQOW5Kb_",
        "outputId": "bff419f6-80da-4d58-8493-ca3e5066479a"
      },
      "execution_count": 3,
      "outputs": [
        {
          "output_type": "execute_result",
          "data": {
            "text/plain": [
              "              Close\n",
              "Date               \n",
              "2019-01-02  41161.0\n",
              "2019-01-03  41161.0\n",
              "2019-01-04  41775.0\n",
              "2019-01-07  41929.0\n",
              "2019-01-08  42236.0\n",
              "...             ...\n",
              "2023-05-26  92000.0\n",
              "2023-05-29  93100.0\n",
              "2023-05-30  94500.0\n",
              "2023-05-31  94000.0\n",
              "2023-06-01  93500.0\n",
              "\n",
              "[1101 rows x 1 columns]"
            ],
            "text/html": [
              "\n",
              "  <div id=\"df-b1c58832-8b20-40f1-be8c-a36fd298e319\">\n",
              "    <div class=\"colab-df-container\">\n",
              "      <div>\n",
              "<style scoped>\n",
              "    .dataframe tbody tr th:only-of-type {\n",
              "        vertical-align: middle;\n",
              "    }\n",
              "\n",
              "    .dataframe tbody tr th {\n",
              "        vertical-align: top;\n",
              "    }\n",
              "\n",
              "    .dataframe thead th {\n",
              "        text-align: right;\n",
              "    }\n",
              "</style>\n",
              "<table border=\"1\" class=\"dataframe\">\n",
              "  <thead>\n",
              "    <tr style=\"text-align: right;\">\n",
              "      <th></th>\n",
              "      <th>Close</th>\n",
              "    </tr>\n",
              "    <tr>\n",
              "      <th>Date</th>\n",
              "      <th></th>\n",
              "    </tr>\n",
              "  </thead>\n",
              "  <tbody>\n",
              "    <tr>\n",
              "      <th>2019-01-02</th>\n",
              "      <td>41161.0</td>\n",
              "    </tr>\n",
              "    <tr>\n",
              "      <th>2019-01-03</th>\n",
              "      <td>41161.0</td>\n",
              "    </tr>\n",
              "    <tr>\n",
              "      <th>2019-01-04</th>\n",
              "      <td>41775.0</td>\n",
              "    </tr>\n",
              "    <tr>\n",
              "      <th>2019-01-07</th>\n",
              "      <td>41929.0</td>\n",
              "    </tr>\n",
              "    <tr>\n",
              "      <th>2019-01-08</th>\n",
              "      <td>42236.0</td>\n",
              "    </tr>\n",
              "    <tr>\n",
              "      <th>...</th>\n",
              "      <td>...</td>\n",
              "    </tr>\n",
              "    <tr>\n",
              "      <th>2023-05-26</th>\n",
              "      <td>92000.0</td>\n",
              "    </tr>\n",
              "    <tr>\n",
              "      <th>2023-05-29</th>\n",
              "      <td>93100.0</td>\n",
              "    </tr>\n",
              "    <tr>\n",
              "      <th>2023-05-30</th>\n",
              "      <td>94500.0</td>\n",
              "    </tr>\n",
              "    <tr>\n",
              "      <th>2023-05-31</th>\n",
              "      <td>94000.0</td>\n",
              "    </tr>\n",
              "    <tr>\n",
              "      <th>2023-06-01</th>\n",
              "      <td>93500.0</td>\n",
              "    </tr>\n",
              "  </tbody>\n",
              "</table>\n",
              "<p>1101 rows × 1 columns</p>\n",
              "</div>\n",
              "      <button class=\"colab-df-convert\" onclick=\"convertToInteractive('df-b1c58832-8b20-40f1-be8c-a36fd298e319')\"\n",
              "              title=\"Convert this dataframe to an interactive table.\"\n",
              "              style=\"display:none;\">\n",
              "        \n",
              "  <svg xmlns=\"http://www.w3.org/2000/svg\" height=\"24px\"viewBox=\"0 0 24 24\"\n",
              "       width=\"24px\">\n",
              "    <path d=\"M0 0h24v24H0V0z\" fill=\"none\"/>\n",
              "    <path d=\"M18.56 5.44l.94 2.06.94-2.06 2.06-.94-2.06-.94-.94-2.06-.94 2.06-2.06.94zm-11 1L8.5 8.5l.94-2.06 2.06-.94-2.06-.94L8.5 2.5l-.94 2.06-2.06.94zm10 10l.94 2.06.94-2.06 2.06-.94-2.06-.94-.94-2.06-.94 2.06-2.06.94z\"/><path d=\"M17.41 7.96l-1.37-1.37c-.4-.4-.92-.59-1.43-.59-.52 0-1.04.2-1.43.59L10.3 9.45l-7.72 7.72c-.78.78-.78 2.05 0 2.83L4 21.41c.39.39.9.59 1.41.59.51 0 1.02-.2 1.41-.59l7.78-7.78 2.81-2.81c.8-.78.8-2.07 0-2.86zM5.41 20L4 18.59l7.72-7.72 1.47 1.35L5.41 20z\"/>\n",
              "  </svg>\n",
              "      </button>\n",
              "      \n",
              "  <style>\n",
              "    .colab-df-container {\n",
              "      display:flex;\n",
              "      flex-wrap:wrap;\n",
              "      gap: 12px;\n",
              "    }\n",
              "\n",
              "    .colab-df-convert {\n",
              "      background-color: #E8F0FE;\n",
              "      border: none;\n",
              "      border-radius: 50%;\n",
              "      cursor: pointer;\n",
              "      display: none;\n",
              "      fill: #1967D2;\n",
              "      height: 32px;\n",
              "      padding: 0 0 0 0;\n",
              "      width: 32px;\n",
              "    }\n",
              "\n",
              "    .colab-df-convert:hover {\n",
              "      background-color: #E2EBFA;\n",
              "      box-shadow: 0px 1px 2px rgba(60, 64, 67, 0.3), 0px 1px 3px 1px rgba(60, 64, 67, 0.15);\n",
              "      fill: #174EA6;\n",
              "    }\n",
              "\n",
              "    [theme=dark] .colab-df-convert {\n",
              "      background-color: #3B4455;\n",
              "      fill: #D2E3FC;\n",
              "    }\n",
              "\n",
              "    [theme=dark] .colab-df-convert:hover {\n",
              "      background-color: #434B5C;\n",
              "      box-shadow: 0px 1px 3px 1px rgba(0, 0, 0, 0.15);\n",
              "      filter: drop-shadow(0px 1px 2px rgba(0, 0, 0, 0.3));\n",
              "      fill: #FFFFFF;\n",
              "    }\n",
              "  </style>\n",
              "\n",
              "      <script>\n",
              "        const buttonEl =\n",
              "          document.querySelector('#df-b1c58832-8b20-40f1-be8c-a36fd298e319 button.colab-df-convert');\n",
              "        buttonEl.style.display =\n",
              "          google.colab.kernel.accessAllowed ? 'block' : 'none';\n",
              "\n",
              "        async function convertToInteractive(key) {\n",
              "          const element = document.querySelector('#df-b1c58832-8b20-40f1-be8c-a36fd298e319');\n",
              "          const dataTable =\n",
              "            await google.colab.kernel.invokeFunction('convertToInteractive',\n",
              "                                                     [key], {});\n",
              "          if (!dataTable) return;\n",
              "\n",
              "          const docLinkHtml = 'Like what you see? Visit the ' +\n",
              "            '<a target=\"_blank\" href=https://colab.research.google.com/notebooks/data_table.ipynb>data table notebook</a>'\n",
              "            + ' to learn more about interactive tables.';\n",
              "          element.innerHTML = '';\n",
              "          dataTable['output_type'] = 'display_data';\n",
              "          await google.colab.output.renderOutput(dataTable, element);\n",
              "          const docLink = document.createElement('div');\n",
              "          docLink.innerHTML = docLinkHtml;\n",
              "          element.appendChild(docLink);\n",
              "        }\n",
              "      </script>\n",
              "    </div>\n",
              "  </div>\n",
              "  "
            ]
          },
          "metadata": {},
          "execution_count": 3
        }
      ]
    },
    {
      "cell_type": "code",
      "source": [
        "# 3. Scaler data\n",
        "scaler=MinMaxScaler()\n",
        "df1=scaler.fit_transform(np.array(df1).reshape(-1,1))"
      ],
      "metadata": {
        "id": "oJhPlK65Zw7k"
      },
      "execution_count": 4,
      "outputs": []
    },
    {
      "cell_type": "code",
      "source": [
        "# 4. Chia train test val theo tỉ lệ 7-2-1\n",
        "train_size = int(0.7 * len(df1))\n",
        "test_size = int(0.2 * len(df1))\n",
        "val_size = len(df1) - train_size - test_size\n",
        "\n",
        "train_data = df1[:train_size]\n",
        "test_data = df1[train_size:train_size+test_size]\n",
        "val_data = df1[train_size+test_size:]"
      ],
      "metadata": {
        "id": "sL4-viIP0gWE"
      },
      "execution_count": 5,
      "outputs": []
    },
    {
      "cell_type": "code",
      "source": [
        "# 5. Hàm Create Dataset\n",
        "#window sliding\n",
        "def create_dataset(dataset, time_step=1):\n",
        "\tdataX, dataY = [], []\n",
        "\tfor i in range(len(dataset)-time_step-1):\n",
        "\t\ta = dataset[i:(i+time_step), 0]   \n",
        "\t\tdataX.append(a)\n",
        "\t\tdataY.append(dataset[i + time_step, 0])\n",
        "\treturn np.array(dataX),np.array(dataY)"
      ],
      "metadata": {
        "id": "h2OK4VKH0r1M"
      },
      "execution_count": 6,
      "outputs": []
    },
    {
      "cell_type": "code",
      "source": [
        "#6. Reshape into X=t,t+1,t+2..t+39 and Y=t+40\n",
        "time_step = 40\n",
        "X_train, y_train = create_dataset(train_data, time_step)\n",
        "X_val, yval = create_dataset(val_data, time_step)\n",
        "X_test, ytest = create_dataset(test_data, time_step)"
      ],
      "metadata": {
        "id": "WJrVtYgc0vP3"
      },
      "execution_count": 7,
      "outputs": []
    },
    {
      "cell_type": "code",
      "source": [
        "# 7. Reshape input to be [samples, time steps, features] which is required for LSTM\n",
        "X_train =X_train.reshape(X_train.shape[0],X_train.shape[1] , 1)\n",
        "X_test = X_test.reshape(X_test.shape[0],X_test.shape[1] , 1)\n",
        "X_val = X_val.reshape(X_val.shape[0],X_val.shape[1] , 1)"
      ],
      "metadata": {
        "id": "EjTwoA980x72"
      },
      "execution_count": 8,
      "outputs": []
    },
    {
      "cell_type": "code",
      "source": [
        "# 8. Define GRU Model\n",
        "\n",
        "model = Sequential()\n",
        "model.add(GRU(64, input_shape=(time_step, 1)))\n",
        "model.add(Dense(1))\n",
        "model.compile(optimizer='adam', loss='mean_squared_error')"
      ],
      "metadata": {
        "id": "XbRI2TJP01l5"
      },
      "execution_count": 9,
      "outputs": []
    },
    {
      "cell_type": "code",
      "source": [
        "# 9. Fit mô hình với dữ liệu train\n",
        "model.fit(X_train,y_train,validation_data=(X_test,ytest),epochs=100,batch_size=40,verbose=1)"
      ],
      "metadata": {
        "id": "kdjAZdkn05IH",
        "colab": {
          "base_uri": "https://localhost:8080/"
        },
        "outputId": "52b92e6c-2482-4c98-fcfc-c2b44447a934"
      },
      "execution_count": 10,
      "outputs": [
        {
          "output_type": "stream",
          "name": "stdout",
          "text": [
            "Epoch 1/100\n",
            "19/19 [==============================] - 7s 118ms/step - loss: 0.0764 - val_loss: 0.0086\n",
            "Epoch 2/100\n",
            "19/19 [==============================] - 2s 80ms/step - loss: 0.0092 - val_loss: 0.0091\n",
            "Epoch 3/100\n",
            "19/19 [==============================] - 1s 69ms/step - loss: 0.0045 - val_loss: 0.0019\n",
            "Epoch 4/100\n",
            "19/19 [==============================] - 2s 79ms/step - loss: 0.0032 - val_loss: 0.0032\n",
            "Epoch 5/100\n",
            "19/19 [==============================] - 1s 46ms/step - loss: 0.0023 - val_loss: 0.0014\n",
            "Epoch 6/100\n",
            "19/19 [==============================] - 1s 53ms/step - loss: 0.0016 - val_loss: 0.0016\n",
            "Epoch 7/100\n",
            "19/19 [==============================] - 1s 51ms/step - loss: 0.0012 - val_loss: 0.0013\n",
            "Epoch 8/100\n",
            "19/19 [==============================] - 1s 49ms/step - loss: 9.5694e-04 - val_loss: 0.0013\n",
            "Epoch 9/100\n",
            "19/19 [==============================] - 1s 48ms/step - loss: 8.9482e-04 - val_loss: 0.0013\n",
            "Epoch 10/100\n",
            "19/19 [==============================] - 1s 46ms/step - loss: 8.7837e-04 - val_loss: 0.0013\n",
            "Epoch 11/100\n",
            "19/19 [==============================] - 1s 46ms/step - loss: 8.4633e-04 - val_loss: 0.0012\n",
            "Epoch 12/100\n",
            "19/19 [==============================] - 1s 61ms/step - loss: 8.3323e-04 - val_loss: 0.0012\n",
            "Epoch 13/100\n",
            "19/19 [==============================] - 1s 60ms/step - loss: 8.0494e-04 - val_loss: 0.0012\n",
            "Epoch 14/100\n",
            "19/19 [==============================] - 1s 34ms/step - loss: 7.8671e-04 - val_loss: 0.0012\n",
            "Epoch 15/100\n",
            "19/19 [==============================] - 0s 25ms/step - loss: 7.7708e-04 - val_loss: 0.0011\n",
            "Epoch 16/100\n",
            "19/19 [==============================] - 1s 38ms/step - loss: 7.6201e-04 - val_loss: 0.0011\n",
            "Epoch 17/100\n",
            "19/19 [==============================] - 1s 40ms/step - loss: 7.4840e-04 - val_loss: 0.0011\n",
            "Epoch 18/100\n",
            "19/19 [==============================] - 1s 41ms/step - loss: 7.3510e-04 - val_loss: 0.0011\n",
            "Epoch 19/100\n",
            "19/19 [==============================] - 1s 39ms/step - loss: 7.2305e-04 - val_loss: 0.0011\n",
            "Epoch 20/100\n",
            "19/19 [==============================] - 1s 39ms/step - loss: 7.2061e-04 - val_loss: 0.0010\n",
            "Epoch 21/100\n",
            "19/19 [==============================] - 1s 38ms/step - loss: 7.0862e-04 - val_loss: 0.0010\n",
            "Epoch 22/100\n",
            "19/19 [==============================] - 1s 27ms/step - loss: 6.8916e-04 - val_loss: 0.0010\n",
            "Epoch 23/100\n",
            "19/19 [==============================] - 0s 25ms/step - loss: 6.9324e-04 - val_loss: 0.0010\n",
            "Epoch 24/100\n",
            "19/19 [==============================] - 0s 25ms/step - loss: 6.7655e-04 - val_loss: 0.0010\n",
            "Epoch 25/100\n",
            "19/19 [==============================] - 0s 26ms/step - loss: 6.8599e-04 - val_loss: 0.0010\n",
            "Epoch 26/100\n",
            "19/19 [==============================] - 0s 25ms/step - loss: 6.8343e-04 - val_loss: 9.7849e-04\n",
            "Epoch 27/100\n",
            "19/19 [==============================] - 0s 24ms/step - loss: 6.6343e-04 - val_loss: 9.6574e-04\n",
            "Epoch 28/100\n",
            "19/19 [==============================] - 0s 25ms/step - loss: 6.4410e-04 - val_loss: 9.5793e-04\n",
            "Epoch 29/100\n",
            "19/19 [==============================] - 0s 25ms/step - loss: 6.7173e-04 - val_loss: 9.5522e-04\n",
            "Epoch 30/100\n",
            "19/19 [==============================] - 0s 24ms/step - loss: 6.8908e-04 - val_loss: 9.3345e-04\n",
            "Epoch 31/100\n",
            "19/19 [==============================] - 0s 24ms/step - loss: 6.3847e-04 - val_loss: 9.2273e-04\n",
            "Epoch 32/100\n",
            "19/19 [==============================] - 0s 25ms/step - loss: 6.2616e-04 - val_loss: 9.2093e-04\n",
            "Epoch 33/100\n",
            "19/19 [==============================] - 0s 24ms/step - loss: 6.5500e-04 - val_loss: 9.2164e-04\n",
            "Epoch 34/100\n",
            "19/19 [==============================] - 0s 25ms/step - loss: 6.1911e-04 - val_loss: 9.7902e-04\n",
            "Epoch 35/100\n",
            "19/19 [==============================] - 0s 24ms/step - loss: 6.2303e-04 - val_loss: 9.1625e-04\n",
            "Epoch 36/100\n",
            "19/19 [==============================] - 0s 25ms/step - loss: 6.1766e-04 - val_loss: 9.2537e-04\n",
            "Epoch 37/100\n",
            "19/19 [==============================] - 0s 24ms/step - loss: 6.3355e-04 - val_loss: 9.2766e-04\n",
            "Epoch 38/100\n",
            "19/19 [==============================] - 0s 26ms/step - loss: 6.0823e-04 - val_loss: 9.9743e-04\n",
            "Epoch 39/100\n",
            "19/19 [==============================] - 0s 25ms/step - loss: 6.1401e-04 - val_loss: 9.0607e-04\n",
            "Epoch 40/100\n",
            "19/19 [==============================] - 0s 25ms/step - loss: 5.8121e-04 - val_loss: 8.8104e-04\n",
            "Epoch 41/100\n",
            "19/19 [==============================] - 0s 24ms/step - loss: 5.9941e-04 - val_loss: 8.7658e-04\n",
            "Epoch 42/100\n",
            "19/19 [==============================] - 1s 28ms/step - loss: 6.0526e-04 - val_loss: 9.1591e-04\n",
            "Epoch 43/100\n",
            "19/19 [==============================] - 1s 40ms/step - loss: 5.9994e-04 - val_loss: 8.6035e-04\n",
            "Epoch 44/100\n",
            "19/19 [==============================] - 1s 39ms/step - loss: 5.8118e-04 - val_loss: 8.6463e-04\n",
            "Epoch 45/100\n",
            "19/19 [==============================] - 1s 39ms/step - loss: 5.7565e-04 - val_loss: 8.5458e-04\n",
            "Epoch 46/100\n",
            "19/19 [==============================] - 1s 39ms/step - loss: 5.7494e-04 - val_loss: 8.5203e-04\n",
            "Epoch 47/100\n",
            "19/19 [==============================] - 1s 39ms/step - loss: 5.7202e-04 - val_loss: 8.7774e-04\n",
            "Epoch 48/100\n",
            "19/19 [==============================] - 1s 35ms/step - loss: 5.7229e-04 - val_loss: 8.4908e-04\n",
            "Epoch 49/100\n",
            "19/19 [==============================] - 0s 24ms/step - loss: 5.6640e-04 - val_loss: 8.4847e-04\n",
            "Epoch 50/100\n",
            "19/19 [==============================] - 0s 25ms/step - loss: 5.7287e-04 - val_loss: 8.4962e-04\n",
            "Epoch 51/100\n",
            "19/19 [==============================] - 0s 24ms/step - loss: 5.6995e-04 - val_loss: 8.4532e-04\n",
            "Epoch 52/100\n",
            "19/19 [==============================] - 0s 25ms/step - loss: 5.5796e-04 - val_loss: 8.3879e-04\n",
            "Epoch 53/100\n",
            "19/19 [==============================] - 0s 24ms/step - loss: 5.5671e-04 - val_loss: 0.0010\n",
            "Epoch 54/100\n",
            "19/19 [==============================] - 0s 25ms/step - loss: 6.0854e-04 - val_loss: 8.3205e-04\n",
            "Epoch 55/100\n",
            "19/19 [==============================] - 0s 24ms/step - loss: 5.4680e-04 - val_loss: 8.3903e-04\n",
            "Epoch 56/100\n",
            "19/19 [==============================] - 0s 24ms/step - loss: 5.6326e-04 - val_loss: 9.1078e-04\n",
            "Epoch 57/100\n",
            "19/19 [==============================] - 0s 25ms/step - loss: 5.7660e-04 - val_loss: 9.0643e-04\n",
            "Epoch 58/100\n",
            "19/19 [==============================] - 0s 25ms/step - loss: 5.7408e-04 - val_loss: 8.1667e-04\n",
            "Epoch 59/100\n",
            "19/19 [==============================] - 0s 25ms/step - loss: 5.5842e-04 - val_loss: 8.1759e-04\n",
            "Epoch 60/100\n",
            "19/19 [==============================] - 0s 26ms/step - loss: 5.4498e-04 - val_loss: 8.4454e-04\n",
            "Epoch 61/100\n",
            "19/19 [==============================] - 0s 26ms/step - loss: 5.7065e-04 - val_loss: 8.5892e-04\n",
            "Epoch 62/100\n",
            "19/19 [==============================] - 1s 27ms/step - loss: 5.3612e-04 - val_loss: 8.0649e-04\n",
            "Epoch 63/100\n",
            "19/19 [==============================] - 0s 25ms/step - loss: 5.3281e-04 - val_loss: 9.1964e-04\n",
            "Epoch 64/100\n",
            "19/19 [==============================] - 0s 25ms/step - loss: 5.6378e-04 - val_loss: 8.3072e-04\n",
            "Epoch 65/100\n",
            "19/19 [==============================] - 0s 25ms/step - loss: 5.4354e-04 - val_loss: 8.0988e-04\n",
            "Epoch 66/100\n",
            "19/19 [==============================] - 1s 27ms/step - loss: 5.3857e-04 - val_loss: 8.4434e-04\n",
            "Epoch 67/100\n",
            "19/19 [==============================] - 0s 25ms/step - loss: 5.7238e-04 - val_loss: 8.6654e-04\n",
            "Epoch 68/100\n",
            "19/19 [==============================] - 0s 24ms/step - loss: 5.4210e-04 - val_loss: 8.2031e-04\n",
            "Epoch 69/100\n",
            "19/19 [==============================] - 1s 36ms/step - loss: 5.6434e-04 - val_loss: 8.4654e-04\n",
            "Epoch 70/100\n",
            "19/19 [==============================] - 1s 39ms/step - loss: 5.4210e-04 - val_loss: 7.9628e-04\n",
            "Epoch 71/100\n",
            "19/19 [==============================] - 1s 40ms/step - loss: 5.4134e-04 - val_loss: 8.2313e-04\n",
            "Epoch 72/100\n",
            "19/19 [==============================] - 1s 41ms/step - loss: 5.6344e-04 - val_loss: 8.2050e-04\n",
            "Epoch 73/100\n",
            "19/19 [==============================] - 1s 42ms/step - loss: 5.5866e-04 - val_loss: 7.8840e-04\n",
            "Epoch 74/100\n",
            "19/19 [==============================] - 1s 40ms/step - loss: 5.1675e-04 - val_loss: 7.9207e-04\n",
            "Epoch 75/100\n",
            "19/19 [==============================] - 1s 26ms/step - loss: 5.1956e-04 - val_loss: 8.2042e-04\n",
            "Epoch 76/100\n",
            "19/19 [==============================] - 0s 25ms/step - loss: 5.3650e-04 - val_loss: 9.0309e-04\n",
            "Epoch 77/100\n",
            "19/19 [==============================] - 0s 25ms/step - loss: 6.0536e-04 - val_loss: 8.2799e-04\n",
            "Epoch 78/100\n",
            "19/19 [==============================] - 0s 25ms/step - loss: 5.4900e-04 - val_loss: 8.0850e-04\n",
            "Epoch 79/100\n",
            "19/19 [==============================] - 0s 25ms/step - loss: 5.2760e-04 - val_loss: 7.9591e-04\n",
            "Epoch 80/100\n",
            "19/19 [==============================] - 0s 24ms/step - loss: 5.3907e-04 - val_loss: 7.8053e-04\n",
            "Epoch 81/100\n",
            "19/19 [==============================] - 0s 25ms/step - loss: 5.1710e-04 - val_loss: 7.8284e-04\n",
            "Epoch 82/100\n",
            "19/19 [==============================] - 0s 24ms/step - loss: 5.2122e-04 - val_loss: 7.8719e-04\n",
            "Epoch 83/100\n",
            "19/19 [==============================] - 0s 26ms/step - loss: 5.1695e-04 - val_loss: 7.7589e-04\n",
            "Epoch 84/100\n",
            "19/19 [==============================] - 0s 25ms/step - loss: 5.1237e-04 - val_loss: 7.7776e-04\n",
            "Epoch 85/100\n",
            "19/19 [==============================] - 0s 25ms/step - loss: 5.0976e-04 - val_loss: 7.7124e-04\n",
            "Epoch 86/100\n",
            "19/19 [==============================] - 0s 25ms/step - loss: 5.1356e-04 - val_loss: 8.5480e-04\n",
            "Epoch 87/100\n",
            "19/19 [==============================] - 0s 24ms/step - loss: 5.2272e-04 - val_loss: 7.7047e-04\n",
            "Epoch 88/100\n",
            "19/19 [==============================] - 0s 25ms/step - loss: 5.2229e-04 - val_loss: 7.8446e-04\n",
            "Epoch 89/100\n",
            "19/19 [==============================] - 1s 27ms/step - loss: 5.1113e-04 - val_loss: 7.7497e-04\n",
            "Epoch 90/100\n",
            "19/19 [==============================] - 0s 25ms/step - loss: 5.1494e-04 - val_loss: 8.3541e-04\n",
            "Epoch 91/100\n",
            "19/19 [==============================] - 0s 25ms/step - loss: 5.1414e-04 - val_loss: 7.6544e-04\n",
            "Epoch 92/100\n",
            "19/19 [==============================] - 0s 26ms/step - loss: 5.3670e-04 - val_loss: 7.7421e-04\n",
            "Epoch 93/100\n",
            "19/19 [==============================] - 0s 25ms/step - loss: 5.0641e-04 - val_loss: 7.8878e-04\n",
            "Epoch 94/100\n",
            "19/19 [==============================] - 0s 26ms/step - loss: 5.0569e-04 - val_loss: 8.0185e-04\n",
            "Epoch 95/100\n",
            "19/19 [==============================] - 0s 25ms/step - loss: 5.1718e-04 - val_loss: 7.6526e-04\n",
            "Epoch 96/100\n",
            "19/19 [==============================] - 1s 40ms/step - loss: 5.1328e-04 - val_loss: 7.6237e-04\n",
            "Epoch 97/100\n",
            "19/19 [==============================] - 1s 40ms/step - loss: 5.2365e-04 - val_loss: 7.5986e-04\n",
            "Epoch 98/100\n",
            "19/19 [==============================] - 1s 39ms/step - loss: 5.0371e-04 - val_loss: 7.7015e-04\n",
            "Epoch 99/100\n",
            "19/19 [==============================] - 1s 40ms/step - loss: 5.1305e-04 - val_loss: 7.9747e-04\n",
            "Epoch 100/100\n",
            "19/19 [==============================] - 1s 39ms/step - loss: 5.0430e-04 - val_loss: 7.6495e-04\n"
          ]
        },
        {
          "output_type": "execute_result",
          "data": {
            "text/plain": [
              "<keras.callbacks.History at 0x7f5d71eaf010>"
            ]
          },
          "metadata": {},
          "execution_count": 10
        }
      ]
    },
    {
      "cell_type": "code",
      "source": [
        "# 10. Dự báo dữ liệu test, val\n",
        "train_predict=model.predict(X_train)\n",
        "y_pred=model.predict(X_test)\n",
        "y_pred_val=model.predict(X_val)\n"
      ],
      "metadata": {
        "id": "I0D55k2u1JBd",
        "colab": {
          "base_uri": "https://localhost:8080/"
        },
        "outputId": "b1ee50a2-c91c-4022-81ca-6a26fa1d16fa"
      },
      "execution_count": 11,
      "outputs": [
        {
          "output_type": "stream",
          "name": "stdout",
          "text": [
            "23/23 [==============================] - 1s 7ms/step\n",
            "6/6 [==============================] - 0s 6ms/step\n",
            "3/3 [==============================] - 0s 8ms/step\n"
          ]
        }
      ]
    },
    {
      "cell_type": "code",
      "source": [
        "# 11. Chuẩn hóa dữ liệu y_pred, y_pred_val\n",
        "train_predict=scaler.inverse_transform(train_predict)\n",
        "y_pred=scaler.inverse_transform(y_pred)\n",
        "y_pred_val=scaler.inverse_transform(y_pred_val)\n",
        "original_ytest = scaler.inverse_transform(ytest.reshape(-1,1)) \n",
        "original_yval = scaler.inverse_transform(yval.reshape(-1,1)) "
      ],
      "metadata": {
        "id": "twGDWDtNU7u5"
      },
      "execution_count": 12,
      "outputs": []
    },
    {
      "cell_type": "code",
      "source": [
        "# 12. Đánh giá độ chính xác thuật toán bằng RMSE\n",
        "valid_rmse = np.sqrt(np.mean((y_pred_val - original_yval)**2))\n",
        "test_rmse = np.sqrt(np.mean((y_pred - original_ytest)**2))\n",
        "print(f\"Validation RMSE: {valid_rmse:.2f}\")\n",
        "print(f\"Testing RMSE: {test_rmse:.2f}\")"
      ],
      "metadata": {
        "id": "CyTTUHma3aEw",
        "colab": {
          "base_uri": "https://localhost:8080/"
        },
        "outputId": "841efba6-260b-4244-9c15-fcb577b219f1"
      },
      "execution_count": 13,
      "outputs": [
        {
          "output_type": "stream",
          "name": "stdout",
          "text": [
            "Validation RMSE: 1195.20\n",
            "Testing RMSE: 1516.72\n"
          ]
        }
      ]
    },
    {
      "cell_type": "code",
      "source": [
        "# 13. Đánh giá độ chính xác thuật toán bằng MAE\n",
        "valid_mae = mean_absolute_error(original_yval, y_pred_val)\n",
        "test_mae = mean_absolute_error(original_ytest, y_pred)\n",
        "print(f\"Validation MAE: {valid_mae:.2f}\")\n",
        "print(f\"Testing MAE: {test_mae:.2f}\")"
      ],
      "metadata": {
        "id": "NeSJdDlCt2nX",
        "colab": {
          "base_uri": "https://localhost:8080/"
        },
        "outputId": "e9940b3f-f05e-45ce-9fac-a8399f7903e5"
      },
      "execution_count": 14,
      "outputs": [
        {
          "output_type": "stream",
          "name": "stdout",
          "text": [
            "Validation MAE: 903.99\n",
            "Testing MAE: 1147.14\n"
          ]
        }
      ]
    },
    {
      "cell_type": "code",
      "source": [
        "# 14. Đánh giá độ chính xác thuật toán bằng MAPE\n",
        "valid_mape = mean_absolute_percentage_error(original_yval, y_pred_val)\n",
        "test_mape = mean_absolute_percentage_error(original_ytest,y_pred)\n",
        "print(f\"Validation MAPE: {valid_mape* 100:.2f}%\")\n",
        "print(f\"Testing MAPE: {test_mape*100:.2f}%\")"
      ],
      "metadata": {
        "id": "QZLaPLQyxHxJ",
        "colab": {
          "base_uri": "https://localhost:8080/"
        },
        "outputId": "9d360a94-4710-4bfb-c228-fe47a4051abe"
      },
      "execution_count": 15,
      "outputs": [
        {
          "output_type": "stream",
          "name": "stdout",
          "text": [
            "Validation MAPE: 1.00%\n",
            "Testing MAPE: 1.51%\n"
          ]
        }
      ]
    },
    {
      "cell_type": "code",
      "source": [
        "# 14.Vẽ hình\n",
        "plt.figure(figsize=(16,9))\n",
        "plt.ylabel('Closing Price');\n",
        "plt.xlabel('Date');\n",
        "plt.title('GRU VCB 7-2-1')\n",
        "train_index = df[:train_size].index\n",
        "plt.plot(train_index,scaler.inverse_transform(train_data))\n",
        "#test\n",
        "test_index = df[train_size:train_size+test_size].index\n",
        "plt.plot(test_index,scaler.inverse_transform(test_data))\n",
        "#test predict\n",
        "test_predict_index = df[train_size+41:train_size+test_size].index\n",
        "plt.plot(test_predict_index,(y_pred))\n",
        "#val\n",
        "val_index = df[train_size+test_size:train_size+test_size+val_size].index\n",
        "plt.plot(val_index,scaler.inverse_transform(val_data))\n",
        "#val predict\n",
        "val_predict_index = df[train_size+test_size+41:train_size+test_size+val_size].index\n",
        "plt.plot(val_predict_index,y_pred_val)\n",
        "#prediect_data_index = pd.RangeIndex(start=len(df)-1, stop=len(df)+29, step=1)\n",
        "#plt.plot(prediect_data_index,scaler.inverse_transform(lst_output))\n",
        "plt.legend(['Train','Test','Predict','Validate','ValidatePred'])\n",
        "plt.show()"
      ],
      "metadata": {
        "id": "R95H9WzX3WKu",
        "colab": {
          "base_uri": "https://localhost:8080/",
          "height": 795
        },
        "outputId": "07087682-be9e-451e-9903-7e455ccdef80"
      },
      "execution_count": 16,
      "outputs": [
        {
          "output_type": "display_data",
          "data": {
            "text/plain": [
              "<Figure size 1600x900 with 1 Axes>"
            ],
            "image/png": "[encoded data removed]"
          },
          "metadata": {}
        }
      ]
    },
    {
      "cell_type": "code",
      "source": [],
      "metadata": {
        "id": "q6n9e-rNbTk5"
      },
      "execution_count": 16,
      "outputs": []
    }
  ]
}